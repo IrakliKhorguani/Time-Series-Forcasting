{
 "cells": [
  {
   "cell_type": "code",
   "execution_count": 345,
   "metadata": {},
   "outputs": [],
   "source": [
    "from statsmodels.graphics.tsaplots import plot_acf, plot_pacf\n",
    "from statsmodels.tsa.statespace.varmax import VARMAX\n",
    "from statsmodels.tsa.api import VAR\n",
    "from statsmodels.tsa.stattools import grangercausalitytests, adfuller\n",
    "from tqdm import tqdm_notebook\n",
    "from itertools import product\n",
    "from sklearn.metrics import mean_absolute_error\n",
    "\n",
    "import matplotlib.pyplot as plt\n",
    "import statsmodels.api as sm\n",
    "import pandas as pd\n",
    "import numpy as np\n",
    "import seaborn as sns"
   ]
  },
  {
   "cell_type": "markdown",
   "metadata": {},
   "source": [
    "# Import first data and clean it"
   ]
  },
  {
   "cell_type": "code",
   "execution_count": 346,
   "metadata": {
    "scrolled": true
   },
   "outputs": [
    {
     "data": {
      "text/html": [
       "<div>\n",
       "<style scoped>\n",
       "    .dataframe tbody tr th:only-of-type {\n",
       "        vertical-align: middle;\n",
       "    }\n",
       "\n",
       "    .dataframe tbody tr th {\n",
       "        vertical-align: top;\n",
       "    }\n",
       "\n",
       "    .dataframe thead th {\n",
       "        text-align: right;\n",
       "    }\n",
       "</style>\n",
       "<table border=\"1\" class=\"dataframe\">\n",
       "  <thead>\n",
       "    <tr style=\"text-align: right;\">\n",
       "      <th></th>\n",
       "      <th>datesold</th>\n",
       "      <th>postcode</th>\n",
       "      <th>price</th>\n",
       "      <th>propertyType</th>\n",
       "      <th>bedrooms</th>\n",
       "    </tr>\n",
       "  </thead>\n",
       "  <tbody>\n",
       "    <tr>\n",
       "      <th>0</th>\n",
       "      <td>2007-02-07 00:00:00</td>\n",
       "      <td>2607</td>\n",
       "      <td>525000</td>\n",
       "      <td>house</td>\n",
       "      <td>4</td>\n",
       "    </tr>\n",
       "    <tr>\n",
       "      <th>1</th>\n",
       "      <td>2007-02-27 00:00:00</td>\n",
       "      <td>2906</td>\n",
       "      <td>290000</td>\n",
       "      <td>house</td>\n",
       "      <td>3</td>\n",
       "    </tr>\n",
       "    <tr>\n",
       "      <th>2</th>\n",
       "      <td>2007-03-07 00:00:00</td>\n",
       "      <td>2905</td>\n",
       "      <td>328000</td>\n",
       "      <td>house</td>\n",
       "      <td>3</td>\n",
       "    </tr>\n",
       "    <tr>\n",
       "      <th>3</th>\n",
       "      <td>2007-03-09 00:00:00</td>\n",
       "      <td>2905</td>\n",
       "      <td>380000</td>\n",
       "      <td>house</td>\n",
       "      <td>4</td>\n",
       "    </tr>\n",
       "    <tr>\n",
       "      <th>4</th>\n",
       "      <td>2007-03-21 00:00:00</td>\n",
       "      <td>2906</td>\n",
       "      <td>310000</td>\n",
       "      <td>house</td>\n",
       "      <td>3</td>\n",
       "    </tr>\n",
       "  </tbody>\n",
       "</table>\n",
       "</div>"
      ],
      "text/plain": [
       "              datesold  postcode   price propertyType  bedrooms\n",
       "0  2007-02-07 00:00:00      2607  525000        house         4\n",
       "1  2007-02-27 00:00:00      2906  290000        house         3\n",
       "2  2007-03-07 00:00:00      2905  328000        house         3\n",
       "3  2007-03-09 00:00:00      2905  380000        house         4\n",
       "4  2007-03-21 00:00:00      2906  310000        house         3"
      ]
     },
     "execution_count": 346,
     "metadata": {},
     "output_type": "execute_result"
    }
   ],
   "source": [
    "df = pd.read_csv('raw_sales.csv')\n",
    "df.head()"
   ]
  },
  {
   "cell_type": "code",
   "execution_count": 347,
   "metadata": {},
   "outputs": [
    {
     "name": "stdout",
     "output_type": "stream",
     "text": [
      "<class 'pandas.core.frame.DataFrame'>\n",
      "RangeIndex: 29580 entries, 0 to 29579\n",
      "Data columns (total 5 columns):\n",
      " #   Column        Non-Null Count  Dtype \n",
      "---  ------        --------------  ----- \n",
      " 0   datesold      29580 non-null  object\n",
      " 1   postcode      29580 non-null  int64 \n",
      " 2   price         29580 non-null  int64 \n",
      " 3   propertyType  29580 non-null  object\n",
      " 4   bedrooms      29580 non-null  int64 \n",
      "dtypes: int64(3), object(2)\n",
      "memory usage: 1.1+ MB\n"
     ]
    }
   ],
   "source": [
    "df.info()"
   ]
  },
  {
   "cell_type": "markdown",
   "metadata": {},
   "source": [
    "In order to access to the time, we need to convert the type of the column 'datesold' from object to datetime."
   ]
  },
  {
   "cell_type": "code",
   "execution_count": 348,
   "metadata": {},
   "outputs": [],
   "source": [
    "df['datesold'] = pd.to_datetime(df['datesold'], infer_datetime_format=True)"
   ]
  },
  {
   "cell_type": "code",
   "execution_count": 349,
   "metadata": {},
   "outputs": [
    {
     "data": {
      "text/plain": [
       "(29580, 5)"
      ]
     },
     "execution_count": 349,
     "metadata": {},
     "output_type": "execute_result"
    }
   ],
   "source": [
    "df.shape"
   ]
  },
  {
   "cell_type": "code",
   "execution_count": 350,
   "metadata": {},
   "outputs": [
    {
     "data": {
      "text/plain": [
       "datesold        0\n",
       "postcode        0\n",
       "price           0\n",
       "propertyType    0\n",
       "bedrooms        0\n",
       "dtype: int64"
      ]
     },
     "execution_count": 350,
     "metadata": {},
     "output_type": "execute_result"
    }
   ],
   "source": [
    "df.isnull().sum()"
   ]
  },
  {
   "cell_type": "markdown",
   "metadata": {},
   "source": [
    "Let's drop the column 'postcode' which is useless for our work."
   ]
  },
  {
   "cell_type": "code",
   "execution_count": 351,
   "metadata": {},
   "outputs": [],
   "source": [
    "df.drop('postcode', axis = 1, inplace= True)"
   ]
  },
  {
   "cell_type": "markdown",
   "metadata": {},
   "source": [
    "We need to verify that the column 'bedrooms' has only value from 1 to 5. If there is another value, we will drop the value."
   ]
  },
  {
   "cell_type": "code",
   "execution_count": 352,
   "metadata": {},
   "outputs": [
    {
     "data": {
      "text/plain": [
       "array([4, 3, 5, 1, 2, 0])"
      ]
     },
     "execution_count": 352,
     "metadata": {},
     "output_type": "execute_result"
    }
   ],
   "source": [
    "df['bedrooms'].unique()"
   ]
  },
  {
   "cell_type": "code",
   "execution_count": 353,
   "metadata": {},
   "outputs": [],
   "source": [
    "# We do not have houses or units without bedrooms so we can drop it\n",
    "df = df[df['bedrooms']!= 0]"
   ]
  },
  {
   "cell_type": "code",
   "execution_count": 354,
   "metadata": {},
   "outputs": [
    {
     "data": {
      "text/plain": [
       "(29550, 4)"
      ]
     },
     "execution_count": 354,
     "metadata": {},
     "output_type": "execute_result"
    }
   ],
   "source": [
    "df.shape"
   ]
  },
  {
   "cell_type": "markdown",
   "metadata": {},
   "source": [
    "# EDA"
   ]
  },
  {
   "cell_type": "markdown",
   "metadata": {},
   "source": [
    "### Price depending on the number of bedrooms and type of property"
   ]
  },
  {
   "cell_type": "markdown",
   "metadata": {},
   "source": [
    "Let's do some visualization to see how the mean price varies depending on the number of bedrooms and the type of property.\n",
    "\n",
    "First, let's see the proportion of houses and units in the data."
   ]
  },
  {
   "cell_type": "code",
   "execution_count": 355,
   "metadata": {
    "scrolled": false
   },
   "outputs": [
    {
     "data": {
      "text/plain": [
       "([<matplotlib.patches.Wedge at 0x163887350>,\n",
       "  <matplotlib.patches.Wedge at 0x163e21050>],\n",
       " [Text(-0.9472029821014432, 0.5592910786863431, 'house'),\n",
       "  Text(0.9472030082837474, -0.5592910343445704, 'unit')],\n",
       " [Text(-0.5166561720553325, 0.3050678611016417, '83.0%'),\n",
       "  Text(0.5166561863365894, -0.3050678369152202, '17.0%')])"
      ]
     },
     "execution_count": 355,
     "metadata": {},
     "output_type": "execute_result"
    },
    {
     "data": {
      "image/png": "[encoded data removed]",
      "text/plain": [
       "<Figure size 432x288 with 1 Axes>"
      ]
     },
     "metadata": {},
     "output_type": "display_data"
    }
   ],
   "source": [
    "plt.pie(df['propertyType'].value_counts(), labels=['house','unit'], autopct='%1.1f%%')"
   ]
  },
  {
   "cell_type": "markdown",
   "metadata": {},
   "source": [
    "It seems that more than 80% of the data is for house property."
   ]
  },
  {
   "cell_type": "markdown",
   "metadata": {},
   "source": [
    "It is also very important to see the number of different bedrooms that are in each type of property in order to better understand the performance of the future models on each time series. Indeed, if we don't have enough data on a particular size of property, it is more likely that we forecast poorly."
   ]
  },
  {
   "cell_type": "code",
   "execution_count": 362,
   "metadata": {},
   "outputs": [
    {
     "data": {
      "text/plain": [
       "(array([2, 1, 3, 4, 5]), <a list of 5 Text xticklabel objects>)"
      ]
     },
     "execution_count": 362,
     "metadata": {},
     "output_type": "execute_result"
    },
    {
     "data": {
      "image/png": "[encoded data removed]",
      "text/plain": [
       "<Figure size 720x288 with 2 Axes>"
      ]
     },
     "metadata": {
      "needs_background": "light"
     },
     "output_type": "display_data"
    }
   ],
   "source": [
    "f = plt.figure(figsize=(10,4))\n",
    "\n",
    "ax = f.add_subplot(1,2,1)\n",
    "\n",
    "\n",
    "\n",
    "ax = df[df['propertyType']=='house']['bedrooms'].value_counts().plot(kind='bar')\n",
    "plt.title('Number of houses of each size')\n",
    "plt.xticks(rotation = 0)\n",
    "\n",
    "ax2 = f.add_subplot(1,2,2)\n",
    "ax2 = df[df['propertyType']=='unit']['bedrooms'].value_counts().plot(kind='bar')\n",
    "plt.title('Number of units of each size')\n",
    "plt.xticks(rotation = 0)\n",
    "\n"
   ]
  },
  {
   "cell_type": "markdown",
   "metadata": {},
   "source": [
    "It seems that for houses with 1,2 and 5 bedrooms, we do not have enough data compared to 3 and 4 bedrooms. In the units, it seems that 4 and 5 bedrooms size sales are not well represented compared to the ones with 1 and 2 bedrooms. Once again, the final forecast would probably perform well on those which have the more data."
   ]
  },
  {
   "cell_type": "markdown",
   "metadata": {},
   "source": [
    "Now, let's visualize the mean price for each type of property."
   ]
  },
  {
   "cell_type": "code",
   "execution_count": 357,
   "metadata": {},
   "outputs": [
    {
     "data": {
      "text/plain": [
       "Text(0.5, 1.0, 'Mean price for each kind of property and number of bedroom')"
      ]
     },
     "execution_count": 357,
     "metadata": {},
     "output_type": "execute_result"
    },
    {
     "data": {
      "text/plain": [
       "<Figure size 432x288 with 0 Axes>"
      ]
     },
     "metadata": {},
     "output_type": "display_data"
    },
    {
     "data": {
      "image/png": "[encoded data removed]",
      "text/plain": [
       "<Figure size 432x288 with 1 Axes>"
      ]
     },
     "metadata": {
      "needs_background": "light"
     },
     "output_type": "display_data"
    }
   ],
   "source": [
    "plt.figure()\n",
    "df.groupby(['propertyType','bedrooms']).mean().plot(kind = 'bar')\n",
    "plt.title('Mean price for each kind of property and number of bedroom')"
   ]
  },
  {
   "cell_type": "markdown",
   "metadata": {},
   "source": [
    "We can see that the price is increasing with the number of bedrooms. \n",
    "\n",
    "Now, let's compare the statistics of the price for each property:"
   ]
  },
  {
   "cell_type": "code",
   "execution_count": 358,
   "metadata": {},
   "outputs": [
    {
     "data": {
      "text/plain": [
       "<matplotlib.axes._subplots.AxesSubplot at 0x164ed01d0>"
      ]
     },
     "execution_count": 358,
     "metadata": {},
     "output_type": "execute_result"
    },
    {
     "data": {
      "image/png": "[encoded data removed]",
      "text/plain": [
       "<Figure size 432x288 with 1 Axes>"
      ]
     },
     "metadata": {
      "needs_background": "light"
     },
     "output_type": "display_data"
    }
   ],
   "source": [
    "sns.boxplot(data = df, x='propertyType', y = 'price')"
   ]
  },
  {
   "cell_type": "markdown",
   "metadata": {},
   "source": [
    "In the boxplot above, we can observe that the price of houses has more outliers and the median price of all the houses is higher than the median price of all units. It is important to identify that there are many outliers because this would allow us to choose the most appropriate metric to evualte the future models.\n"
   ]
  },
  {
   "cell_type": "code",
   "execution_count": 359,
   "metadata": {},
   "outputs": [
    {
     "data": {
      "text/plain": [
       "count    2.955000e+04\n",
       "mean     6.098047e+05\n",
       "std      2.817045e+05\n",
       "min      5.650000e+04\n",
       "25%      4.400000e+05\n",
       "50%      5.500000e+05\n",
       "75%      7.050000e+05\n",
       "max      8.000000e+06\n",
       "Name: price, dtype: float64"
      ]
     },
     "execution_count": 359,
     "metadata": {},
     "output_type": "execute_result"
    }
   ],
   "source": [
    "df['price'].describe()"
   ]
  },
  {
   "cell_type": "markdown",
   "metadata": {},
   "source": [
    "### Evolution of the price"
   ]
  },
  {
   "cell_type": "markdown",
   "metadata": {},
   "source": [
    "Now, we will focus on the evolution of the mean price of every type of properties.\n",
    "\n",
    "To do so, we will first group by the mean price for each month by creating a new dataframe 'dfm'."
   ]
  },
  {
   "cell_type": "code",
   "execution_count": 360,
   "metadata": {},
   "outputs": [
    {
     "data": {
      "text/html": [
       "<div>\n",
       "<style scoped>\n",
       "    .dataframe tbody tr th:only-of-type {\n",
       "        vertical-align: middle;\n",
       "    }\n",
       "\n",
       "    .dataframe tbody tr th {\n",
       "        vertical-align: top;\n",
       "    }\n",
       "\n",
       "    .dataframe thead th {\n",
       "        text-align: right;\n",
       "    }\n",
       "</style>\n",
       "<table border=\"1\" class=\"dataframe\">\n",
       "  <thead>\n",
       "    <tr style=\"text-align: right;\">\n",
       "      <th></th>\n",
       "      <th>price</th>\n",
       "      <th>bedrooms</th>\n",
       "    </tr>\n",
       "    <tr>\n",
       "      <th>datesold</th>\n",
       "      <th></th>\n",
       "      <th></th>\n",
       "    </tr>\n",
       "  </thead>\n",
       "  <tbody>\n",
       "    <tr>\n",
       "      <th>2007-02-28</th>\n",
       "      <td>407500.000000</td>\n",
       "      <td>3.500000</td>\n",
       "    </tr>\n",
       "    <tr>\n",
       "      <th>2007-03-31</th>\n",
       "      <td>339333.333333</td>\n",
       "      <td>3.333333</td>\n",
       "    </tr>\n",
       "    <tr>\n",
       "      <th>2007-04-30</th>\n",
       "      <td>798000.000000</td>\n",
       "      <td>3.666667</td>\n",
       "    </tr>\n",
       "    <tr>\n",
       "      <th>2007-05-31</th>\n",
       "      <td>339500.000000</td>\n",
       "      <td>3.000000</td>\n",
       "    </tr>\n",
       "    <tr>\n",
       "      <th>2007-06-30</th>\n",
       "      <td>520333.333333</td>\n",
       "      <td>3.333333</td>\n",
       "    </tr>\n",
       "  </tbody>\n",
       "</table>\n",
       "</div>"
      ],
      "text/plain": [
       "                    price  bedrooms\n",
       "datesold                           \n",
       "2007-02-28  407500.000000  3.500000\n",
       "2007-03-31  339333.333333  3.333333\n",
       "2007-04-30  798000.000000  3.666667\n",
       "2007-05-31  339500.000000  3.000000\n",
       "2007-06-30  520333.333333  3.333333"
      ]
     },
     "execution_count": 360,
     "metadata": {},
     "output_type": "execute_result"
    }
   ],
   "source": [
    "dfm = df.set_index('datesold')\n",
    "dfm = dfm.resample('M').mean()\n",
    "dfm.head()"
   ]
  },
  {
   "cell_type": "code",
   "execution_count": 361,
   "metadata": {},
   "outputs": [
    {
     "data": {
      "image/png": "[encoded data removed]",
      "text/plain": [
       "<Figure size 864x432 with 1 Axes>"
      ]
     },
     "metadata": {
      "needs_background": "light"
     },
     "output_type": "display_data"
    }
   ],
   "source": [
    "fig, ax = plt.subplots(figsize=(12,6))\n",
    "dfm['price'].plot()\n",
    "plt.title('Evolution of the mean price')\n",
    "plt.ylabel('Price')\n",
    "plt.xlabel('Year')\n",
    "plt.show()"
   ]
  },
  {
   "cell_type": "markdown",
   "metadata": {},
   "source": [
    "We can observe that in late 2007, there were a lot of variation of the price. It is coherent with the financial crisis that took place at this time period. "
   ]
  },
  {
   "cell_type": "markdown",
   "metadata": {},
   "source": [
    "# Second Dataset"
   ]
  },
  {
   "cell_type": "markdown",
   "metadata": {},
   "source": [
    "Now that we have a better overall insight of the data, we will focus on the clean dataset."
   ]
  },
  {
   "cell_type": "code",
   "execution_count": 364,
   "metadata": {},
   "outputs": [],
   "source": [
    "# Import the dataset\n",
    "df = pd.read_csv('ma_lga_12345.csv')"
   ]
  },
  {
   "cell_type": "code",
   "execution_count": 365,
   "metadata": {},
   "outputs": [],
   "source": [
    "# Transform the data in the datetime type\n",
    "df['saledate'] = pd.to_datetime(df['saledate'])"
   ]
  },
  {
   "cell_type": "code",
   "execution_count": 366,
   "metadata": {},
   "outputs": [
    {
     "data": {
      "text/html": [
       "<div>\n",
       "<style scoped>\n",
       "    .dataframe tbody tr th:only-of-type {\n",
       "        vertical-align: middle;\n",
       "    }\n",
       "\n",
       "    .dataframe tbody tr th {\n",
       "        vertical-align: top;\n",
       "    }\n",
       "\n",
       "    .dataframe thead th {\n",
       "        text-align: right;\n",
       "    }\n",
       "</style>\n",
       "<table border=\"1\" class=\"dataframe\">\n",
       "  <thead>\n",
       "    <tr style=\"text-align: right;\">\n",
       "      <th></th>\n",
       "      <th>saledate</th>\n",
       "      <th>MA</th>\n",
       "      <th>type</th>\n",
       "      <th>bedrooms</th>\n",
       "    </tr>\n",
       "  </thead>\n",
       "  <tbody>\n",
       "    <tr>\n",
       "      <th>0</th>\n",
       "      <td>2007-09-30</td>\n",
       "      <td>441854</td>\n",
       "      <td>house</td>\n",
       "      <td>2</td>\n",
       "    </tr>\n",
       "    <tr>\n",
       "      <th>1</th>\n",
       "      <td>2007-12-31</td>\n",
       "      <td>441854</td>\n",
       "      <td>house</td>\n",
       "      <td>2</td>\n",
       "    </tr>\n",
       "    <tr>\n",
       "      <th>2</th>\n",
       "      <td>2008-03-31</td>\n",
       "      <td>441854</td>\n",
       "      <td>house</td>\n",
       "      <td>2</td>\n",
       "    </tr>\n",
       "    <tr>\n",
       "      <th>3</th>\n",
       "      <td>2008-06-30</td>\n",
       "      <td>441854</td>\n",
       "      <td>house</td>\n",
       "      <td>2</td>\n",
       "    </tr>\n",
       "    <tr>\n",
       "      <th>4</th>\n",
       "      <td>2008-09-30</td>\n",
       "      <td>451583</td>\n",
       "      <td>house</td>\n",
       "      <td>2</td>\n",
       "    </tr>\n",
       "  </tbody>\n",
       "</table>\n",
       "</div>"
      ],
      "text/plain": [
       "    saledate      MA   type  bedrooms\n",
       "0 2007-09-30  441854  house         2\n",
       "1 2007-12-31  441854  house         2\n",
       "2 2008-03-31  441854  house         2\n",
       "3 2008-06-30  441854  house         2\n",
       "4 2008-09-30  451583  house         2"
      ]
     },
     "execution_count": 366,
     "metadata": {},
     "output_type": "execute_result"
    }
   ],
   "source": [
    "df.head()"
   ]
  },
  {
   "cell_type": "code",
   "execution_count": 367,
   "metadata": {},
   "outputs": [
    {
     "name": "stdout",
     "output_type": "stream",
     "text": [
      "<class 'pandas.core.frame.DataFrame'>\n",
      "RangeIndex: 347 entries, 0 to 346\n",
      "Data columns (total 4 columns):\n",
      " #   Column    Non-Null Count  Dtype         \n",
      "---  ------    --------------  -----         \n",
      " 0   saledate  347 non-null    datetime64[ns]\n",
      " 1   MA        347 non-null    int64         \n",
      " 2   type      347 non-null    object        \n",
      " 3   bedrooms  347 non-null    int64         \n",
      "dtypes: datetime64[ns](1), int64(2), object(1)\n",
      "memory usage: 11.0+ KB\n"
     ]
    }
   ],
   "source": [
    "df.info()"
   ]
  },
  {
   "cell_type": "code",
   "execution_count": 368,
   "metadata": {},
   "outputs": [
    {
     "data": {
      "text/plain": [
       "saledate    0\n",
       "MA          0\n",
       "type        0\n",
       "bedrooms    0\n",
       "dtype: int64"
      ]
     },
     "execution_count": 368,
     "metadata": {},
     "output_type": "execute_result"
    }
   ],
   "source": [
    "df.isnull().sum()"
   ]
  },
  {
   "cell_type": "markdown",
   "metadata": {},
   "source": [
    "# EDA with new data"
   ]
  },
  {
   "cell_type": "markdown",
   "metadata": {},
   "source": [
    "Before jumping into complex models, let's understand the new data. First, we will analyse the number of different bedrooms size for each property."
   ]
  },
  {
   "cell_type": "code",
   "execution_count": 370,
   "metadata": {},
   "outputs": [
    {
     "data": {
      "text/plain": [
       "([<matplotlib.patches.Wedge at 0x15cc91bd0>,\n",
       "  <matplotlib.patches.Wedge at 0x15cbc0b50>],\n",
       " [Text(-0.26138727775730597, 1.0684927192202225, 'house'),\n",
       "  Text(0.261387277757306, -1.0684927192202225, 'unit')],\n",
       " [Text(-0.14257487877671232, 0.5828142104837577, '57.6%'),\n",
       "  Text(0.14257487877671238, -0.5828142104837577, '42.4%')])"
      ]
     },
     "execution_count": 370,
     "metadata": {},
     "output_type": "execute_result"
    },
    {
     "data": {
      "image/png": "[encoded data removed]",
      "text/plain": [
       "<Figure size 432x288 with 1 Axes>"
      ]
     },
     "metadata": {},
     "output_type": "display_data"
    }
   ],
   "source": [
    "plt.pie(df['type'].value_counts(), labels=['house','unit'], autopct='%1.1f%%')"
   ]
  },
  {
   "cell_type": "code",
   "execution_count": 369,
   "metadata": {},
   "outputs": [
    {
     "data": {
      "text/plain": [
       "Text(0.5, 0, 'Number of bedrooms')"
      ]
     },
     "execution_count": 369,
     "metadata": {},
     "output_type": "execute_result"
    },
    {
     "data": {
      "image/png": "[encoded data removed]",
      "text/plain": [
       "<Figure size 720x288 with 2 Axes>"
      ]
     },
     "metadata": {
      "needs_background": "light"
     },
     "output_type": "display_data"
    }
   ],
   "source": [
    "# Plot the bar graph for each property and number of bedrooms\n",
    "f = plt.figure(figsize=(10,4))\n",
    "\n",
    "ax = f.add_subplot(1,2,1)\n",
    "\n",
    "ax = df[df['type']=='house']['bedrooms'].value_counts().plot(kind='bar')\n",
    "plt.title('Number of houses of each size')\n",
    "plt.xticks(rotation = 0)\n",
    "plt.xlabel('Number of bedrooms')\n",
    "\n",
    "ax2 = f.add_subplot(1,2,2)\n",
    "ax2 = df[df['type']=='unit']['bedrooms'].value_counts().plot(kind='bar')\n",
    "plt.title('Number of units of each size')\n",
    "plt.xticks(rotation = 0)\n",
    "plt.xlabel('Number of bedrooms')"
   ]
  },
  {
   "cell_type": "markdown",
   "metadata": {},
   "source": [
    "In this cleaned dataset, we don't have houses with 1 bedroom anymore as well as units with 4 and 5 bedrooms. Moreover, it seems that the proportion of each size of property is almost equal and thus well balanced."
   ]
  },
  {
   "cell_type": "markdown",
   "metadata": {},
   "source": [
    "# Dataset transformation"
   ]
  },
  {
   "cell_type": "markdown",
   "metadata": {},
   "source": [
    "In order to forecast the price for the 8 future quarters for each type and size of property, we need to modify the dataframe. Indeed, we need a dataframe with each column being the mean price of a particular size and type of property. Moreover, the dataframe should be grouped by quarters.\n",
    "\n",
    "We will thus create a pivot table for houses and a pivot table for units where the columns would be the mean price for each number of bedroom. For missing values, we will use a linear interpolation."
   ]
  },
  {
   "cell_type": "code",
   "execution_count": 8,
   "metadata": {},
   "outputs": [
    {
     "data": {
      "text/html": [
       "<div>\n",
       "<style scoped>\n",
       "    .dataframe tbody tr th:only-of-type {\n",
       "        vertical-align: middle;\n",
       "    }\n",
       "\n",
       "    .dataframe tbody tr th {\n",
       "        vertical-align: top;\n",
       "    }\n",
       "\n",
       "    .dataframe thead th {\n",
       "        text-align: right;\n",
       "    }\n",
       "</style>\n",
       "<table border=\"1\" class=\"dataframe\">\n",
       "  <thead>\n",
       "    <tr style=\"text-align: right;\">\n",
       "      <th>bedrooms</th>\n",
       "      <th>2</th>\n",
       "      <th>3</th>\n",
       "      <th>4</th>\n",
       "      <th>5</th>\n",
       "    </tr>\n",
       "    <tr>\n",
       "      <th>saledate</th>\n",
       "      <th></th>\n",
       "      <th></th>\n",
       "      <th></th>\n",
       "      <th></th>\n",
       "    </tr>\n",
       "  </thead>\n",
       "  <tbody>\n",
       "    <tr>\n",
       "      <th>2007-03-31</th>\n",
       "      <td>441854.0</td>\n",
       "      <td>421291.0</td>\n",
       "      <td>548969.0</td>\n",
       "      <td>735904.0</td>\n",
       "    </tr>\n",
       "    <tr>\n",
       "      <th>2007-06-30</th>\n",
       "      <td>441854.0</td>\n",
       "      <td>421291.0</td>\n",
       "      <td>548969.0</td>\n",
       "      <td>735904.0</td>\n",
       "    </tr>\n",
       "    <tr>\n",
       "      <th>2007-09-30</th>\n",
       "      <td>441854.0</td>\n",
       "      <td>421291.0</td>\n",
       "      <td>548969.0</td>\n",
       "      <td>735904.0</td>\n",
       "    </tr>\n",
       "    <tr>\n",
       "      <th>2007-12-31</th>\n",
       "      <td>441854.0</td>\n",
       "      <td>421291.0</td>\n",
       "      <td>548969.0</td>\n",
       "      <td>735904.0</td>\n",
       "    </tr>\n",
       "    <tr>\n",
       "      <th>2008-03-31</th>\n",
       "      <td>441854.0</td>\n",
       "      <td>416031.0</td>\n",
       "      <td>552484.0</td>\n",
       "      <td>735904.0</td>\n",
       "    </tr>\n",
       "  </tbody>\n",
       "</table>\n",
       "</div>"
      ],
      "text/plain": [
       "bedrooms           2         3         4         5\n",
       "saledate                                          \n",
       "2007-03-31  441854.0  421291.0  548969.0  735904.0\n",
       "2007-06-30  441854.0  421291.0  548969.0  735904.0\n",
       "2007-09-30  441854.0  421291.0  548969.0  735904.0\n",
       "2007-12-31  441854.0  421291.0  548969.0  735904.0\n",
       "2008-03-31  441854.0  416031.0  552484.0  735904.0"
      ]
     },
     "execution_count": 8,
     "metadata": {},
     "output_type": "execute_result"
    }
   ],
   "source": [
    "# Create the pivot table for houses\n",
    "df_house = df[df.type=='house']\n",
    "df_house = df_house.pivot(index='saledate', columns='bedrooms', values='MA').interpolate(method='linear', limit_direction='both')\n",
    "df_house.head()"
   ]
  },
  {
   "cell_type": "code",
   "execution_count": 9,
   "metadata": {
    "scrolled": true
   },
   "outputs": [
    {
     "data": {
      "text/html": [
       "<div>\n",
       "<style scoped>\n",
       "    .dataframe tbody tr th:only-of-type {\n",
       "        vertical-align: middle;\n",
       "    }\n",
       "\n",
       "    .dataframe tbody tr th {\n",
       "        vertical-align: top;\n",
       "    }\n",
       "\n",
       "    .dataframe thead th {\n",
       "        text-align: right;\n",
       "    }\n",
       "</style>\n",
       "<table border=\"1\" class=\"dataframe\">\n",
       "  <thead>\n",
       "    <tr style=\"text-align: right;\">\n",
       "      <th>bedrooms</th>\n",
       "      <th>1</th>\n",
       "      <th>2</th>\n",
       "      <th>3</th>\n",
       "    </tr>\n",
       "    <tr>\n",
       "      <th>saledate</th>\n",
       "      <th></th>\n",
       "      <th></th>\n",
       "      <th></th>\n",
       "    </tr>\n",
       "  </thead>\n",
       "  <tbody>\n",
       "    <tr>\n",
       "      <th>2007-06-30</th>\n",
       "      <td>326076.0</td>\n",
       "      <td>368817.0</td>\n",
       "      <td>518911.0</td>\n",
       "    </tr>\n",
       "    <tr>\n",
       "      <th>2007-09-30</th>\n",
       "      <td>326076.0</td>\n",
       "      <td>368817.0</td>\n",
       "      <td>518911.0</td>\n",
       "    </tr>\n",
       "    <tr>\n",
       "      <th>2007-12-31</th>\n",
       "      <td>326076.0</td>\n",
       "      <td>368817.0</td>\n",
       "      <td>518911.0</td>\n",
       "    </tr>\n",
       "    <tr>\n",
       "      <th>2008-03-31</th>\n",
       "      <td>326076.0</td>\n",
       "      <td>368817.0</td>\n",
       "      <td>518911.0</td>\n",
       "    </tr>\n",
       "    <tr>\n",
       "      <th>2008-06-30</th>\n",
       "      <td>326076.0</td>\n",
       "      <td>373482.0</td>\n",
       "      <td>518911.0</td>\n",
       "    </tr>\n",
       "  </tbody>\n",
       "</table>\n",
       "</div>"
      ],
      "text/plain": [
       "bedrooms           1         2         3\n",
       "saledate                                \n",
       "2007-06-30  326076.0  368817.0  518911.0\n",
       "2007-09-30  326076.0  368817.0  518911.0\n",
       "2007-12-31  326076.0  368817.0  518911.0\n",
       "2008-03-31  326076.0  368817.0  518911.0\n",
       "2008-06-30  326076.0  373482.0  518911.0"
      ]
     },
     "execution_count": 9,
     "metadata": {},
     "output_type": "execute_result"
    }
   ],
   "source": [
    "# Create the pivot table for units\n",
    "df_unit = df[df.type=='unit']\n",
    "df_unit = df_unit.pivot(index='saledate', columns='bedrooms', values='MA').interpolate(method='linear', limit_direction='both')\n",
    "df_unit.head()"
   ]
  },
  {
   "cell_type": "markdown",
   "metadata": {},
   "source": [
    "Then we rename the columns and merge the datasets on the index."
   ]
  },
  {
   "cell_type": "code",
   "execution_count": 10,
   "metadata": {},
   "outputs": [],
   "source": [
    "# Rename the columns for a better understanding\n",
    "df_h = df_house.copy()\n",
    "df_h = df_h.rename(columns={2: 'bed_2_house', 3: 'bed_3_house', 4: 'bed_4_house', 5:'bed_5_house'})\n",
    "df_u = df_unit.copy()\n",
    "df_u = df_u.rename(columns={1: 'bed_1_unit', 2: 'bed_2_unit', 3: 'bed_3_unit'})"
   ]
  },
  {
   "cell_type": "code",
   "execution_count": 11,
   "metadata": {},
   "outputs": [
    {
     "data": {
      "text/html": [
       "<div>\n",
       "<style scoped>\n",
       "    .dataframe tbody tr th:only-of-type {\n",
       "        vertical-align: middle;\n",
       "    }\n",
       "\n",
       "    .dataframe tbody tr th {\n",
       "        vertical-align: top;\n",
       "    }\n",
       "\n",
       "    .dataframe thead th {\n",
       "        text-align: right;\n",
       "    }\n",
       "</style>\n",
       "<table border=\"1\" class=\"dataframe\">\n",
       "  <thead>\n",
       "    <tr style=\"text-align: right;\">\n",
       "      <th>bedrooms</th>\n",
       "      <th>bed_2_house</th>\n",
       "      <th>bed_3_house</th>\n",
       "      <th>bed_4_house</th>\n",
       "      <th>bed_5_house</th>\n",
       "      <th>bed_1_unit</th>\n",
       "      <th>bed_2_unit</th>\n",
       "      <th>bed_3_unit</th>\n",
       "    </tr>\n",
       "    <tr>\n",
       "      <th>saledate</th>\n",
       "      <th></th>\n",
       "      <th></th>\n",
       "      <th></th>\n",
       "      <th></th>\n",
       "      <th></th>\n",
       "      <th></th>\n",
       "      <th></th>\n",
       "    </tr>\n",
       "  </thead>\n",
       "  <tbody>\n",
       "    <tr>\n",
       "      <th>2007-06-30</th>\n",
       "      <td>441854.0</td>\n",
       "      <td>421291.0</td>\n",
       "      <td>548969.0</td>\n",
       "      <td>735904.0</td>\n",
       "      <td>326076.0</td>\n",
       "      <td>368817.0</td>\n",
       "      <td>518911.0</td>\n",
       "    </tr>\n",
       "    <tr>\n",
       "      <th>2007-09-30</th>\n",
       "      <td>441854.0</td>\n",
       "      <td>421291.0</td>\n",
       "      <td>548969.0</td>\n",
       "      <td>735904.0</td>\n",
       "      <td>326076.0</td>\n",
       "      <td>368817.0</td>\n",
       "      <td>518911.0</td>\n",
       "    </tr>\n",
       "    <tr>\n",
       "      <th>2007-12-31</th>\n",
       "      <td>441854.0</td>\n",
       "      <td>421291.0</td>\n",
       "      <td>548969.0</td>\n",
       "      <td>735904.0</td>\n",
       "      <td>326076.0</td>\n",
       "      <td>368817.0</td>\n",
       "      <td>518911.0</td>\n",
       "    </tr>\n",
       "    <tr>\n",
       "      <th>2008-03-31</th>\n",
       "      <td>441854.0</td>\n",
       "      <td>416031.0</td>\n",
       "      <td>552484.0</td>\n",
       "      <td>735904.0</td>\n",
       "      <td>326076.0</td>\n",
       "      <td>368817.0</td>\n",
       "      <td>518911.0</td>\n",
       "    </tr>\n",
       "    <tr>\n",
       "      <th>2008-06-30</th>\n",
       "      <td>441854.0</td>\n",
       "      <td>419628.0</td>\n",
       "      <td>559580.0</td>\n",
       "      <td>735904.0</td>\n",
       "      <td>326076.0</td>\n",
       "      <td>373482.0</td>\n",
       "      <td>518911.0</td>\n",
       "    </tr>\n",
       "  </tbody>\n",
       "</table>\n",
       "</div>"
      ],
      "text/plain": [
       "bedrooms    bed_2_house  bed_3_house  bed_4_house  bed_5_house  bed_1_unit  \\\n",
       "saledate                                                                     \n",
       "2007-06-30     441854.0     421291.0     548969.0     735904.0    326076.0   \n",
       "2007-09-30     441854.0     421291.0     548969.0     735904.0    326076.0   \n",
       "2007-12-31     441854.0     421291.0     548969.0     735904.0    326076.0   \n",
       "2008-03-31     441854.0     416031.0     552484.0     735904.0    326076.0   \n",
       "2008-06-30     441854.0     419628.0     559580.0     735904.0    326076.0   \n",
       "\n",
       "bedrooms    bed_2_unit  bed_3_unit  \n",
       "saledate                            \n",
       "2007-06-30    368817.0    518911.0  \n",
       "2007-09-30    368817.0    518911.0  \n",
       "2007-12-31    368817.0    518911.0  \n",
       "2008-03-31    368817.0    518911.0  \n",
       "2008-06-30    373482.0    518911.0  "
      ]
     },
     "execution_count": 11,
     "metadata": {},
     "output_type": "execute_result"
    }
   ],
   "source": [
    "# Merge the two pivot tables\n",
    "df_piv = pd.merge(df_h, df_u, left_index=True, right_index=True)\n",
    "df_piv.head()"
   ]
  },
  {
   "cell_type": "markdown",
   "metadata": {},
   "source": [
    "Let's see the evolution of the price for each type of size of property."
   ]
  },
  {
   "cell_type": "code",
   "execution_count": 371,
   "metadata": {},
   "outputs": [
    {
     "data": {
      "text/plain": [
       "<matplotlib.legend.Legend at 0x15fb2a810>"
      ]
     },
     "execution_count": 371,
     "metadata": {},
     "output_type": "execute_result"
    },
    {
     "data": {
      "image/png": "[encoded data removed]",
      "text/plain": [
       "<Figure size 720x432 with 1 Axes>"
      ]
     },
     "metadata": {
      "needs_background": "light"
     },
     "output_type": "display_data"
    }
   ],
   "source": [
    "# Plot the evolution of the sale price \n",
    "df_piv.plot(figsize = (10,6))\n",
    "plt.title('Evolution of the sale price for each size of property')\n",
    "plt.xlabel('Year')\n",
    "plt.ylabel('Price')\n",
    "plt.legend()"
   ]
  },
  {
   "cell_type": "markdown",
   "metadata": {},
   "source": [
    "We can identify a trend for some properties. For example, houses with 5, 4 and 3 bedrooms seem to have a trend (the price increases with time) whereas units seem to have less trend (the price remains more or less constant over time). "
   ]
  },
  {
   "cell_type": "markdown",
   "metadata": {},
   "source": [
    "# Stationarity"
   ]
  },
  {
   "cell_type": "markdown",
   "metadata": {},
   "source": [
    "The trends are really important in time series since it can impact negatively the future models since we will have a high variance (the model will overfit) and thus we will forecast poorly. In time series, trends are also refered as non stationarity. Thus, we must ensure that each of our variables are stationary. \n",
    "\n",
    "To do so, we will use the Dickey-Fuller test. The null hypothesis of this test states that a there exists a trend in the time series. The alternative hypothesis is that the data is stationary. Thus, we will compute the p-value of each feature and see if we can reject or not the hypothesis."
   ]
  },
  {
   "cell_type": "code",
   "execution_count": 13,
   "metadata": {},
   "outputs": [
    {
     "name": "stdout",
     "output_type": "stream",
     "text": [
      "Houses with 2 bedrooms\n",
      "ADF Statistic: -0.31257534251388447\n",
      "p-value: 0.9237043075806377\n",
      "\n",
      "---------------------\n",
      "\n",
      "Houses with 3 bedrooms\n",
      "ADF Statistic: 1.441019142424272\n",
      "p-value: 0.9972927464515485\n",
      "\n",
      "---------------------\n",
      "\n",
      "Houses with 4 bedrooms\n",
      "ADF Statistic: -1.7403520709654716\n",
      "p-value: 0.4104508846710465\n",
      "\n",
      "---------------------\n",
      "\n",
      "Houses with 5 bedrooms\n",
      "ADF Statistic: -2.859784574801262\n",
      "p-value: 0.05022835011693851\n",
      "\n",
      "---------------------\n",
      "\n",
      "Units with 1 bedrooms\n",
      "ADF Statistic: -2.438301235556275\n",
      "p-value: 0.13121661381663402\n",
      "\n",
      "---------------------\n",
      "\n",
      "Units with 2 bedrooms\n",
      "ADF Statistic: -3.2368135156523583\n",
      "p-value: 0.017950241148052177\n",
      "\n",
      "---------------------\n",
      "\n",
      "Units with 3 bedrooms\n",
      "ADF Statistic: -1.4908085703299225\n",
      "p-value: 0.5380532087270428\n"
     ]
    }
   ],
   "source": [
    "# We use the adfuller package to conduct this test\n",
    "\n",
    "ad_fuller_result_1 = adfuller(df_piv.iloc[:,0])\n",
    "\n",
    "print('Houses with 2 bedrooms')\n",
    "print(f'ADF Statistic: {ad_fuller_result_1[0]}')\n",
    "print(f'p-value: {ad_fuller_result_1[1]}')\n",
    "\n",
    "print('\\n---------------------\\n')\n",
    "\n",
    "ad_fuller_result_2 = adfuller(df_piv.iloc[:,1])\n",
    "\n",
    "print('Houses with 3 bedrooms')\n",
    "print(f'ADF Statistic: {ad_fuller_result_2[0]}')\n",
    "print(f'p-value: {ad_fuller_result_2[1]}')\n",
    "                              \n",
    "print('\\n---------------------\\n')\n",
    "\n",
    "ad_fuller_result_3 = adfuller(df_piv.iloc[:,2])\n",
    "\n",
    "print('Houses with 4 bedrooms')\n",
    "print(f'ADF Statistic: {ad_fuller_result_3[0]}')\n",
    "print(f'p-value: {ad_fuller_result_3[1]}')\n",
    "                              \n",
    "print('\\n---------------------\\n')\n",
    "\n",
    "ad_fuller_result_4 = adfuller(df_piv.iloc[:,3])\n",
    "\n",
    "print('Houses with 5 bedrooms')\n",
    "print(f'ADF Statistic: {ad_fuller_result_4[0]}')\n",
    "print(f'p-value: {ad_fuller_result_4[1]}')       \n",
    "\n",
    "print('\\n---------------------\\n')\n",
    "\n",
    "ad_fuller_result_5 = adfuller(df_piv.iloc[:,4])\n",
    "\n",
    "print('Units with 1 bedrooms')\n",
    "print(f'ADF Statistic: {ad_fuller_result_5[0]}')\n",
    "print(f'p-value: {ad_fuller_result_5[1]}')\n",
    "\n",
    "print('\\n---------------------\\n')\n",
    "\n",
    "ad_fuller_result_6 = adfuller(df_piv.iloc[:,5])\n",
    "\n",
    "print('Units with 2 bedrooms')\n",
    "print(f'ADF Statistic: {ad_fuller_result_6[0]}')\n",
    "print(f'p-value: {ad_fuller_result_6[1]}')\n",
    "\n",
    "print('\\n---------------------\\n')\n",
    "\n",
    "ad_fuller_result_7 = adfuller(df_piv.iloc[:,6])\n",
    "\n",
    "print('Units with 3 bedrooms')\n",
    "print(f'ADF Statistic: {ad_fuller_result_7[0]}')\n",
    "print(f'p-value: {ad_fuller_result_7[1]}')"
   ]
  },
  {
   "cell_type": "markdown",
   "metadata": {},
   "source": [
    "We can see that most of the p-values are higher than 0.05 so we can't reject the null hypothesis. \n",
    "\n",
    "One method to make the time series stationary is to differentiate the features. Thus, instead of taking the price for each type of size and property, we will differentiate the price with their past prices. We will differentiate using the period that would allow us to reject the null hypothesis."
   ]
  },
  {
   "cell_type": "code",
   "execution_count": 14,
   "metadata": {},
   "outputs": [
    {
     "name": "stdout",
     "output_type": "stream",
     "text": [
      "Houses with 2 bedrooms\n",
      "ADF Statistic: -6.627865053538313\n",
      "p-value: 5.814569479547628e-09\n",
      "\n",
      "---------------------\n",
      "\n",
      "Houses with 3 bedrooms\n",
      "ADF Statistic: -3.866652132742023\n",
      "p-value: 0.002294447137484246\n",
      "\n",
      "---------------------\n",
      "\n",
      "Houses with 4 bedrooms\n",
      "ADF Statistic: -3.54556309847969\n",
      "p-value: 0.0068912006702520415\n",
      "\n",
      "---------------------\n",
      "\n",
      "Houses with 5 bedrooms\n",
      "ADF Statistic: -2.9866974684824856\n",
      "p-value: 0.03615550279200495\n",
      "\n",
      "---------------------\n",
      "\n",
      "Units with 1 bedrooms\n",
      "ADF Statistic: -2.99736869204364\n",
      "p-value: 0.03514086309071088\n",
      "\n",
      "---------------------\n",
      "\n",
      "Units with 2 bedrooms\n",
      "ADF Statistic: -3.447019585359521\n",
      "p-value: 0.009456673274864512\n",
      "\n",
      "---------------------\n",
      "\n",
      "Units with 3 bedrooms\n",
      "ADF Statistic: -2.9051341858173823\n",
      "p-value: 0.04475421074570151\n"
     ]
    }
   ],
   "source": [
    "# We differentiate each feature to reject the null hypothesis\n",
    "\n",
    "ad_fuller_result_1 = adfuller(df_piv.iloc[:,0].diff()[1:])\n",
    "\n",
    "print('Houses with 2 bedrooms')\n",
    "print(f'ADF Statistic: {ad_fuller_result_1[0]}')\n",
    "print(f'p-value: {ad_fuller_result_1[1]}')\n",
    "\n",
    "print('\\n---------------------\\n')\n",
    "\n",
    "ad_fuller_result_2 = adfuller(df_piv.iloc[:,1].diff()[1:])\n",
    "\n",
    "print('Houses with 3 bedrooms')\n",
    "print(f'ADF Statistic: {ad_fuller_result_2[0]}')\n",
    "print(f'p-value: {ad_fuller_result_2[1]}')\n",
    "                              \n",
    "print('\\n---------------------\\n')\n",
    "\n",
    "ad_fuller_result_3 = adfuller(df_piv.iloc[:,2].diff(periods=9)[9:])\n",
    "\n",
    "print('Houses with 4 bedrooms')\n",
    "print(f'ADF Statistic: {ad_fuller_result_3[0]}')\n",
    "print(f'p-value: {ad_fuller_result_3[1]}')\n",
    "                              \n",
    "print('\\n---------------------\\n')\n",
    "\n",
    "ad_fuller_result_4 = adfuller(df_piv.iloc[:,3].diff(periods=6)[6:])\n",
    "\n",
    "print('Houses with 5 bedrooms')\n",
    "print(f'ADF Statistic: {ad_fuller_result_4[0]}')\n",
    "print(f'p-value: {ad_fuller_result_4[1]}')       \n",
    "\n",
    "print('\\n---------------------\\n')\n",
    "\n",
    "ad_fuller_result_5 = adfuller(df_piv.iloc[:,4].diff()[1:])\n",
    "\n",
    "print('Units with 1 bedrooms')\n",
    "print(f'ADF Statistic: {ad_fuller_result_5[0]}')\n",
    "print(f'p-value: {ad_fuller_result_5[1]}')\n",
    "\n",
    "print('\\n---------------------\\n')\n",
    "\n",
    "ad_fuller_result_6 = adfuller(df_piv.iloc[:,5].diff(periods=5)[5:])\n",
    "\n",
    "print('Units with 2 bedrooms')\n",
    "print(f'ADF Statistic: {ad_fuller_result_6[0]}')\n",
    "print(f'p-value: {ad_fuller_result_6[1]}')\n",
    "\n",
    "print('\\n---------------------\\n')\n",
    "\n",
    "ad_fuller_result_7 = adfuller(df_piv.iloc[:,6].diff(periods=11)[11:])\n",
    "\n",
    "print('Units with 3 bedrooms')\n",
    "print(f'ADF Statistic: {ad_fuller_result_7[0]}')\n",
    "print(f'p-value: {ad_fuller_result_7[1]}')"
   ]
  },
  {
   "cell_type": "markdown",
   "metadata": {},
   "source": [
    "Now we know the level of differentiation that we need for each feature to get each time series stationary."
   ]
  },
  {
   "cell_type": "markdown",
   "metadata": {},
   "source": [
    "# Models"
   ]
  },
  {
   "cell_type": "markdown",
   "metadata": {},
   "source": [
    "## VAR model"
   ]
  },
  {
   "cell_type": "markdown",
   "metadata": {},
   "source": [
    "As we work with a multivariate time series, we need to use one of the model from the VARMAX family to forecast the future prices. Before implementing the model, we need to select the optimal laglength. One way to do so, is to use some criteria such as the AIC (Akaike information criterion) or the BIC (Schwartcz information criterion) and select the optimal value of the lag.\n",
    "\n",
    "Moreover, we will split the data into the training set and testing set and find the optimal lag on the training set. The test set will be the 5 last quarters of our dataset."
   ]
  },
  {
   "cell_type": "code",
   "execution_count": 380,
   "metadata": {},
   "outputs": [
    {
     "name": "stdout",
     "output_type": "stream",
     "text": [
      " VAR Order Selection (* highlights the minimums) \n",
      "=================================================\n",
      "      AIC         BIC         FPE         HQIC   \n",
      "-------------------------------------------------\n",
      "0       115.3       115.6   1.168e+50       115.4\n",
      "1       112.9      115.2*   1.142e+49       113.8\n",
      "2      112.0*       116.3  5.398e+48*      113.6*\n",
      "-------------------------------------------------\n"
     ]
    },
    {
     "name": "stderr",
     "output_type": "stream",
     "text": [
      "/Applications/anaconda3/lib/python3.7/site-packages/statsmodels/tsa/base/tsa_model.py:162: ValueWarning: No frequency information was provided, so inferred frequency Q-DEC will be used.\n",
      "  % freq, ValueWarning)\n"
     ]
    }
   ],
   "source": [
    "# We use the VAR package to get the AIC, BIC, FPE and HQIC. \n",
    "\n",
    "# We split the data into the training and testing set\n",
    "train_df_piv=df_piv[:-5]\n",
    "test_df_piv=df_piv[-5:]\n",
    "\n",
    "# We find the optimal lag on the training set that we differentiate\n",
    "model_var_piv = VAR(train_df_piv.diff()[1:])\n",
    "sorted_order_piv=model_var_piv.select_order(maxlags=2)\n",
    "print(sorted_order_piv.summary())"
   ]
  },
  {
   "cell_type": "markdown",
   "metadata": {},
   "source": [
    "### Training"
   ]
  },
  {
   "cell_type": "markdown",
   "metadata": {},
   "source": [
    "It seems that the optimal lag value is 6. Now, we can run the VAR model on the training set and assess its performance on the test set. We do not need to differentiate the values because the package VAR has an argument called 'enforce_stationarity' that can make the times series stationary."
   ]
  },
  {
   "cell_type": "code",
   "execution_count": 381,
   "metadata": {},
   "outputs": [
    {
     "name": "stderr",
     "output_type": "stream",
     "text": [
      "/Applications/anaconda3/lib/python3.7/site-packages/statsmodels/tsa/base/tsa_model.py:162: ValueWarning: No frequency information was provided, so inferred frequency Q-DEC will be used.\n",
      "  % freq, ValueWarning)\n",
      "/Applications/anaconda3/lib/python3.7/site-packages/statsmodels/tsa/statespace/varmax.py:374: UserWarning: Non-stationary starting autoregressive parameters found. Using zeros as starting parameters.\n",
      "  warn('Non-stationary starting autoregressive parameters'\n",
      "/Applications/anaconda3/lib/python3.7/site-packages/statsmodels/base/model.py:568: ConvergenceWarning: Maximum Likelihood optimization failed to converge. Check mle_retvals\n",
      "  \"Check mle_retvals\", ConvergenceWarning)\n"
     ]
    },
    {
     "name": "stdout",
     "output_type": "stream",
     "text": [
      "                                                                     Statespace Model Results                                                                     \n",
      "==================================================================================================================================================================\n",
      "Dep. Variable:     ['bed_2_house', 'bed_3_house', 'bed_4_house', 'bed_5_house', 'bed_1_unit', 'bed_2_unit', 'bed_3_unit']   No. Observations:                   45\n",
      "Model:                                                                                                             VAR(2)   Log Likelihood               -5654.807\n",
      "                                                                                                              + intercept   AIC                          11575.613\n",
      "Date:                                                                                                    Sun, 17 Apr 2022   BIC                          11815.899\n",
      "Time:                                                                                                            23:55:25   HQIC                         11665.190\n",
      "Sample:                                                                                                        06-30-2007                                         \n",
      "                                                                                                             - 06-30-2018                                         \n",
      "Covariance Type:                                                                                                      opg                                         \n",
      "=================================================================================================================================================\n",
      "Ljung-Box (Q):          103.43, 167.46, 175.66, 167.32, 294.89, 257.71, 199.91   Jarque-Bera (JB):       9.53, 0.07, 0.38, 3.86, 2.93, 1.85, 4.70\n",
      "Prob(Q):                              0.00, 0.00, 0.00, 0.00, 0.00, 0.00, 0.00   Prob(JB):               0.01, 0.97, 0.83, 0.14, 0.23, 0.40, 0.10\n",
      "Heteroskedasticity (H):               0.16, 1.15, 1.42, 0.17, 2.11, 0.87, 3.87   Skew:               -0.91, -0.07, 0.17, -0.72, 0.13, -0.17, 0.67\n",
      "Prob(H) (two-sided):                  0.00, 0.79, 0.50, 0.00, 0.16, 0.79, 0.01   Kurtosis:               4.33, 3.12, 2.71, 2.95, 1.78, 2.07, 2.16\n",
      "                         Results for equation bed_2_house                         \n",
      "==================================================================================\n",
      "                     coef    std err          z      P>|z|      [0.025      0.975]\n",
      "----------------------------------------------------------------------------------\n",
      "intercept       4.672e+05    1.8e-07    2.6e+12      0.000    4.67e+05    4.67e+05\n",
      "L1.bed_2_house     0.0069      0.030      0.230      0.818      -0.052       0.065\n",
      "L1.bed_3_house     0.0348      0.012      2.824      0.005       0.011       0.059\n",
      "L1.bed_4_house    -0.1113      0.022     -5.162      0.000      -0.154      -0.069\n",
      "L1.bed_5_house    -0.0527      0.033     -1.609      0.108      -0.117       0.011\n",
      "L1.bed_1_unit      0.0415      0.036      1.142      0.254      -0.030       0.113\n",
      "L1.bed_2_unit      0.2126      0.019     11.281      0.000       0.176       0.250\n",
      "L1.bed_3_unit      0.0480      0.029      1.649      0.099      -0.009       0.105\n",
      "L2.bed_2_house    -0.1580      0.028     -5.644      0.000      -0.213      -0.103\n",
      "L2.bed_3_house     0.2440      0.017     14.210      0.000       0.210       0.278\n",
      "L2.bed_4_house     0.2026      0.010     20.232      0.000       0.183       0.222\n",
      "L2.bed_5_house    -0.0011      0.038     -0.029      0.977      -0.076       0.073\n",
      "L2.bed_1_unit     -0.5087      0.017    -30.014      0.000      -0.542      -0.475\n",
      "L2.bed_2_unit     -0.1254      0.017     -7.454      0.000      -0.158      -0.092\n",
      "L2.bed_3_unit      0.0231      0.038      0.602      0.547      -0.052       0.098\n",
      "                         Results for equation bed_3_house                         \n",
      "==================================================================================\n",
      "                     coef    std err          z      P>|z|      [0.025      0.975]\n",
      "----------------------------------------------------------------------------------\n",
      "intercept       5.083e+05   2.01e-07   2.53e+12      0.000    5.08e+05    5.08e+05\n",
      "L1.bed_2_house    -0.1655      0.029     -5.802      0.000      -0.221      -0.110\n",
      "L1.bed_3_house     0.2317      0.018     12.727      0.000       0.196       0.267\n",
      "L1.bed_4_house    -0.2002      0.021     -9.609      0.000      -0.241      -0.159\n",
      "L1.bed_5_house    -0.1662      0.025     -6.674      0.000      -0.215      -0.117\n",
      "L1.bed_1_unit     -0.2506      0.025    -10.175      0.000      -0.299      -0.202\n",
      "L1.bed_2_unit      0.7601      0.033     22.989      0.000       0.695       0.825\n",
      "L1.bed_3_unit      0.1508      0.034      4.459      0.000       0.085       0.217\n",
      "L2.bed_2_house    -0.4704      0.034    -13.982      0.000      -0.536      -0.404\n",
      "L2.bed_3_house     0.5665      0.020     27.794      0.000       0.527       0.606\n",
      "L2.bed_4_house     0.4784      0.021     22.275      0.000       0.436       0.520\n",
      "L2.bed_5_house    -0.0038      0.033     -0.116      0.907      -0.068       0.061\n",
      "L2.bed_1_unit     -1.2779      0.022    -59.426      0.000      -1.320      -1.236\n",
      "L2.bed_2_unit     -0.1322      0.024     -5.499      0.000      -0.179      -0.085\n",
      "L2.bed_3_unit      0.0371      0.034      1.081      0.280      -0.030       0.104\n",
      "                         Results for equation bed_4_house                         \n",
      "==================================================================================\n",
      "                     coef    std err          z      P>|z|      [0.025      0.975]\n",
      "----------------------------------------------------------------------------------\n",
      "intercept       6.567e+05   2.62e-07    2.5e+12      0.000    6.57e+05    6.57e+05\n",
      "L1.bed_2_house    -0.3411      0.028    -12.369      0.000      -0.395      -0.287\n",
      "L1.bed_3_house     0.1178      0.026      4.505      0.000       0.067       0.169\n",
      "L1.bed_4_house     0.1198      0.030      4.011      0.000       0.061       0.178\n",
      "L1.bed_5_house    -0.1436      0.036     -4.044      0.000      -0.213      -0.074\n",
      "L1.bed_1_unit     -0.7863      0.033    -24.051      0.000      -0.850      -0.722\n",
      "L1.bed_2_unit      0.7708      0.022     34.407      0.000       0.727       0.815\n",
      "L1.bed_3_unit      0.1956      0.029      6.782      0.000       0.139       0.252\n",
      "L2.bed_2_house    -0.5225      0.030    -17.272      0.000      -0.582      -0.463\n",
      "L2.bed_3_house     0.3495      0.027     12.918      0.000       0.296       0.403\n",
      "L2.bed_4_house     0.6850      0.033     20.875      0.000       0.621       0.749\n",
      "L2.bed_5_house     0.0616      0.024      2.594      0.009       0.015       0.108\n",
      "L2.bed_1_unit     -1.1072      0.026    -42.245      0.000      -1.159      -1.056\n",
      "L2.bed_2_unit     -0.2435      0.033     -7.468      0.000      -0.307      -0.180\n",
      "L2.bed_3_unit      0.0295      0.027      1.093      0.274      -0.023       0.082\n",
      "                         Results for equation bed_5_house                         \n",
      "==================================================================================\n",
      "                     coef    std err          z      P>|z|      [0.025      0.975]\n",
      "----------------------------------------------------------------------------------\n",
      "intercept       8.361e+05   6.14e-08   1.36e+13      0.000    8.36e+05    8.36e+05\n",
      "L1.bed_2_house    -0.3895      0.017    -23.044      0.000      -0.423      -0.356\n",
      "L1.bed_3_house     0.0038      0.013      0.281      0.778      -0.023       0.030\n",
      "L1.bed_4_house     0.1869      0.020      9.390      0.000       0.148       0.226\n",
      "L1.bed_5_house    -0.0805      0.016     -4.891      0.000      -0.113      -0.048\n",
      "L1.bed_1_unit     -0.9577      0.016    -59.528      0.000      -0.989      -0.926\n",
      "L1.bed_2_unit      0.7112      0.018     39.595      0.000       0.676       0.746\n",
      "L1.bed_3_unit      0.2152      0.031      6.973      0.000       0.155       0.276\n",
      "L2.bed_2_house    -0.5243      0.025    -21.335      0.000      -0.573      -0.476\n",
      "L2.bed_3_house     0.1703      0.014     12.309      0.000       0.143       0.197\n",
      "L2.bed_4_house     0.8161      0.008     99.278      0.000       0.800       0.832\n",
      "L2.bed_5_house     0.1294      0.019      6.654      0.000       0.091       0.168\n",
      "L2.bed_1_unit     -1.0369      0.018    -56.951      0.000      -1.073      -1.001\n",
      "L2.bed_2_unit     -0.3124      0.018    -17.049      0.000      -0.348      -0.277\n",
      "L2.bed_3_unit      0.0493      0.023      2.180      0.029       0.005       0.094\n",
      "                         Results for equation bed_1_unit                          \n",
      "==================================================================================\n",
      "                     coef    std err          z      P>|z|      [0.025      0.975]\n",
      "----------------------------------------------------------------------------------\n",
      "intercept       3.319e+05   1.96e-07    1.7e+12      0.000    3.32e+05    3.32e+05\n",
      "L1.bed_2_house    -0.0605      0.026     -2.369      0.018      -0.110      -0.010\n",
      "L1.bed_3_house     0.0043      0.039      0.110      0.913      -0.073       0.081\n",
      "L1.bed_4_house    -0.0342      0.040     -0.859      0.390      -0.112       0.044\n",
      "L1.bed_5_house    -0.0538      0.023     -2.319      0.020      -0.099      -0.008\n",
      "L1.bed_1_unit      0.1974      0.031      6.375      0.000       0.137       0.258\n",
      "L1.bed_2_unit      0.2215      0.020     11.258      0.000       0.183       0.260\n",
      "L1.bed_3_unit      0.0181      0.027      0.681      0.496      -0.034       0.070\n",
      "L2.bed_2_house    -0.1790      0.029     -6.169      0.000      -0.236      -0.122\n",
      "L2.bed_3_house     0.1384      0.032      4.259      0.000       0.075       0.202\n",
      "L2.bed_4_house     0.1129      0.046      2.435      0.015       0.022       0.204\n",
      "L2.bed_5_house    -0.0137      0.025     -0.543      0.587      -0.063       0.036\n",
      "L2.bed_1_unit     -0.1078      0.029     -3.675      0.000      -0.165      -0.050\n",
      "L2.bed_2_unit     -0.1595      0.027     -5.950      0.000      -0.212      -0.107\n",
      "L2.bed_3_unit     -0.0336      0.025     -1.353      0.176      -0.082       0.015\n",
      "                         Results for equation bed_2_unit                          \n",
      "==================================================================================\n",
      "                     coef    std err          z      P>|z|      [0.025      0.975]\n",
      "----------------------------------------------------------------------------------\n",
      "intercept       4.141e+05   3.64e-07   1.14e+12      0.000    4.14e+05    4.14e+05\n",
      "L1.bed_2_house    -0.0401      0.025     -1.579      0.114      -0.090       0.010\n",
      "L1.bed_3_house     0.1066      0.039      2.704      0.007       0.029       0.184\n",
      "L1.bed_4_house    -0.1068      0.031     -3.501      0.000      -0.167      -0.047\n",
      "L1.bed_5_house    -0.1080      0.022     -5.015      0.000      -0.150      -0.066\n",
      "L1.bed_1_unit     -0.0836      0.042     -1.987      0.047      -0.166      -0.001\n",
      "L1.bed_2_unit      0.4826      0.031     15.635      0.000       0.422       0.543\n",
      "L1.bed_3_unit      0.0820      0.025      3.222      0.001       0.032       0.132\n",
      "L2.bed_2_house    -0.1982      0.042     -4.691      0.000      -0.281      -0.115\n",
      "L2.bed_3_house     0.2893      0.039      7.341      0.000       0.212       0.366\n",
      "L2.bed_4_house     0.1028      0.032      3.244      0.001       0.041       0.165\n",
      "L2.bed_5_house    -0.0492      0.022     -2.205      0.027      -0.093      -0.005\n",
      "L2.bed_1_unit     -0.6208      0.034    -18.406      0.000      -0.687      -0.555\n",
      "L2.bed_2_unit      0.0518      0.040      1.289      0.197      -0.027       0.131\n",
      "L2.bed_3_unit      0.0219      0.023      0.955      0.340      -0.023       0.067\n",
      "                         Results for equation bed_3_unit                          \n",
      "==================================================================================\n",
      "                     coef    std err          z      P>|z|      [0.025      0.975]\n",
      "----------------------------------------------------------------------------------\n",
      "intercept       5.648e+05   6.76e-08   8.36e+12      0.000    5.65e+05    5.65e+05\n",
      "L1.bed_2_house    -0.1808      0.030     -5.948      0.000      -0.240      -0.121\n",
      "L1.bed_3_house     0.0205      0.028      0.724      0.469      -0.035       0.076\n",
      "L1.bed_4_house     0.1157      0.020      5.877      0.000       0.077       0.154\n",
      "L1.bed_5_house    -0.1111      0.036     -3.073      0.002      -0.182      -0.040\n",
      "L1.bed_1_unit     -0.6332      0.031    -20.744      0.000      -0.693      -0.573\n",
      "L1.bed_2_unit      0.5258      0.014     36.714      0.000       0.498       0.554\n",
      "L1.bed_3_unit      0.1839      0.018     10.078      0.000       0.148       0.220\n",
      "L2.bed_2_house    -0.2426      0.040     -6.057      0.000      -0.321      -0.164\n",
      "L2.bed_3_house     0.0504      0.016      3.190      0.001       0.019       0.081\n",
      "L2.bed_4_house     0.2746      0.021     13.352      0.000       0.234       0.315\n",
      "L2.bed_5_house    -0.0041      0.028     -0.150      0.881      -0.058       0.050\n",
      "L2.bed_1_unit     -0.5135      0.031    -16.597      0.000      -0.574      -0.453\n",
      "L2.bed_2_unit      0.0635      0.011      5.778      0.000       0.042       0.085\n",
      "L2.bed_3_unit      0.0662      0.035      1.880      0.060      -0.003       0.135\n",
      "                                      Error covariance matrix                                       \n",
      "====================================================================================================\n",
      "                                       coef    std err          z      P>|z|      [0.025      0.975]\n",
      "----------------------------------------------------------------------------------------------------\n",
      "sqrt.var.bed_2_house              3903.1789   1.96e-05   1.99e+08      0.000    3903.179    3903.179\n",
      "sqrt.cov.bed_2_house.bed_3_house   262.9993   2.96e-05   8.88e+06      0.000     262.999     262.999\n",
      "sqrt.var.bed_3_house              1832.0768    4.2e-05   4.37e+07      0.000    1832.077    1832.077\n",
      "sqrt.cov.bed_2_house.bed_4_house   -44.5615   3.94e-05  -1.13e+06      0.000     -44.562     -44.561\n",
      "sqrt.cov.bed_3_house.bed_4_house   591.3146   6.03e-05   9.81e+06      0.000     591.315     591.315\n",
      "sqrt.var.bed_4_house              1853.4155      0.000   1.81e+07      0.000    1853.415    1853.416\n",
      "sqrt.cov.bed_2_house.bed_5_house   723.4914   9.17e-06   7.89e+07      0.000     723.491     723.491\n",
      "sqrt.cov.bed_3_house.bed_5_house   768.3940   1.71e-05   4.49e+07      0.000     768.394     768.394\n",
      "sqrt.cov.bed_4_house.bed_5_house    -5.8038   1.82e-05  -3.19e+05      0.000      -5.804      -5.804\n",
      "sqrt.var.bed_5_house              5308.4383   1.37e-05   3.86e+08      0.000    5308.438    5308.438\n",
      "sqrt.cov.bed_2_house.bed_1_unit     60.9701   7.61e-05   8.01e+05      0.000      60.970      60.970\n",
      "sqrt.cov.bed_3_house.bed_1_unit    128.9706   3.88e-05   3.33e+06      0.000     128.971     128.971\n",
      "sqrt.cov.bed_4_house.bed_1_unit    276.1637   6.77e-05   4.08e+06      0.000     276.164     276.164\n",
      "sqrt.cov.bed_5_house.bed_1_unit    189.7443   3.54e-05   5.36e+06      0.000     189.744     189.744\n",
      "sqrt.var.bed_1_unit               1287.9328   3.79e-05    3.4e+07      0.000    1287.933    1287.933\n",
      "sqrt.cov.bed_2_house.bed_2_unit   -216.7762   4.66e-05  -4.66e+06      0.000    -216.776    -216.776\n",
      "sqrt.cov.bed_3_house.bed_2_unit    208.9336      0.000   1.72e+06      0.000     208.933     208.934\n",
      "sqrt.cov.bed_4_house.bed_2_unit    136.1543      0.000   1.24e+06      0.000     136.154     136.154\n",
      "sqrt.cov.bed_5_house.bed_2_unit    -47.7364   4.44e-05  -1.08e+06      0.000     -47.736     -47.736\n",
      "sqrt.cov.bed_1_unit.bed_2_unit      83.1340    2.8e-05   2.97e+06      0.000      83.134      83.134\n",
      "sqrt.var.bed_2_unit               1266.4849   6.93e-05   1.83e+07      0.000    1266.485    1266.485\n",
      "sqrt.cov.bed_2_house.bed_3_unit  -2589.5901   1.83e-05  -1.41e+08      0.000   -2589.590   -2589.590\n",
      "sqrt.cov.bed_3_house.bed_3_unit   -251.8876   3.99e-05  -6.31e+06      0.000    -251.888    -251.888\n",
      "sqrt.cov.bed_4_house.bed_3_unit    564.9484   4.85e-05   1.16e+07      0.000     564.948     564.949\n",
      "sqrt.cov.bed_5_house.bed_3_unit   2615.9957   2.25e-05   1.16e+08      0.000    2615.996    2615.996\n",
      "sqrt.cov.bed_1_unit.bed_3_unit    1263.3565   9.77e-06   1.29e+08      0.000    1263.356    1263.357\n",
      "sqrt.cov.bed_2_unit.bed_3_unit    -568.4849   1.53e-05  -3.71e+07      0.000    -568.485    -568.485\n",
      "sqrt.var.bed_3_unit               4215.1782   1.71e-05   2.47e+08      0.000    4215.178    4215.178\n",
      "====================================================================================================\n",
      "\n",
      "Warnings:\n",
      "[1] Covariance matrix calculated using the outer product of gradients (complex-step).\n",
      "[2] Covariance matrix is singular or near-singular, with condition number 3.83e+25. Standard errors may be unstable.\n"
     ]
    }
   ],
   "source": [
    "# We implement the VAR model with the lag equal to 4\n",
    "var_model_piv = VARMAX(train_df_piv, order=(2,0),enforce_stationarity= True)\n",
    "\n",
    "# Then we fit the model\n",
    "fitted_model_piv = var_model_piv.fit(disp=False)\n",
    "print(fitted_model_piv.summary())"
   ]
  },
  {
   "cell_type": "markdown",
   "metadata": {},
   "source": [
    "### Evaluate the model"
   ]
  },
  {
   "cell_type": "code",
   "execution_count": 382,
   "metadata": {},
   "outputs": [
    {
     "data": {
      "text/html": [
       "<div>\n",
       "<style scoped>\n",
       "    .dataframe tbody tr th:only-of-type {\n",
       "        vertical-align: middle;\n",
       "    }\n",
       "\n",
       "    .dataframe tbody tr th {\n",
       "        vertical-align: top;\n",
       "    }\n",
       "\n",
       "    .dataframe thead th {\n",
       "        text-align: right;\n",
       "    }\n",
       "</style>\n",
       "<table border=\"1\" class=\"dataframe\">\n",
       "  <thead>\n",
       "    <tr style=\"text-align: right;\">\n",
       "      <th></th>\n",
       "      <th>pred_2_house</th>\n",
       "      <th>pred_3_house</th>\n",
       "      <th>pred_4_house</th>\n",
       "      <th>pred_5_house</th>\n",
       "      <th>pred_1_unit</th>\n",
       "      <th>pred_2_unit</th>\n",
       "      <th>pred_3_unit</th>\n",
       "    </tr>\n",
       "  </thead>\n",
       "  <tbody>\n",
       "    <tr>\n",
       "      <th>2018-09-30</th>\n",
       "      <td>507853.187757</td>\n",
       "      <td>607437.870086</td>\n",
       "      <td>821083.633247</td>\n",
       "      <td>1.026381e+06</td>\n",
       "      <td>343480.300229</td>\n",
       "      <td>429602.891771</td>\n",
       "      <td>619498.305927</td>\n",
       "    </tr>\n",
       "    <tr>\n",
       "      <th>2018-12-31</th>\n",
       "      <td>510486.595564</td>\n",
       "      <td>608902.384395</td>\n",
       "      <td>816951.344690</td>\n",
       "      <td>1.022523e+06</td>\n",
       "      <td>345802.142260</td>\n",
       "      <td>430672.167536</td>\n",
       "      <td>616555.107191</td>\n",
       "    </tr>\n",
       "    <tr>\n",
       "      <th>2019-03-31</th>\n",
       "      <td>501553.490782</td>\n",
       "      <td>586408.237173</td>\n",
       "      <td>792013.277248</td>\n",
       "      <td>9.979616e+05</td>\n",
       "      <td>340865.930097</td>\n",
       "      <td>421996.545741</td>\n",
       "      <td>607373.945852</td>\n",
       "    </tr>\n",
       "    <tr>\n",
       "      <th>2019-06-30</th>\n",
       "      <td>500013.512236</td>\n",
       "      <td>579419.276544</td>\n",
       "      <td>781497.661670</td>\n",
       "      <td>9.873634e+05</td>\n",
       "      <td>339417.709041</td>\n",
       "      <td>418962.581744</td>\n",
       "      <td>602242.806067</td>\n",
       "    </tr>\n",
       "    <tr>\n",
       "      <th>2019-09-30</th>\n",
       "      <td>494821.215617</td>\n",
       "      <td>565941.750101</td>\n",
       "      <td>764774.431269</td>\n",
       "      <td>9.696503e+05</td>\n",
       "      <td>337592.361716</td>\n",
       "      <td>415104.088978</td>\n",
       "      <td>596379.205412</td>\n",
       "    </tr>\n",
       "  </tbody>\n",
       "</table>\n",
       "</div>"
      ],
      "text/plain": [
       "             pred_2_house   pred_3_house   pred_4_house  pred_5_house  \\\n",
       "2018-09-30  507853.187757  607437.870086  821083.633247  1.026381e+06   \n",
       "2018-12-31  510486.595564  608902.384395  816951.344690  1.022523e+06   \n",
       "2019-03-31  501553.490782  586408.237173  792013.277248  9.979616e+05   \n",
       "2019-06-30  500013.512236  579419.276544  781497.661670  9.873634e+05   \n",
       "2019-09-30  494821.215617  565941.750101  764774.431269  9.696503e+05   \n",
       "\n",
       "              pred_1_unit    pred_2_unit    pred_3_unit  \n",
       "2018-09-30  343480.300229  429602.891771  619498.305927  \n",
       "2018-12-31  345802.142260  430672.167536  616555.107191  \n",
       "2019-03-31  340865.930097  421996.545741  607373.945852  \n",
       "2019-06-30  339417.709041  418962.581744  602242.806067  \n",
       "2019-09-30  337592.361716  415104.088978  596379.205412  "
      ]
     },
     "execution_count": 382,
     "metadata": {},
     "output_type": "execute_result"
    }
   ],
   "source": [
    "# We specify the number of forecast\n",
    "n_forecast = 5\n",
    "\n",
    "# We specify the start date and ending date of the forecast\n",
    "predict_piv1 = fitted_model_piv.get_prediction(start=len(train_df_piv),end=len(train_df_piv) + n_forecast-1)\n",
    "\n",
    "# We predict the mean price for each feature and rename it\n",
    "predictions_piv1=predict_piv1.predicted_mean\n",
    "\n",
    "predictions_piv1.columns=['pred_2_house','pred_3_house',\n",
    "                          'pred_4_house','pred_5_house',\n",
    "                          'pred_1_unit','pred_2_unit','pred_3_unit']\n",
    "predictions_piv1"
   ]
  },
  {
   "cell_type": "code",
   "execution_count": 383,
   "metadata": {},
   "outputs": [
    {
     "data": {
      "text/plain": [
       "<matplotlib.legend.Legend at 0x1637b9b90>"
      ]
     },
     "execution_count": 383,
     "metadata": {},
     "output_type": "execute_result"
    },
    {
     "data": {
      "image/png": "[encoded data removed]",
      "text/plain": [
       "<Figure size 864x360 with 1 Axes>"
      ]
     },
     "metadata": {
      "needs_background": "light"
     },
     "output_type": "display_data"
    }
   ],
   "source": [
    "# Then we concatenate the result with the test set in order to assess the performance\n",
    "test_vs_pred_piv1=pd.concat([test_df_piv,predictions_piv1],axis=1)\n",
    "\n",
    "# We plot the evolution of the price in the test set and the respective prediction\n",
    "test_vs_pred_piv1.plot(figsize=(12,5))\n",
    "plt.title('Evolution of the price on the last 5 quarters with VAR model')\n",
    "plt.ylabel('Price')\n",
    "plt.legend()"
   ]
  },
  {
   "cell_type": "markdown",
   "metadata": {},
   "source": [
    "We can see that the prediction seems to be relatively close to the real value. Let's use some metrics to validate our assumption of the model. We will use the mean absolute error (MAE) as the evaluation metric since it is robust to the outliers. We will show the mean absolute error and the mean absolute percentage error (MAPE). If the error of a feature is less than 10%, we can state that the model perfoms well on this particular feature."
   ]
  },
  {
   "cell_type": "code",
   "execution_count": 308,
   "metadata": {},
   "outputs": [],
   "source": [
    "# Create the mean absolute percentage error function\n",
    "\n",
    "def MAPE(y_true, y_pred): \n",
    "    y_true, y_pred = np.array(y_true), np.array(y_pred)\n",
    "    return np.mean(np.abs((y_true - y_pred) / y_true)) * 100"
   ]
  },
  {
   "cell_type": "code",
   "execution_count": 404,
   "metadata": {},
   "outputs": [
    {
     "name": "stdout",
     "output_type": "stream",
     "text": [
      "For a house with 2 bedrooms\n",
      "Mean value of the price is : 503464.4.  \n",
      "The Mean Absolute Error is : 5895.309249923285\n",
      "The MAPE is : 1.2%.\n",
      "\n",
      "\n",
      "For a house with 3 bedrooms\n",
      "Mean value of the price is : 628464.4. \n",
      "The Mean Absolute Error is : 38842.49634011567\n",
      "The MAPE is : 6.2%.\n",
      "\n",
      "\n",
      "For a house with 4 bedrooms\n",
      "Mean value of the price is : 811628.6.  \n",
      "The Mean Absolute Error is : 16364.530375425355\n",
      "The MAPE is : 2.0%.\n",
      "\n",
      "\n",
      "For a house with 5 bedrooms\n",
      "Mean value of the price is : 994640.8. \n",
      "The Mean Absolute Error is : 9651.696548099653\n",
      "The MAPE is : 1.0%.\n",
      "\n",
      "\n",
      "For a unit with 1 bedroom\n",
      "Mean value of the price is : 337681.6.  \n",
      "The Mean Absolute Error is : 3750.088668630342\n",
      "The MAPE is : 1.1%.\n",
      "\n",
      "\n",
      "For a unit with 2 bedrooms\n",
      "Mean value of the price is : 426129.2. \n",
      "The Mean Absolute Error is : 5409.168568635662\n",
      "The MAPE is : 1.3%.\n",
      "\n",
      "\n",
      "For a unit with 3 bedrooms\n",
      "Mean value of the price is : 601461.6.  \n",
      "The Mean Absolute Error is : 7550.191924977186\n",
      "The MAPE is : 1.3%.\n"
     ]
    }
   ],
   "source": [
    "print('For a house with 2 bedrooms')\n",
    "bed_2_piv = mean_absolute_error(predictions_piv1.iloc[:,0],test_df_piv.iloc[:,0])\n",
    "print('Mean value of the price is : {}.  \\nThe Mean Absolute Error is : {}'.format(mean(test_df_piv.iloc[:,0]),bed_2_piv))\n",
    "print('The MAPE is : {}' .format(round(MAPE(test_df_piv.iloc[:,0],predictions_piv1.iloc[:,0]),1))+ '%.')\n",
    "\n",
    "print('\\n')\n",
    "\n",
    "print('For a house with 3 bedrooms')\n",
    "bed_3_piv = mean_absolute_error(predictions_piv1.iloc[:,1],test_df_piv.iloc[:,1])\n",
    "print('Mean value of the price is : {}. \\nThe Mean Absolute Error is : {}'.format(mean(test_df_piv.iloc[:,1]),bed_3_piv))\n",
    "print('The MAPE is : {}' .format(round(MAPE(test_df_piv.iloc[:,1],predictions_piv1.iloc[:,1]),1))+ '%.')\n",
    "\n",
    "print('\\n')\n",
    "\n",
    "print('For a house with 4 bedrooms')\n",
    "bed_4_piv = mean_absolute_error(predictions_piv1.iloc[:,2],test_df_piv.iloc[:,2])\n",
    "print('Mean value of the price is : {}.  \\nThe Mean Absolute Error is : {}'.format(mean(test_df_piv.iloc[:,2]),bed_4_piv))\n",
    "print('The MAPE is : {}' .format(round(MAPE(test_df_piv.iloc[:,2],predictions_piv1.iloc[:,2]),1))+ '%.')\n",
    "\n",
    "print('\\n')\n",
    "\n",
    "print('For a house with 5 bedrooms')\n",
    "bed_5_piv = mean_absolute_error(predictions_piv1.iloc[:,3],test_df_piv.iloc[:,3])\n",
    "print('Mean value of the price is : {}. \\nThe Mean Absolute Error is : {}'.format(mean(test_df_piv.iloc[:,3]),bed_5_piv))\n",
    "print('The MAPE is : {}' .format(round(MAPE(test_df_piv.iloc[:,3],predictions_piv1.iloc[:,3]),1))+ '%.')\n",
    "\n",
    "print('\\n')\n",
    "\n",
    "\n",
    "print('For a unit with 1 bedroom')\n",
    "bed_1_unit_piv = mean_absolute_error(predictions_piv1.iloc[:,4],test_df_piv.iloc[:,4])\n",
    "print('Mean value of the price is : {}.  \\nThe Mean Absolute Error is : {}'.format(mean(test_df_piv.iloc[:,4]),bed_1_unit_piv))\n",
    "print('The MAPE is : {}' .format(round(MAPE(test_df_piv.iloc[:,4],predictions_piv1.iloc[:,4]),1))+ '%.')\n",
    "\n",
    "print('\\n')\n",
    "\n",
    "print('For a unit with 2 bedrooms')\n",
    "bed_2_unit_piv = mean_absolute_error(predictions_piv1.iloc[:,5],test_df_piv.iloc[:,5])\n",
    "print('Mean value of the price is : {}. \\nThe Mean Absolute Error is : {}'.format(mean(test_df_piv.iloc[:,5]),bed_2_unit_piv))\n",
    "print('The MAPE is : {}' .format(round(MAPE(test_df_piv.iloc[:,5],predictions_piv1.iloc[:,5]),1))+ '%.')\n",
    "\n",
    "print('\\n')\n",
    "\n",
    "print('For a unit with 3 bedrooms')\n",
    "bed_3_unit_piv = mean_absolute_error(predictions_piv1.iloc[:,6],test_df_piv.iloc[:,6])\n",
    "print('Mean value of the price is : {}.  \\nThe Mean Absolute Error is : {}'.format(mean(test_df_piv.iloc[:,6]),bed_3_unit_piv))\n",
    "print('The MAPE is : {}' .format(round(MAPE(test_df_piv.iloc[:,6],predictions_piv1.iloc[:,6]),1))+ '%.')\n",
    "\n"
   ]
  },
  {
   "cell_type": "code",
   "execution_count": 374,
   "metadata": {},
   "outputs": [
    {
     "data": {
      "text/html": [
       "<style  type=\"text/css\" >\n",
       "    #T_aaee9_ th {\n",
       "          font-size: 10pt;\n",
       "    }#T_aaee9_row0_col0,#T_aaee9_row0_col1,#T_aaee9_row0_col2,#T_aaee9_row0_col3,#T_aaee9_row0_col4,#T_aaee9_row0_col5,#T_aaee9_row0_col6{\n",
       "            font-size:  10pt;\n",
       "        }</style><table id=\"T_aaee9_\" ><thead>    <tr>        <th class=\"blank level0\" ></th>        <th class=\"col_heading level0 col0\" >House with 2 bedrooms</th>        <th class=\"col_heading level0 col1\" >House with 3 bedrooms</th>        <th class=\"col_heading level0 col2\" >House with 4 bedrooms</th>        <th class=\"col_heading level0 col3\" >House with 5 bedrooms</th>        <th class=\"col_heading level0 col4\" >Unit with 1 bedroom</th>        <th class=\"col_heading level0 col5\" >Unit with 2 bedrooms</th>        <th class=\"col_heading level0 col6\" >Unit with 3 bedrooms</th>    </tr></thead><tbody>\n",
       "                <tr>\n",
       "                        <th id=\"T_aaee9_level0_row0\" class=\"row_heading level0 row0\" >VAR</th>\n",
       "                        <td id=\"T_aaee9_row0_col0\" class=\"data row0 col0\" >1.200%</td>\n",
       "                        <td id=\"T_aaee9_row0_col1\" class=\"data row0 col1\" >6.200%</td>\n",
       "                        <td id=\"T_aaee9_row0_col2\" class=\"data row0 col2\" >2.000%</td>\n",
       "                        <td id=\"T_aaee9_row0_col3\" class=\"data row0 col3\" >1.000%</td>\n",
       "                        <td id=\"T_aaee9_row0_col4\" class=\"data row0 col4\" >1.100%</td>\n",
       "                        <td id=\"T_aaee9_row0_col5\" class=\"data row0 col5\" >1.300%</td>\n",
       "                        <td id=\"T_aaee9_row0_col6\" class=\"data row0 col6\" >1.300%</td>\n",
       "            </tr>\n",
       "    </tbody></table>"
      ],
      "text/plain": [
       "<pandas.io.formats.style.Styler at 0x15fb43710>"
      ]
     },
     "execution_count": 374,
     "metadata": {},
     "output_type": "execute_result"
    }
   ],
   "source": [
    "comparison_data_first = {'House with 2 bedrooms': ['{:.3f}'.format(round(MAPE(test_df_piv.iloc[:,0],predictions_piv1.iloc[:,0]),1))+'%'\n",
    "                                         ],\n",
    "                    'House with 3 bedrooms': ['{:.3f}'.format(round(MAPE(test_df_piv.iloc[:,1],predictions_piv1.iloc[:,1]),1))+'%'\n",
    "                                         ],\n",
    "                   'House with 4 bedrooms': ['{:.3f}'.format(round(MAPE(test_df_piv.iloc[:,2],predictions_piv1.iloc[:,2]),1))+'%'],\n",
    "                   'House with 5 bedrooms': ['{:.3f}'.format(round(MAPE(test_df_piv.iloc[:,3],predictions_piv1.iloc[:,3]),1))+'%'],\n",
    "                   'Unit with 1 bedroom': ['{:.3f}'.format(round(MAPE(test_df_piv.iloc[:,4],predictions_piv1.iloc[:,4]),1))+'%'\n",
    "                                         ],\n",
    "                   'Unit with 2 bedrooms':['{:.3f}'.format(round(MAPE(test_df_piv.iloc[:,5],predictions_piv1.iloc[:,5]),1))+'%'],\n",
    "                  'Unit with 3 bedrooms':['{:.3f}'.format(round(MAPE(test_df_piv.iloc[:,6],predictions_piv1.iloc[:,6]),1))+'%']}\n",
    "\n",
    "comparison_table_first = pd.DataFrame(data=comparison_data_first, index=['VAR'])\n",
    "comparison_table_first.style.set_properties(**{'font-size': '10pt',}).set_table_styles([{'selector': 'th', 'props': [('font-size', '10pt')]}])"
   ]
  },
  {
   "cell_type": "markdown",
   "metadata": {},
   "source": [
    "It seems that excpect houses with 3 bedrooms, all errors are less than 5% which means that the model performs very well on the test set. However, the model predicts poorly on for the houses with 3 bedrooms. \n",
    "\n",
    "Now we will use the model to forecast the 8 following quarters. We will use the same methodology as before but now, instead of working with only the training set, we will work with the entire dataset as the training set."
   ]
  },
  {
   "cell_type": "markdown",
   "metadata": {},
   "source": [
    "### Forecast"
   ]
  },
  {
   "cell_type": "code",
   "execution_count": 310,
   "metadata": {},
   "outputs": [
    {
     "data": {
      "text/html": [
       "<div>\n",
       "<style scoped>\n",
       "    .dataframe tbody tr th:only-of-type {\n",
       "        vertical-align: middle;\n",
       "    }\n",
       "\n",
       "    .dataframe tbody tr th {\n",
       "        vertical-align: top;\n",
       "    }\n",
       "\n",
       "    .dataframe thead th {\n",
       "        text-align: right;\n",
       "    }\n",
       "</style>\n",
       "<table border=\"1\" class=\"dataframe\">\n",
       "  <thead>\n",
       "    <tr style=\"text-align: right;\">\n",
       "      <th>bedrooms</th>\n",
       "      <th>bed_2_house</th>\n",
       "      <th>bed_3_house</th>\n",
       "      <th>bed_4_house</th>\n",
       "      <th>bed_5_house</th>\n",
       "      <th>bed_1_unit</th>\n",
       "      <th>bed_2_unit</th>\n",
       "      <th>bed_3_unit</th>\n",
       "    </tr>\n",
       "  </thead>\n",
       "  <tbody>\n",
       "    <tr>\n",
       "      <th>2019-12-31</th>\n",
       "      <td>493350.960814</td>\n",
       "      <td>560447.342251</td>\n",
       "      <td>755508.534470</td>\n",
       "      <td>959525.037270</td>\n",
       "      <td>337131.654259</td>\n",
       "      <td>413737.683107</td>\n",
       "      <td>592511.623579</td>\n",
       "    </tr>\n",
       "    <tr>\n",
       "      <th>2020-03-31</th>\n",
       "      <td>489659.119805</td>\n",
       "      <td>550949.212657</td>\n",
       "      <td>742502.106832</td>\n",
       "      <td>945094.773309</td>\n",
       "      <td>336023.841542</td>\n",
       "      <td>411442.987185</td>\n",
       "      <td>587944.727509</td>\n",
       "    </tr>\n",
       "    <tr>\n",
       "      <th>2020-06-30</th>\n",
       "      <td>488099.614976</td>\n",
       "      <td>546017.495483</td>\n",
       "      <td>733970.927523</td>\n",
       "      <td>935350.982503</td>\n",
       "      <td>335611.279781</td>\n",
       "      <td>410514.904343</td>\n",
       "      <td>584641.399870</td>\n",
       "    </tr>\n",
       "    <tr>\n",
       "      <th>2020-09-30</th>\n",
       "      <td>485399.284716</td>\n",
       "      <td>539098.695745</td>\n",
       "      <td>723723.101999</td>\n",
       "      <td>923631.358681</td>\n",
       "      <td>334868.729794</td>\n",
       "      <td>409156.382257</td>\n",
       "      <td>581108.936572</td>\n",
       "    </tr>\n",
       "    <tr>\n",
       "      <th>2020-12-31</th>\n",
       "      <td>483983.816448</td>\n",
       "      <td>534985.950901</td>\n",
       "      <td>716362.266298</td>\n",
       "      <td>914979.678767</td>\n",
       "      <td>334542.770295</td>\n",
       "      <td>408624.570586</td>\n",
       "      <td>578439.182935</td>\n",
       "    </tr>\n",
       "    <tr>\n",
       "      <th>2021-03-31</th>\n",
       "      <td>481992.739292</td>\n",
       "      <td>529944.249624</td>\n",
       "      <td>708344.753846</td>\n",
       "      <td>905574.129887</td>\n",
       "      <td>334042.800127</td>\n",
       "      <td>407884.956720</td>\n",
       "      <td>575757.785488</td>\n",
       "    </tr>\n",
       "    <tr>\n",
       "      <th>2021-06-30</th>\n",
       "      <td>480793.731807</td>\n",
       "      <td>526668.230892</td>\n",
       "      <td>702257.094215</td>\n",
       "      <td>898252.855729</td>\n",
       "      <td>333792.455798</td>\n",
       "      <td>407640.455247</td>\n",
       "      <td>573673.482180</td>\n",
       "    </tr>\n",
       "    <tr>\n",
       "      <th>2021-09-30</th>\n",
       "      <td>479327.719608</td>\n",
       "      <td>523023.902072</td>\n",
       "      <td>696064.010215</td>\n",
       "      <td>890819.247223</td>\n",
       "      <td>333456.389516</td>\n",
       "      <td>407300.081876</td>\n",
       "      <td>571677.017571</td>\n",
       "    </tr>\n",
       "  </tbody>\n",
       "</table>\n",
       "</div>"
      ],
      "text/plain": [
       "bedrooms      bed_2_house    bed_3_house    bed_4_house    bed_5_house  \\\n",
       "2019-12-31  493350.960814  560447.342251  755508.534470  959525.037270   \n",
       "2020-03-31  489659.119805  550949.212657  742502.106832  945094.773309   \n",
       "2020-06-30  488099.614976  546017.495483  733970.927523  935350.982503   \n",
       "2020-09-30  485399.284716  539098.695745  723723.101999  923631.358681   \n",
       "2020-12-31  483983.816448  534985.950901  716362.266298  914979.678767   \n",
       "2021-03-31  481992.739292  529944.249624  708344.753846  905574.129887   \n",
       "2021-06-30  480793.731807  526668.230892  702257.094215  898252.855729   \n",
       "2021-09-30  479327.719608  523023.902072  696064.010215  890819.247223   \n",
       "\n",
       "bedrooms       bed_1_unit     bed_2_unit     bed_3_unit  \n",
       "2019-12-31  337131.654259  413737.683107  592511.623579  \n",
       "2020-03-31  336023.841542  411442.987185  587944.727509  \n",
       "2020-06-30  335611.279781  410514.904343  584641.399870  \n",
       "2020-09-30  334868.729794  409156.382257  581108.936572  \n",
       "2020-12-31  334542.770295  408624.570586  578439.182935  \n",
       "2021-03-31  334042.800127  407884.956720  575757.785488  \n",
       "2021-06-30  333792.455798  407640.455247  573673.482180  \n",
       "2021-09-30  333456.389516  407300.081876  571677.017571  "
      ]
     },
     "execution_count": 310,
     "metadata": {},
     "output_type": "execute_result"
    }
   ],
   "source": [
    "# We specify the number of quarters we want to forecast\n",
    "n_forecast = 8\n",
    "\n",
    "# We specify that when do we want to start the forecast \n",
    "predict_piv = fitted_model_piv.get_prediction(start=len(df_piv),end=len(df_piv) + n_forecast-1)\n",
    "\n",
    "predictions_piv=predict_piv.predicted_mean\n",
    "\n",
    "# We rename the columns as the name of the columns in the real dataset\n",
    "predictions_piv.columns=df_piv.columns\n",
    "predictions_piv"
   ]
  },
  {
   "cell_type": "markdown",
   "metadata": {},
   "source": [
    "Finally, we can plot our forecast."
   ]
  },
  {
   "cell_type": "code",
   "execution_count": 311,
   "metadata": {},
   "outputs": [
    {
     "data": {
      "text/plain": [
       "Text(0, 0.5, 'Price')"
      ]
     },
     "execution_count": 311,
     "metadata": {},
     "output_type": "execute_result"
    },
    {
     "data": {
      "image/png": "[encoded data removed]",
      "text/plain": [
       "<Figure size 864x360 with 1 Axes>"
      ]
     },
     "metadata": {
      "needs_background": "light"
     },
     "output_type": "display_data"
    }
   ],
   "source": [
    "# We create a variable of 8 quarters for the following\n",
    "date_piv = list(predictions_piv.index)\n",
    "\n",
    "# Concatenate the real dataset with the forecast\n",
    "test_vs_pred_piv=pd.concat([df_piv,predictions_piv],axis=0)\n",
    "\n",
    "\n",
    "# Plot the forecast along with the previous values \n",
    "test_vs_pred_piv.plot(figsize=(12,5))\n",
    "plt.axvline(x='2019-09-30', color = 'black')\n",
    "plt.title('Evolution of the price and forecast on the 8 following quarters')\n",
    "plt.xlabel('Years')\n",
    "plt.ylabel('Price')"
   ]
  },
  {
   "cell_type": "markdown",
   "metadata": {},
   "source": [
    "The black vertical line is the limit of our real dataset. The plot on the right side of this line is our forecast. We can observe that the forecast has for most of the properties, a suitable prediction for the 8 future quarters. As expected, it seems that the model has some difficulty to ensure a smooth variation with the first forecast quarter for houses with 3 bedrooms.  "
   ]
  },
  {
   "cell_type": "markdown",
   "metadata": {},
   "source": [
    "## LSTM model"
   ]
  },
  {
   "cell_type": "markdown",
   "metadata": {},
   "source": [
    "Now, we will focus on one of the Recurrent Neural Network (RNN) model which is the Long Short-Term Memory (LSTM) model. We want to assess the performance of this model and compare with the previous model.\n",
    "\n",
    "Before working with this model, we need to process the data in order to have the suitable input. First, we begin to split the data as before."
   ]
  },
  {
   "cell_type": "code",
   "execution_count": 124,
   "metadata": {},
   "outputs": [],
   "source": [
    "# Split the training and testing set to the last 5 quarters \n",
    "train_df_piv=df_piv[:-5]\n",
    "test_df_piv=df_piv[-5:]"
   ]
  },
  {
   "cell_type": "markdown",
   "metadata": {},
   "source": [
    "In order to use the LSTM model, we need to standardize the data. We will thus use the MinMaxScaler package to do so. We will fit the scaler to the training data and transform the training and testing set."
   ]
  },
  {
   "cell_type": "markdown",
   "metadata": {},
   "source": [
    "### Process the input"
   ]
  },
  {
   "cell_type": "code",
   "execution_count": 386,
   "metadata": {},
   "outputs": [],
   "source": [
    "# Standardize the train and test set\n",
    "from sklearn.preprocessing import MinMaxScaler\n",
    "\n",
    "scaler_piv = MinMaxScaler()\n",
    "scaler_piv.fit(train_df_piv)\n",
    "scaled_train_piv = scaler_piv.transform(train_df_piv)\n",
    "scaled_test_piv = scaler_piv.transform(test_df_piv)"
   ]
  },
  {
   "cell_type": "markdown",
   "metadata": {},
   "source": [
    "We will then use the TimeseriesGenerator method. The goal of the generator is to transform the multivariate time series data into samples. We need to specify the number of input of each sequence. When we fit the model on the time series generator, we will predict the outcome based on the number of inputs. For example, if the input is the price for the first 4 quarters, the generator will give the price for the 5-th quarter. Then we will take as an input the price from the second to the 5-th quarter and the generator will give us the 6-th quarter's price and so on."
   ]
  },
  {
   "cell_type": "code",
   "execution_count": 387,
   "metadata": {},
   "outputs": [],
   "source": [
    "from keras.preprocessing.sequence import TimeseriesGenerator"
   ]
  },
  {
   "cell_type": "code",
   "execution_count": 388,
   "metadata": {},
   "outputs": [],
   "source": [
    "# The input in the generator will be 2 quarters. We also specify the number of inputs.\n",
    "n_input = 2\n",
    "n_features = 7\n",
    "generator_piv = TimeseriesGenerator(scaled_train_piv, scaled_train_piv, length=n_input, batch_size=1)\n"
   ]
  },
  {
   "cell_type": "code",
   "execution_count": 389,
   "metadata": {},
   "outputs": [],
   "source": [
    "from keras.models import Sequential\n",
    "from keras.layers import Dense\n",
    "from keras.layers import LSTM"
   ]
  },
  {
   "cell_type": "markdown",
   "metadata": {},
   "source": [
    "Finally, we define the model. We will use three layers and the output would be the price for each number of bedrooms (7 outputs). The loss function is the mean aboslute error to still remain robust to the outliers and we use the Adam optimizer."
   ]
  },
  {
   "cell_type": "markdown",
   "metadata": {},
   "source": [
    "### Create and train the model"
   ]
  },
  {
   "cell_type": "code",
   "execution_count": 390,
   "metadata": {},
   "outputs": [
    {
     "name": "stdout",
     "output_type": "stream",
     "text": [
      "Model: \"sequential_17\"\n",
      "_________________________________________________________________\n",
      " Layer (type)                Output Shape              Param #   \n",
      "=================================================================\n",
      " lstm_30 (LSTM)              (None, 2, 100)            43200     \n",
      "                                                                 \n",
      " lstm_31 (LSTM)              (None, 100)               80400     \n",
      "                                                                 \n",
      " dense_14 (Dense)            (None, 7)                 707       \n",
      "                                                                 \n",
      "=================================================================\n",
      "Total params: 124,307\n",
      "Trainable params: 124,307\n",
      "Non-trainable params: 0\n",
      "_________________________________________________________________\n"
     ]
    }
   ],
   "source": [
    "# Build LSTM model\n",
    "model_lstm_piv = Sequential()\n",
    "model_lstm_piv.add(LSTM(100, activation='relu',return_sequences=True, input_shape=(n_input, n_features)))\n",
    "model_lstm_piv.add(LSTM(100, activation='relu'))\n",
    "model_lstm_piv.add(Dense(7))\n",
    "model_lstm_piv.compile(optimizer='adam', loss='mae')\n",
    "\n",
    "# Let's look to the model\n",
    "model_lstm_piv.summary()"
   ]
  },
  {
   "cell_type": "code",
   "execution_count": 391,
   "metadata": {
    "scrolled": true
   },
   "outputs": [
    {
     "name": "stdout",
     "output_type": "stream",
     "text": [
      "Epoch 1/50\n",
      "43/43 [==============================] - 3s 5ms/step - loss: 0.3589\n",
      "Epoch 2/50\n",
      "43/43 [==============================] - 0s 6ms/step - loss: 0.1494\n",
      "Epoch 3/50\n",
      "43/43 [==============================] - 0s 6ms/step - loss: 0.1296\n",
      "Epoch 4/50\n",
      "43/43 [==============================] - 0s 5ms/step - loss: 0.1163\n",
      "Epoch 5/50\n",
      "43/43 [==============================] - 0s 5ms/step - loss: 0.1075\n",
      "Epoch 6/50\n",
      "43/43 [==============================] - 0s 6ms/step - loss: 0.0849\n",
      "Epoch 7/50\n",
      "43/43 [==============================] - 0s 6ms/step - loss: 0.0768\n",
      "Epoch 8/50\n",
      "43/43 [==============================] - 0s 6ms/step - loss: 0.0714\n",
      "Epoch 9/50\n",
      "43/43 [==============================] - 0s 6ms/step - loss: 0.0738\n",
      "Epoch 10/50\n",
      "43/43 [==============================] - 0s 6ms/step - loss: 0.0747\n",
      "Epoch 11/50\n",
      "43/43 [==============================] - 0s 6ms/step - loss: 0.0664\n",
      "Epoch 12/50\n",
      "43/43 [==============================] - 0s 6ms/step - loss: 0.0669\n",
      "Epoch 13/50\n",
      "43/43 [==============================] - 0s 5ms/step - loss: 0.0631\n",
      "Epoch 14/50\n",
      "43/43 [==============================] - 0s 5ms/step - loss: 0.0590\n",
      "Epoch 15/50\n",
      "43/43 [==============================] - 0s 6ms/step - loss: 0.0585\n",
      "Epoch 16/50\n",
      "43/43 [==============================] - 0s 6ms/step - loss: 0.0582\n",
      "Epoch 17/50\n",
      "43/43 [==============================] - 0s 6ms/step - loss: 0.0572\n",
      "Epoch 18/50\n",
      "43/43 [==============================] - 0s 6ms/step - loss: 0.0615\n",
      "Epoch 19/50\n",
      "43/43 [==============================] - 0s 6ms/step - loss: 0.0551\n",
      "Epoch 20/50\n",
      "43/43 [==============================] - 0s 6ms/step - loss: 0.0506\n",
      "Epoch 21/50\n",
      "43/43 [==============================] - 0s 5ms/step - loss: 0.0467\n",
      "Epoch 22/50\n",
      "43/43 [==============================] - 0s 6ms/step - loss: 0.0509\n",
      "Epoch 23/50\n",
      "43/43 [==============================] - 0s 5ms/step - loss: 0.0602\n",
      "Epoch 24/50\n",
      "43/43 [==============================] - 0s 5ms/step - loss: 0.0494\n",
      "Epoch 25/50\n",
      "43/43 [==============================] - 0s 6ms/step - loss: 0.0514\n",
      "Epoch 26/50\n",
      "43/43 [==============================] - 0s 6ms/step - loss: 0.0406\n",
      "Epoch 27/50\n",
      "43/43 [==============================] - 0s 5ms/step - loss: 0.0404\n",
      "Epoch 28/50\n",
      "43/43 [==============================] - 0s 5ms/step - loss: 0.0555\n",
      "Epoch 29/50\n",
      "43/43 [==============================] - 0s 6ms/step - loss: 0.0439\n",
      "Epoch 30/50\n",
      "43/43 [==============================] - 0s 6ms/step - loss: 0.0469\n",
      "Epoch 31/50\n",
      "43/43 [==============================] - 0s 6ms/step - loss: 0.0390\n",
      "Epoch 32/50\n",
      "43/43 [==============================] - 0s 6ms/step - loss: 0.0421\n",
      "Epoch 33/50\n",
      "43/43 [==============================] - 0s 6ms/step - loss: 0.0389\n",
      "Epoch 34/50\n",
      "43/43 [==============================] - 0s 6ms/step - loss: 0.0396\n",
      "Epoch 35/50\n",
      "43/43 [==============================] - 0s 6ms/step - loss: 0.0388\n",
      "Epoch 36/50\n",
      "43/43 [==============================] - 0s 6ms/step - loss: 0.0398\n",
      "Epoch 37/50\n",
      "43/43 [==============================] - 0s 6ms/step - loss: 0.0422\n",
      "Epoch 38/50\n",
      "43/43 [==============================] - 0s 6ms/step - loss: 0.0420\n",
      "Epoch 39/50\n",
      "43/43 [==============================] - 0s 6ms/step - loss: 0.0399\n",
      "Epoch 40/50\n",
      "43/43 [==============================] - 0s 6ms/step - loss: 0.0393\n",
      "Epoch 41/50\n",
      "43/43 [==============================] - 0s 6ms/step - loss: 0.0366\n",
      "Epoch 42/50\n",
      "43/43 [==============================] - 0s 6ms/step - loss: 0.0371\n",
      "Epoch 43/50\n",
      "43/43 [==============================] - 0s 6ms/step - loss: 0.0412\n",
      "Epoch 44/50\n",
      "43/43 [==============================] - 0s 6ms/step - loss: 0.0364\n",
      "Epoch 45/50\n",
      "43/43 [==============================] - 0s 6ms/step - loss: 0.0403\n",
      "Epoch 46/50\n",
      "43/43 [==============================] - 0s 6ms/step - loss: 0.0376\n",
      "Epoch 47/50\n",
      "43/43 [==============================] - 0s 6ms/step - loss: 0.0356\n",
      "Epoch 48/50\n",
      "43/43 [==============================] - 0s 6ms/step - loss: 0.0351\n",
      "Epoch 49/50\n",
      "43/43 [==============================] - 0s 5ms/step - loss: 0.0363\n",
      "Epoch 50/50\n",
      "43/43 [==============================] - 0s 6ms/step - loss: 0.0396\n"
     ]
    },
    {
     "data": {
      "text/plain": [
       "<keras.callbacks.History at 0x1652fb8d0>"
      ]
     },
     "execution_count": 391,
     "metadata": {},
     "output_type": "execute_result"
    }
   ],
   "source": [
    "# Fit model with 50 epochs\n",
    "model_lstm_piv.fit(generator_piv,epochs=50)"
   ]
  },
  {
   "cell_type": "markdown",
   "metadata": {},
   "source": [
    "Let's take a look to the evolution of the loss function"
   ]
  },
  {
   "cell_type": "code",
   "execution_count": 392,
   "metadata": {},
   "outputs": [
    {
     "data": {
      "text/plain": [
       "Text(0.5, 1.0, 'Evolution of the loss function')"
      ]
     },
     "execution_count": 392,
     "metadata": {},
     "output_type": "execute_result"
    },
    {
     "data": {
      "image/png": "[encoded data removed]",
      "text/plain": [
       "<Figure size 432x288 with 1 Axes>"
      ]
     },
     "metadata": {
      "needs_background": "light"
     },
     "output_type": "display_data"
    }
   ],
   "source": [
    "# Plot the evolution of the loss function\n",
    "loss_per_epoch_piv = model_lstm_piv.history.history['loss']\n",
    "plt.plot(range(len(loss_per_epoch_piv)),loss_per_epoch_piv)\n",
    "plt.ylabel('MSE')\n",
    "plt.xlabel('Number of epoch')\n",
    "plt.title('Evolution of the loss function')"
   ]
  },
  {
   "cell_type": "markdown",
   "metadata": {},
   "source": [
    "It seems that it remains more or less constant from 35 epochs.\n",
    "\n",
    "Now, we want to evalute our model on the test set. To do so, we will use the training set and the generator to predict the price of the following quarter. Then, we will store all these predictions in a list and compare the values to the test set."
   ]
  },
  {
   "cell_type": "markdown",
   "metadata": {},
   "source": [
    "### Evaluate the model"
   ]
  },
  {
   "cell_type": "code",
   "execution_count": 393,
   "metadata": {},
   "outputs": [
    {
     "data": {
      "text/plain": [
       "[array([0.9807303 , 0.9165554 , 0.91532224, 0.9366052 , 0.6332918 ,\n",
       "        0.9156141 , 0.8196353 ], dtype=float32),\n",
       " array([0.95676064, 0.892498  , 0.8895573 , 0.9096576 , 0.6251321 ,\n",
       "        0.9144211 , 0.8133991 ], dtype=float32),\n",
       " array([0.90876967, 0.85183346, 0.84112495, 0.8690675 , 0.5768396 ,\n",
       "        0.91085947, 0.8140852 ], dtype=float32),\n",
       " array([0.8748986 , 0.82486606, 0.80803597, 0.84267646, 0.54037005,\n",
       "        0.90868473, 0.8141908 ], dtype=float32),\n",
       " array([0.8367421 , 0.7965332 , 0.7719816 , 0.81737834, 0.48846206,\n",
       "        0.905352  , 0.8174679 ], dtype=float32)]"
      ]
     },
     "execution_count": 393,
     "metadata": {},
     "output_type": "execute_result"
    }
   ],
   "source": [
    "# The list that would take the values of the predictions\n",
    "test_predictions_piv = []\n",
    "\n",
    "# Each batch is needed to predict the following quarter\n",
    "first_eval_batch_piv = scaled_train_piv[-n_input:]\n",
    "current_batch_piv = first_eval_batch_piv.reshape((1, n_input, n_features))\n",
    "\n",
    "for i in range(len(test_df_piv)):\n",
    "    \n",
    "    # Get the prediction value from each batch\n",
    "    current_pred_piv = model_lstm_piv.predict(current_batch_piv)[0]\n",
    "    \n",
    "    # Append the prediction into the list\n",
    "    test_predictions_piv.append(current_pred_piv) \n",
    "    \n",
    "    # Use the prediction to update the batch and remove the first value\n",
    "    current_batch_piv = np.append(current_batch_piv[:,1:,:],[[current_pred_piv]],axis=1)\n",
    "    \n",
    "test_predictions_piv"
   ]
  },
  {
   "cell_type": "code",
   "execution_count": 394,
   "metadata": {},
   "outputs": [
    {
     "name": "stderr",
     "output_type": "stream",
     "text": [
      "/Applications/anaconda3/lib/python3.7/site-packages/ipykernel_launcher.py:10: SettingWithCopyWarning: \n",
      "A value is trying to be set on a copy of a slice from a DataFrame.\n",
      "Try using .loc[row_indexer,col_indexer] = value instead\n",
      "\n",
      "See the caveats in the documentation: https://pandas.pydata.org/pandas-docs/stable/user_guide/indexing.html#returning-a-view-versus-a-copy\n",
      "  # Remove the CWD from sys.path while we load stuff.\n",
      "/Applications/anaconda3/lib/python3.7/site-packages/ipykernel_launcher.py:11: SettingWithCopyWarning: \n",
      "A value is trying to be set on a copy of a slice from a DataFrame.\n",
      "Try using .loc[row_indexer,col_indexer] = value instead\n",
      "\n",
      "See the caveats in the documentation: https://pandas.pydata.org/pandas-docs/stable/user_guide/indexing.html#returning-a-view-versus-a-copy\n",
      "  # This is added back by InteractiveShellApp.init_path()\n",
      "/Applications/anaconda3/lib/python3.7/site-packages/ipykernel_launcher.py:12: SettingWithCopyWarning: \n",
      "A value is trying to be set on a copy of a slice from a DataFrame.\n",
      "Try using .loc[row_indexer,col_indexer] = value instead\n",
      "\n",
      "See the caveats in the documentation: https://pandas.pydata.org/pandas-docs/stable/user_guide/indexing.html#returning-a-view-versus-a-copy\n",
      "  if sys.path[0] == '':\n",
      "/Applications/anaconda3/lib/python3.7/site-packages/ipykernel_launcher.py:13: SettingWithCopyWarning: \n",
      "A value is trying to be set on a copy of a slice from a DataFrame.\n",
      "Try using .loc[row_indexer,col_indexer] = value instead\n",
      "\n",
      "See the caveats in the documentation: https://pandas.pydata.org/pandas-docs/stable/user_guide/indexing.html#returning-a-view-versus-a-copy\n",
      "  del sys.path[0]\n",
      "/Applications/anaconda3/lib/python3.7/site-packages/ipykernel_launcher.py:14: SettingWithCopyWarning: \n",
      "A value is trying to be set on a copy of a slice from a DataFrame.\n",
      "Try using .loc[row_indexer,col_indexer] = value instead\n",
      "\n",
      "See the caveats in the documentation: https://pandas.pydata.org/pandas-docs/stable/user_guide/indexing.html#returning-a-view-versus-a-copy\n",
      "  \n",
      "/Applications/anaconda3/lib/python3.7/site-packages/ipykernel_launcher.py:15: SettingWithCopyWarning: \n",
      "A value is trying to be set on a copy of a slice from a DataFrame.\n",
      "Try using .loc[row_indexer,col_indexer] = value instead\n",
      "\n",
      "See the caveats in the documentation: https://pandas.pydata.org/pandas-docs/stable/user_guide/indexing.html#returning-a-view-versus-a-copy\n",
      "  from ipykernel import kernelapp as app\n",
      "/Applications/anaconda3/lib/python3.7/site-packages/ipykernel_launcher.py:16: SettingWithCopyWarning: \n",
      "A value is trying to be set on a copy of a slice from a DataFrame.\n",
      "Try using .loc[row_indexer,col_indexer] = value instead\n",
      "\n",
      "See the caveats in the documentation: https://pandas.pydata.org/pandas-docs/stable/user_guide/indexing.html#returning-a-view-versus-a-copy\n",
      "  app.launch_new_instance()\n"
     ]
    },
    {
     "data": {
      "text/html": [
       "<div>\n",
       "<style scoped>\n",
       "    .dataframe tbody tr th:only-of-type {\n",
       "        vertical-align: middle;\n",
       "    }\n",
       "\n",
       "    .dataframe tbody tr th {\n",
       "        vertical-align: top;\n",
       "    }\n",
       "\n",
       "    .dataframe thead th {\n",
       "        text-align: right;\n",
       "    }\n",
       "</style>\n",
       "<table border=\"1\" class=\"dataframe\">\n",
       "  <thead>\n",
       "    <tr style=\"text-align: right;\">\n",
       "      <th>bedrooms</th>\n",
       "      <th>bed_2_house</th>\n",
       "      <th>bed_3_house</th>\n",
       "      <th>bed_4_house</th>\n",
       "      <th>bed_5_house</th>\n",
       "      <th>bed_1_unit</th>\n",
       "      <th>bed_2_unit</th>\n",
       "      <th>bed_3_unit</th>\n",
       "      <th>pred_2_house</th>\n",
       "      <th>pred_3_house</th>\n",
       "      <th>pred_4_house</th>\n",
       "      <th>pred_5_house</th>\n",
       "      <th>pred_1_unit</th>\n",
       "      <th>pred_2_unit</th>\n",
       "      <th>pred_3_unit</th>\n",
       "    </tr>\n",
       "    <tr>\n",
       "      <th>saledate</th>\n",
       "      <th></th>\n",
       "      <th></th>\n",
       "      <th></th>\n",
       "      <th></th>\n",
       "      <th></th>\n",
       "      <th></th>\n",
       "      <th></th>\n",
       "      <th></th>\n",
       "      <th></th>\n",
       "      <th></th>\n",
       "      <th></th>\n",
       "      <th></th>\n",
       "      <th></th>\n",
       "      <th></th>\n",
       "    </tr>\n",
       "  </thead>\n",
       "  <tbody>\n",
       "    <tr>\n",
       "      <th>2018-09-30</th>\n",
       "      <td>504318.0</td>\n",
       "      <td>624602.0</td>\n",
       "      <td>830727.0</td>\n",
       "      <td>1007114.0</td>\n",
       "      <td>339220.0</td>\n",
       "      <td>426970.0</td>\n",
       "      <td>603281.0</td>\n",
       "      <td>505954.521064</td>\n",
       "      <td>605240.114962</td>\n",
       "      <td>812880.201372</td>\n",
       "      <td>999884.306658</td>\n",
       "      <td>336864.980255</td>\n",
       "      <td>427401.654373</td>\n",
       "      <td>603443.264145</td>\n",
       "    </tr>\n",
       "    <tr>\n",
       "      <th>2018-12-31</th>\n",
       "      <td>506001.0</td>\n",
       "      <td>626608.0</td>\n",
       "      <td>820924.0</td>\n",
       "      <td>1002323.0</td>\n",
       "      <td>339350.0</td>\n",
       "      <td>426936.0</td>\n",
       "      <td>601167.0</td>\n",
       "      <td>504345.558290</td>\n",
       "      <td>600273.828007</td>\n",
       "      <td>805451.498656</td>\n",
       "      <td>992289.174552</td>\n",
       "      <td>336605.820117</td>\n",
       "      <td>427325.318481</td>\n",
       "      <td>602800.100352</td>\n",
       "    </tr>\n",
       "    <tr>\n",
       "      <th>2019-03-31</th>\n",
       "      <td>496133.0</td>\n",
       "      <td>628423.0</td>\n",
       "      <td>811121.0</td>\n",
       "      <td>998136.0</td>\n",
       "      <td>337838.0</td>\n",
       "      <td>426669.0</td>\n",
       "      <td>605637.0</td>\n",
       "      <td>501124.163907</td>\n",
       "      <td>591879.240876</td>\n",
       "      <td>791487.192864</td>\n",
       "      <td>980848.933950</td>\n",
       "      <td>335072.003356</td>\n",
       "      <td>427097.432047</td>\n",
       "      <td>602870.861524</td>\n",
       "    </tr>\n",
       "    <tr>\n",
       "      <th>2019-06-30</th>\n",
       "      <td>500158.0</td>\n",
       "      <td>630814.0</td>\n",
       "      <td>803925.0</td>\n",
       "      <td>995363.0</td>\n",
       "      <td>336551.0</td>\n",
       "      <td>425659.0</td>\n",
       "      <td>599339.0</td>\n",
       "      <td>498850.569364</td>\n",
       "      <td>586312.224362</td>\n",
       "      <td>781946.779010</td>\n",
       "      <td>973410.675107</td>\n",
       "      <td>333913.693066</td>\n",
       "      <td>426958.283798</td>\n",
       "      <td>602881.754479</td>\n",
       "    </tr>\n",
       "    <tr>\n",
       "      <th>2019-09-30</th>\n",
       "      <td>510712.0</td>\n",
       "      <td>631875.0</td>\n",
       "      <td>791446.0</td>\n",
       "      <td>970268.0</td>\n",
       "      <td>335449.0</td>\n",
       "      <td>424412.0</td>\n",
       "      <td>597884.0</td>\n",
       "      <td>496289.313671</td>\n",
       "      <td>580463.336709</td>\n",
       "      <td>771551.365921</td>\n",
       "      <td>966280.450979</td>\n",
       "      <td>332265.043510</td>\n",
       "      <td>426745.042139</td>\n",
       "      <td>603219.737279</td>\n",
       "    </tr>\n",
       "  </tbody>\n",
       "</table>\n",
       "</div>"
      ],
      "text/plain": [
       "bedrooms    bed_2_house  bed_3_house  bed_4_house  bed_5_house  bed_1_unit  \\\n",
       "saledate                                                                     \n",
       "2018-09-30     504318.0     624602.0     830727.0    1007114.0    339220.0   \n",
       "2018-12-31     506001.0     626608.0     820924.0    1002323.0    339350.0   \n",
       "2019-03-31     496133.0     628423.0     811121.0     998136.0    337838.0   \n",
       "2019-06-30     500158.0     630814.0     803925.0     995363.0    336551.0   \n",
       "2019-09-30     510712.0     631875.0     791446.0     970268.0    335449.0   \n",
       "\n",
       "bedrooms    bed_2_unit  bed_3_unit   pred_2_house   pred_3_house  \\\n",
       "saledate                                                           \n",
       "2018-09-30    426970.0    603281.0  505954.521064  605240.114962   \n",
       "2018-12-31    426936.0    601167.0  504345.558290  600273.828007   \n",
       "2019-03-31    426669.0    605637.0  501124.163907  591879.240876   \n",
       "2019-06-30    425659.0    599339.0  498850.569364  586312.224362   \n",
       "2019-09-30    424412.0    597884.0  496289.313671  580463.336709   \n",
       "\n",
       "bedrooms     pred_4_house   pred_5_house    pred_1_unit    pred_2_unit  \\\n",
       "saledate                                                                 \n",
       "2018-09-30  812880.201372  999884.306658  336864.980255  427401.654373   \n",
       "2018-12-31  805451.498656  992289.174552  336605.820117  427325.318481   \n",
       "2019-03-31  791487.192864  980848.933950  335072.003356  427097.432047   \n",
       "2019-06-30  781946.779010  973410.675107  333913.693066  426958.283798   \n",
       "2019-09-30  771551.365921  966280.450979  332265.043510  426745.042139   \n",
       "\n",
       "bedrooms      pred_3_unit  \n",
       "saledate                   \n",
       "2018-09-30  603443.264145  \n",
       "2018-12-31  602800.100352  \n",
       "2019-03-31  602870.861524  \n",
       "2019-06-30  602881.754479  \n",
       "2019-09-30  603219.737279  "
      ]
     },
     "execution_count": 394,
     "metadata": {},
     "output_type": "execute_result"
    }
   ],
   "source": [
    "# Inverse the transformation of the scaler to get the real value of the price \n",
    "true_predictions_piv = scaler_piv.inverse_transform(test_predictions_piv)\n",
    "\n",
    "# Rename the dataframe \n",
    "pred_piv = pd.DataFrame(true_predictions_piv, columns = ['pred_2_house','pred_3_house',\n",
    "                                                         'pred_4_house','pred_5_house',\n",
    "                                                         'pred_1_unit','pred_2_unit','pred_3_unit'])\n",
    "\n",
    "# Update the test set to compare with the prediction\n",
    "test_df_piv['pred_2_house'] = pred_piv['pred_2_house'].values\n",
    "test_df_piv['pred_3_house'] = pred_piv['pred_3_house'].values\n",
    "test_df_piv['pred_4_house'] = pred_piv['pred_4_house'].values\n",
    "test_df_piv['pred_5_house'] = pred_piv['pred_5_house'].values\n",
    "test_df_piv['pred_1_unit'] = pred_piv['pred_1_unit'].values\n",
    "test_df_piv['pred_2_unit'] = pred_piv['pred_2_unit'].values\n",
    "test_df_piv['pred_3_unit'] = pred_piv['pred_3_unit'].values\n",
    "\n",
    "test_df_piv"
   ]
  },
  {
   "cell_type": "markdown",
   "metadata": {},
   "source": [
    "Then we can plot the real evolution of the price and the prediction."
   ]
  },
  {
   "cell_type": "code",
   "execution_count": 395,
   "metadata": {
    "scrolled": false
   },
   "outputs": [
    {
     "data": {
      "text/plain": [
       "Text(0, 0.5, 'Price')"
      ]
     },
     "execution_count": 395,
     "metadata": {},
     "output_type": "execute_result"
    },
    {
     "data": {
      "image/png": "[encoded data removed]",
      "text/plain": [
       "<Figure size 1008x360 with 1 Axes>"
      ]
     },
     "metadata": {
      "needs_background": "light"
     },
     "output_type": "display_data"
    }
   ],
   "source": [
    "# Plot the test set and the prediction\n",
    "test_df_piv.plot(figsize=(14,5))\n",
    "plt.title('Evolution of the price on the test set with the LSTM model')\n",
    "plt.xlabel('Date')\n",
    "plt.ylabel('Price')"
   ]
  },
  {
   "cell_type": "markdown",
   "metadata": {},
   "source": [
    "It seems that the model has some difficulties to well predict houses with 5 and 4 bedrooms. Let's evaluate the model on the test set by using the MAE as the evaluation metric."
   ]
  },
  {
   "cell_type": "code",
   "execution_count": 396,
   "metadata": {},
   "outputs": [
    {
     "name": "stdout",
     "output_type": "stream",
     "text": [
      "For a house with 2 bedrooms\n",
      "Mean value of the price is : 503464.4.  \n",
      "The Mean Absolute Error is : 4802.648729407787\n",
      "The MAPE is : 0.9%.\n",
      "\n",
      "\n",
      "For a house with 3 bedrooms\n",
      "Mean value of the price is : 628464.4. \n",
      "The Mean Absolute Error is : 35630.65101709366\n",
      "The MAPE is : 5.7%.\n",
      "\n",
      "\n",
      "For a house with 4 bedrooms\n",
      "Mean value of the price is : 811628.6.  \n",
      "The Mean Absolute Error is : 18965.192435479163\n",
      "The MAPE is : 2.3%.\n",
      "\n",
      "\n",
      "For a house with 5 bedrooms\n",
      "Mean value of the price is : 994640.8. \n",
      "The Mean Absolute Error is : 12098.091750812531\n",
      "The MAPE is : 1.2%.\n",
      "\n",
      "\n",
      "For a unit with 1 bedroom\n",
      "Mean value of the price is : 337681.6.  \n",
      "The Mean Absolute Error is : 2737.2919394671917\n",
      "The MAPE is : 0.8%.\n",
      "\n",
      "\n",
      "For a unit with 2 bedrooms\n",
      "Mean value of the price is : 426129.2. \n",
      "The Mean Absolute Error is : 976.3461677550688\n",
      "The MAPE is : 0.2%.\n",
      "\n",
      "\n",
      "For a unit with 3 bedrooms\n",
      "Mean value of the price is : 601461.6.  \n",
      "The Mean Absolute Error is : 2687.9989461421965\n",
      "The MAPE is : 0.4%.\n"
     ]
    }
   ],
   "source": [
    "print('For a house with 2 bedrooms')\n",
    "bed_2_lstm_piv = mean_absolute_error(test_df_piv['pred_2_house'],test_df_piv.iloc[:,0])\n",
    "print('Mean value of the price is : {}.  \\nThe Mean Absolute Error is : {}'.format(mean(test_df_piv.iloc[:,0]),bed_2_lstm_piv))\n",
    "print('The MAPE is : {}' .format(round(MAPE(test_df_piv.iloc[:,0],test_df_piv['pred_2_house']),1))+ '%.')\n",
    "\n",
    "print('\\n')\n",
    "\n",
    "print('For a house with 3 bedrooms')\n",
    "bed_3_lstm_piv = mean_absolute_error(test_df_piv['pred_3_house'],test_df_piv.iloc[:,1])\n",
    "print('Mean value of the price is : {}. \\nThe Mean Absolute Error is : {}'.format(mean(test_df_piv.iloc[:,1]),bed_3_lstm_piv))\n",
    "print('The MAPE is : {}' .format(round(MAPE(test_df_piv.iloc[:,1],test_df_piv['pred_3_house']),1))+ '%.')\n",
    "\n",
    "print('\\n')\n",
    "\n",
    "print('For a house with 4 bedrooms')\n",
    "bed_4_lstm_piv = mean_absolute_error(test_df_piv['pred_4_house'],test_df_piv.iloc[:,2])\n",
    "print('Mean value of the price is : {}.  \\nThe Mean Absolute Error is : {}'.format(mean(test_df_piv.iloc[:,2]),bed_4_lstm_piv))\n",
    "print('The MAPE is : {}' .format(round(MAPE(test_df_piv.iloc[:,2],test_df_piv['pred_4_house']),1))+ '%.')\n",
    "\n",
    "print('\\n')\n",
    "\n",
    "print('For a house with 5 bedrooms')\n",
    "bed_5_lstm_piv = mean_absolute_error(test_df_piv['pred_5_house'],test_df_piv.iloc[:,3])\n",
    "print('Mean value of the price is : {}. \\nThe Mean Absolute Error is : {}'.format(mean(test_df_piv.iloc[:,3]),bed_5_lstm_piv))\n",
    "print('The MAPE is : {}' .format(round(MAPE(test_df_piv.iloc[:,3],test_df_piv['pred_5_house']),1))+ '%.')\n",
    "\n",
    "\n",
    "print('\\n')\n",
    "\n",
    "print('For a unit with 1 bedroom')\n",
    "bed_1_lstm_unit_piv = mean_absolute_error(test_df_piv['pred_1_unit'],test_df_piv.iloc[:,4])\n",
    "print('Mean value of the price is : {}.  \\nThe Mean Absolute Error is : {}'.format(mean(test_df_piv.iloc[:,4]),bed_1_lstm_unit_piv))\n",
    "print('The MAPE is : {}' .format(round(MAPE(test_df_piv.iloc[:,4],test_df_piv['pred_1_unit']),1))+ '%.')\n",
    "\n",
    "print('\\n')\n",
    "\n",
    "print('For a unit with 2 bedrooms')\n",
    "bed_2_lstm_unit_piv = mean_absolute_error(test_df_piv['pred_2_unit'],test_df_piv.iloc[:,5])\n",
    "print('Mean value of the price is : {}. \\nThe Mean Absolute Error is : {}'.format(mean(test_df_piv.iloc[:,5]),bed_2_lstm_unit_piv))\n",
    "print('The MAPE is : {}' .format(round(MAPE(test_df_piv.iloc[:,5],test_df_piv['pred_2_unit']),1))+ '%.')\n",
    "\n",
    "print('\\n')\n",
    "\n",
    "print('For a unit with 3 bedrooms')\n",
    "bed_3_lstm_unit_piv = mean_absolute_error(test_df_piv['pred_3_unit'],test_df_piv.iloc[:,6])\n",
    "print('Mean value of the price is : {}.  \\nThe Mean Absolute Error is : {}'.format(mean(test_df_piv.iloc[:,6]),bed_3_lstm_unit_piv))\n",
    "print('The MAPE is : {}' .format(round(MAPE(test_df_piv.iloc[:,6],test_df_piv['pred_3_unit']),1))+ '%.')\n",
    "\n"
   ]
  },
  {
   "cell_type": "code",
   "execution_count": 400,
   "metadata": {},
   "outputs": [
    {
     "data": {
      "text/html": [
       "<style  type=\"text/css\" >\n",
       "    #T_3f597_ th {\n",
       "          font-size: 10pt;\n",
       "    }#T_3f597_row0_col0,#T_3f597_row0_col1,#T_3f597_row0_col2,#T_3f597_row0_col3,#T_3f597_row0_col4,#T_3f597_row0_col5,#T_3f597_row0_col6{\n",
       "            font-size:  10pt;\n",
       "        }</style><table id=\"T_3f597_\" ><thead>    <tr>        <th class=\"blank level0\" ></th>        <th class=\"col_heading level0 col0\" >House with 2 bedrooms</th>        <th class=\"col_heading level0 col1\" >House with 3 bedrooms</th>        <th class=\"col_heading level0 col2\" >House with 4 bedrooms</th>        <th class=\"col_heading level0 col3\" >House with 5 bedrooms</th>        <th class=\"col_heading level0 col4\" >Unit with 1 bedroom</th>        <th class=\"col_heading level0 col5\" >Unit with 2 bedrooms</th>        <th class=\"col_heading level0 col6\" >Unit with 3 bedrooms</th>    </tr></thead><tbody>\n",
       "                <tr>\n",
       "                        <th id=\"T_3f597_level0_row0\" class=\"row_heading level0 row0\" >LSTM</th>\n",
       "                        <td id=\"T_3f597_row0_col0\" class=\"data row0 col0\" >0.9000%</td>\n",
       "                        <td id=\"T_3f597_row0_col1\" class=\"data row0 col1\" >5.7000%</td>\n",
       "                        <td id=\"T_3f597_row0_col2\" class=\"data row0 col2\" >2.3000%</td>\n",
       "                        <td id=\"T_3f597_row0_col3\" class=\"data row0 col3\" >1.2000%</td>\n",
       "                        <td id=\"T_3f597_row0_col4\" class=\"data row0 col4\" >0.8000%</td>\n",
       "                        <td id=\"T_3f597_row0_col5\" class=\"data row0 col5\" >0.2000%</td>\n",
       "                        <td id=\"T_3f597_row0_col6\" class=\"data row0 col6\" >0.4000%</td>\n",
       "            </tr>\n",
       "    </tbody></table>"
      ],
      "text/plain": [
       "<pandas.io.formats.style.Styler at 0x16626fc90>"
      ]
     },
     "execution_count": 400,
     "metadata": {},
     "output_type": "execute_result"
    }
   ],
   "source": [
    "comparison_data_sec = {'House with 2 bedrooms': [\n",
    "                                         '{:.4f}'.format(round(MAPE(test_df_piv.iloc[:,0],test_df_piv['pred_2_house']),1))+'%'],\n",
    "                    'House with 3 bedrooms': [\n",
    "                                         '{:.4f}'.format(round(MAPE(test_df_piv.iloc[:,1],test_df_piv['pred_3_house']),1))+'%'],\n",
    "                   'House with 4 bedrooms': [\n",
    "                                         '{:.4f}'.format(round(MAPE(test_df_piv.iloc[:,2],test_df_piv['pred_4_house']),1))+'%'],\n",
    "                   'House with 5 bedrooms': [\n",
    "                                         '{:.4f}'.format(round(MAPE(test_df_piv.iloc[:,3],test_df_piv['pred_5_house']),1))+'%'],\n",
    "                   'Unit with 1 bedroom': [\n",
    "                                         '{:.4f}'.format(round(MAPE(test_df_piv.iloc[:,4],test_df_piv['pred_1_unit']),1))+'%'],\n",
    "                   'Unit with 2 bedrooms':[\n",
    "                                         '{:.4f}'.format(round(MAPE(test_df_piv.iloc[:,5],test_df_piv['pred_2_unit']),1))+'%'],\n",
    "                  'Unit with 3 bedrooms':[\n",
    "                                         '{:.4f}'.format(round(MAPE(test_df_piv.iloc[:,6],test_df_piv['pred_3_unit']),1))+'%']}\n",
    "\n",
    "comparison_table_sec = pd.DataFrame(data=comparison_data_sec, index=['LSTM'])\n",
    "comparison_table_sec.style.set_properties(**{'font-size': '10pt',}).set_table_styles([{'selector': 'th', 'props': [('font-size', '10pt')]}])"
   ]
  },
  {
   "cell_type": "markdown",
   "metadata": {},
   "source": [
    "We can see that all of the errors are less than 10% from the relative mean price. However, we can confirm that houses 3 bedrooms are those the model predicts poorly. "
   ]
  },
  {
   "cell_type": "markdown",
   "metadata": {},
   "source": [
    "### Forecast"
   ]
  },
  {
   "cell_type": "markdown",
   "metadata": {},
   "source": [
    "Now we will use the all dataset as the training set in order to forecast the 8 following quarters. "
   ]
  },
  {
   "cell_type": "code",
   "execution_count": 397,
   "metadata": {},
   "outputs": [],
   "source": [
    "# Standardize the all dataset\n",
    "scaler_forecast_piv = MinMaxScaler()\n",
    "scaler_forecast_piv.fit(df_piv)\n",
    "scaled_df_piv = scaler_forecast_piv.transform(df_piv)\n",
    "\n",
    "# List that would take the values of the forecast\n",
    "test_predictions_lstm_forecast_piv = []\n",
    "\n",
    "first_eval_batch_lstm_forecast_piv = scaled_df_piv[-n_input:]\n",
    "current_batch_lstm_forecast_piv = first_eval_batch_lstm_forecast_piv.reshape((1, n_input, n_features))\n",
    "\n",
    "# For the 8 next quarters, we are predicting the price\n",
    "for i in range(8):\n",
    "    \n",
    "    # Get the prediction value from the batch\n",
    "    current_pred_lstm_forecast_piv = model_lstm_piv.predict(current_batch_lstm_forecast_piv)[0]\n",
    "    \n",
    "    # Append the prediction into the list\n",
    "    test_predictions_lstm_forecast_piv.append(current_pred_lstm_forecast_piv) \n",
    "    \n",
    "    # Use the prediction to update the batch and remove the first value\n",
    "    current_batch_lstm_forecast_piv = np.append(current_batch_lstm_forecast_piv[:,1:,:],[[current_pred_lstm_forecast_piv]],axis=1)"
   ]
  },
  {
   "cell_type": "code",
   "execution_count": 398,
   "metadata": {},
   "outputs": [],
   "source": [
    "# Inverse the transformation\n",
    "true_predictions_lstm_forecast_piv = scaler_forecast_piv.inverse_transform(test_predictions_lstm_forecast_piv)\n",
    "\n",
    "\n",
    "# The dataframe of the prediction\n",
    "pred_lstm_forecast_piv = pd.DataFrame(true_predictions_lstm_forecast_piv, columns = df_piv.columns)\n",
    "\n",
    "# We specify the 8 next quarters date\n",
    "pred_lstm_forecast_piv['date'] = date_piv\n",
    "\n",
    "# We set the index to the date as the df_house dataframe\n",
    "pred_lstm_forecast_piv = pred_lstm_forecast_piv.set_index('date')\n",
    "\n",
    "# Finally, we concatenate the dataframes \n",
    "df_cop_piv = df_piv.copy()\n",
    "test_vs_pred_lstm_forecast_piv=pd.concat([df_cop_piv,pred_lstm_forecast_piv],axis=0)\n"
   ]
  },
  {
   "cell_type": "code",
   "execution_count": 401,
   "metadata": {},
   "outputs": [
    {
     "data": {
      "text/html": [
       "<div>\n",
       "<style scoped>\n",
       "    .dataframe tbody tr th:only-of-type {\n",
       "        vertical-align: middle;\n",
       "    }\n",
       "\n",
       "    .dataframe tbody tr th {\n",
       "        vertical-align: top;\n",
       "    }\n",
       "\n",
       "    .dataframe thead th {\n",
       "        text-align: right;\n",
       "    }\n",
       "</style>\n",
       "<table border=\"1\" class=\"dataframe\">\n",
       "  <thead>\n",
       "    <tr style=\"text-align: right;\">\n",
       "      <th>bedrooms</th>\n",
       "      <th>bed_2_house</th>\n",
       "      <th>bed_3_house</th>\n",
       "      <th>bed_4_house</th>\n",
       "      <th>bed_5_house</th>\n",
       "      <th>bed_1_unit</th>\n",
       "      <th>bed_2_unit</th>\n",
       "      <th>bed_3_unit</th>\n",
       "    </tr>\n",
       "    <tr>\n",
       "      <th>date</th>\n",
       "      <th></th>\n",
       "      <th></th>\n",
       "      <th></th>\n",
       "      <th></th>\n",
       "      <th></th>\n",
       "      <th></th>\n",
       "      <th></th>\n",
       "    </tr>\n",
       "  </thead>\n",
       "  <tbody>\n",
       "    <tr>\n",
       "      <th>2019-12-31</th>\n",
       "      <td>502522.073204</td>\n",
       "      <td>595184.848512</td>\n",
       "      <td>783801.479967</td>\n",
       "      <td>973119.473443</td>\n",
       "      <td>334641.837320</td>\n",
       "      <td>426716.240747</td>\n",
       "      <td>601230.322356</td>\n",
       "    </tr>\n",
       "    <tr>\n",
       "      <th>2020-03-31</th>\n",
       "      <td>500658.984328</td>\n",
       "      <td>589931.738657</td>\n",
       "      <td>776140.239319</td>\n",
       "      <td>966862.719913</td>\n",
       "      <td>333682.104081</td>\n",
       "      <td>426225.533987</td>\n",
       "      <td>600484.284076</td>\n",
       "    </tr>\n",
       "    <tr>\n",
       "      <th>2020-06-30</th>\n",
       "      <td>497457.208312</td>\n",
       "      <td>583212.730226</td>\n",
       "      <td>764358.964777</td>\n",
       "      <td>959049.262156</td>\n",
       "      <td>331786.628900</td>\n",
       "      <td>426341.136183</td>\n",
       "      <td>602016.237947</td>\n",
       "    </tr>\n",
       "    <tr>\n",
       "      <th>2020-09-30</th>\n",
       "      <td>495403.299760</td>\n",
       "      <td>578680.206101</td>\n",
       "      <td>756578.971849</td>\n",
       "      <td>953653.984418</td>\n",
       "      <td>330507.949434</td>\n",
       "      <td>426218.863750</td>\n",
       "      <td>602175.347618</td>\n",
       "    </tr>\n",
       "    <tr>\n",
       "      <th>2020-12-31</th>\n",
       "      <td>493528.371169</td>\n",
       "      <td>574847.477374</td>\n",
       "      <td>749615.619965</td>\n",
       "      <td>949700.032286</td>\n",
       "      <td>329058.933282</td>\n",
       "      <td>426435.236492</td>\n",
       "      <td>603371.224342</td>\n",
       "    </tr>\n",
       "    <tr>\n",
       "      <th>2021-03-31</th>\n",
       "      <td>492152.675455</td>\n",
       "      <td>571964.825686</td>\n",
       "      <td>744532.919247</td>\n",
       "      <td>946688.378099</td>\n",
       "      <td>328018.688261</td>\n",
       "      <td>426529.348243</td>\n",
       "      <td>604017.074490</td>\n",
       "    </tr>\n",
       "    <tr>\n",
       "      <th>2021-06-30</th>\n",
       "      <td>491160.297857</td>\n",
       "      <td>570025.406696</td>\n",
       "      <td>740992.623330</td>\n",
       "      <td>945120.082252</td>\n",
       "      <td>327116.886817</td>\n",
       "      <td>426735.328534</td>\n",
       "      <td>604995.928154</td>\n",
       "    </tr>\n",
       "    <tr>\n",
       "      <th>2021-09-30</th>\n",
       "      <td>490464.990223</td>\n",
       "      <td>568646.194545</td>\n",
       "      <td>738548.835446</td>\n",
       "      <td>944073.862909</td>\n",
       "      <td>326464.374873</td>\n",
       "      <td>426868.584549</td>\n",
       "      <td>605688.233187</td>\n",
       "    </tr>\n",
       "  </tbody>\n",
       "</table>\n",
       "</div>"
      ],
      "text/plain": [
       "bedrooms      bed_2_house    bed_3_house    bed_4_house    bed_5_house  \\\n",
       "date                                                                     \n",
       "2019-12-31  502522.073204  595184.848512  783801.479967  973119.473443   \n",
       "2020-03-31  500658.984328  589931.738657  776140.239319  966862.719913   \n",
       "2020-06-30  497457.208312  583212.730226  764358.964777  959049.262156   \n",
       "2020-09-30  495403.299760  578680.206101  756578.971849  953653.984418   \n",
       "2020-12-31  493528.371169  574847.477374  749615.619965  949700.032286   \n",
       "2021-03-31  492152.675455  571964.825686  744532.919247  946688.378099   \n",
       "2021-06-30  491160.297857  570025.406696  740992.623330  945120.082252   \n",
       "2021-09-30  490464.990223  568646.194545  738548.835446  944073.862909   \n",
       "\n",
       "bedrooms       bed_1_unit     bed_2_unit     bed_3_unit  \n",
       "date                                                     \n",
       "2019-12-31  334641.837320  426716.240747  601230.322356  \n",
       "2020-03-31  333682.104081  426225.533987  600484.284076  \n",
       "2020-06-30  331786.628900  426341.136183  602016.237947  \n",
       "2020-09-30  330507.949434  426218.863750  602175.347618  \n",
       "2020-12-31  329058.933282  426435.236492  603371.224342  \n",
       "2021-03-31  328018.688261  426529.348243  604017.074490  \n",
       "2021-06-30  327116.886817  426735.328534  604995.928154  \n",
       "2021-09-30  326464.374873  426868.584549  605688.233187  "
      ]
     },
     "execution_count": 401,
     "metadata": {},
     "output_type": "execute_result"
    }
   ],
   "source": [
    "pred_lstm_forecast_piv"
   ]
  },
  {
   "cell_type": "code",
   "execution_count": 402,
   "metadata": {},
   "outputs": [
    {
     "data": {
      "text/plain": [
       "Text(0, 0.5, 'Price')"
      ]
     },
     "execution_count": 402,
     "metadata": {},
     "output_type": "execute_result"
    },
    {
     "data": {
      "image/png": "[encoded data removed]",
      "text/plain": [
       "<Figure size 864x360 with 1 Axes>"
      ]
     },
     "metadata": {
      "needs_background": "light"
     },
     "output_type": "display_data"
    }
   ],
   "source": [
    "# Plot the forecast\n",
    "test_vs_pred_lstm_forecast_piv.plot(figsize=(12,5))\n",
    "plt.axvline(x='2019-09-30', color = 'black')\n",
    "plt.title('Evolution of the price and forecast on the 8 following quarters with LSTM model')\n",
    "plt.xlabel('Years')\n",
    "plt.ylabel('Price')"
   ]
  },
  {
   "cell_type": "markdown",
   "metadata": {},
   "source": [
    "As before, the vertical black line separates the real data from the forecast. As one might have expected, houses with 3 bedrooms have a suddent variation during the forecast of the first quarter. However, the others have a smoother variation and seem suitable."
   ]
  },
  {
   "cell_type": "markdown",
   "metadata": {},
   "source": [
    "## Comparison"
   ]
  },
  {
   "cell_type": "code",
   "execution_count": 403,
   "metadata": {},
   "outputs": [
    {
     "data": {
      "text/html": [
       "<style  type=\"text/css\" >\n",
       "    #T_ed3b2_ th {\n",
       "          font-size: 10pt;\n",
       "    }#T_ed3b2_row0_col0,#T_ed3b2_row0_col1,#T_ed3b2_row0_col2,#T_ed3b2_row0_col3,#T_ed3b2_row0_col4,#T_ed3b2_row0_col5,#T_ed3b2_row0_col6,#T_ed3b2_row1_col0,#T_ed3b2_row1_col1,#T_ed3b2_row1_col2,#T_ed3b2_row1_col3,#T_ed3b2_row1_col4,#T_ed3b2_row1_col5,#T_ed3b2_row1_col6{\n",
       "            font-size:  10pt;\n",
       "        }</style><table id=\"T_ed3b2_\" ><thead>    <tr>        <th class=\"blank level0\" ></th>        <th class=\"col_heading level0 col0\" >House with 2 bedrooms</th>        <th class=\"col_heading level0 col1\" >House with 3 bedrooms</th>        <th class=\"col_heading level0 col2\" >House with 4 bedrooms</th>        <th class=\"col_heading level0 col3\" >House with 5 bedrooms</th>        <th class=\"col_heading level0 col4\" >Unit with 1 bedroom</th>        <th class=\"col_heading level0 col5\" >Unit with 2 bedrooms</th>        <th class=\"col_heading level0 col6\" >Unit with 3 bedrooms</th>    </tr></thead><tbody>\n",
       "                <tr>\n",
       "                        <th id=\"T_ed3b2_level0_row0\" class=\"row_heading level0 row0\" >VAR</th>\n",
       "                        <td id=\"T_ed3b2_row0_col0\" class=\"data row0 col0\" >1.200%</td>\n",
       "                        <td id=\"T_ed3b2_row0_col1\" class=\"data row0 col1\" >6.200%</td>\n",
       "                        <td id=\"T_ed3b2_row0_col2\" class=\"data row0 col2\" >2.000%</td>\n",
       "                        <td id=\"T_ed3b2_row0_col3\" class=\"data row0 col3\" >1.000%</td>\n",
       "                        <td id=\"T_ed3b2_row0_col4\" class=\"data row0 col4\" >1.100%</td>\n",
       "                        <td id=\"T_ed3b2_row0_col5\" class=\"data row0 col5\" >1.300%</td>\n",
       "                        <td id=\"T_ed3b2_row0_col6\" class=\"data row0 col6\" >1.300%</td>\n",
       "            </tr>\n",
       "            <tr>\n",
       "                        <th id=\"T_ed3b2_level0_row1\" class=\"row_heading level0 row1\" >LSTM</th>\n",
       "                        <td id=\"T_ed3b2_row1_col0\" class=\"data row1 col0\" >0.9000%</td>\n",
       "                        <td id=\"T_ed3b2_row1_col1\" class=\"data row1 col1\" >5.7000%</td>\n",
       "                        <td id=\"T_ed3b2_row1_col2\" class=\"data row1 col2\" >2.3000%</td>\n",
       "                        <td id=\"T_ed3b2_row1_col3\" class=\"data row1 col3\" >1.2000%</td>\n",
       "                        <td id=\"T_ed3b2_row1_col4\" class=\"data row1 col4\" >0.8000%</td>\n",
       "                        <td id=\"T_ed3b2_row1_col5\" class=\"data row1 col5\" >0.2000%</td>\n",
       "                        <td id=\"T_ed3b2_row1_col6\" class=\"data row1 col6\" >0.4000%</td>\n",
       "            </tr>\n",
       "    </tbody></table>"
      ],
      "text/plain": [
       "<pandas.io.formats.style.Styler at 0x1664845d0>"
      ]
     },
     "execution_count": 403,
     "metadata": {},
     "output_type": "execute_result"
    }
   ],
   "source": [
    "# Comparaison\n",
    "\n",
    "\n",
    "comparison_data = {'House with 2 bedrooms': ['{:.3f}'.format(round(MAPE(test_df_piv.iloc[:,0],predictions_piv1.iloc[:,0]),1))+'%',\n",
    "                                         '{:.4f}'.format(round(MAPE(test_df_piv.iloc[:,0],test_df_piv['pred_2_house']),1))+'%'],\n",
    "                    'House with 3 bedrooms': ['{:.3f}'.format(round(MAPE(test_df_piv.iloc[:,1],predictions_piv1.iloc[:,1]),1))+'%',\n",
    "                                         '{:.4f}'.format(round(MAPE(test_df_piv.iloc[:,1],test_df_piv['pred_3_house']),1))+'%'],\n",
    "                   'House with 4 bedrooms': ['{:.3f}'.format(round(MAPE(test_df_piv.iloc[:,2],predictions_piv1.iloc[:,2]),1))+'%',\n",
    "                                         '{:.4f}'.format(round(MAPE(test_df_piv.iloc[:,2],test_df_piv['pred_4_house']),1))+'%'],\n",
    "                   'House with 5 bedrooms': ['{:.3f}'.format(round(MAPE(test_df_piv.iloc[:,3],predictions_piv1.iloc[:,3]),1))+'%',\n",
    "                                         '{:.4f}'.format(round(MAPE(test_df_piv.iloc[:,3],test_df_piv['pred_5_house']),1))+'%'],\n",
    "                   'Unit with 1 bedroom': ['{:.3f}'.format(round(MAPE(test_df_piv.iloc[:,4],predictions_piv1.iloc[:,4]),1))+'%',\n",
    "                                         '{:.4f}'.format(round(MAPE(test_df_piv.iloc[:,4],test_df_piv['pred_1_unit']),1))+'%'],\n",
    "                   'Unit with 2 bedrooms':['{:.3f}'.format(round(MAPE(test_df_piv.iloc[:,5],predictions_piv1.iloc[:,5]),1))+'%',\n",
    "                                         '{:.4f}'.format(round(MAPE(test_df_piv.iloc[:,5],test_df_piv['pred_2_unit']),1))+'%'],\n",
    "                  'Unit with 3 bedrooms':['{:.3f}'.format(round(MAPE(test_df_piv.iloc[:,6],predictions_piv1.iloc[:,6]),1))+'%',\n",
    "                                         '{:.4f}'.format(round(MAPE(test_df_piv.iloc[:,6],test_df_piv['pred_3_unit']),1))+'%']}\n",
    "\n",
    "comparison_table = pd.DataFrame(data=comparison_data, index=['VAR' , 'LSTM'])\n",
    "comparison_table.style.set_properties(**{'font-size': '10pt',}).set_table_styles([{'selector': 'th', 'props': [('font-size', '10pt')]}])"
   ]
  },
  {
   "cell_type": "markdown",
   "metadata": {},
   "source": [
    "# Extension"
   ]
  },
  {
   "cell_type": "markdown",
   "metadata": {},
   "source": [
    "When we use time series, the lag is a really important parameter. If we choose the model to train on a large value of lags, the model would follow the global 'trend' and would not be able to anticipate the outcome of major crisis. In this case, we know that the Covid crisis has impacted the property prices and thus the general trend over the years. If the model is trained based on many past values, it would be dificult for the model to understand recent variation. Thus, there is a tradeoff is this study: if we trained on to little past values, we will be underfitting and if we trained on many past values we will overfit. \n",
    "\n",
    "Let's see what the forecast would be if we had selected a higher time lag. In order to compare the two models, we will use the same time lag of 4 quarters."
   ]
  },
  {
   "cell_type": "markdown",
   "metadata": {},
   "source": [
    "## For the VARM"
   ]
  },
  {
   "cell_type": "markdown",
   "metadata": {},
   "source": [
    "Now, we will consider a time lag of 4 instead of 2. Once again, the goal is to see the impact of the time lag on the forecast. "
   ]
  },
  {
   "cell_type": "markdown",
   "metadata": {},
   "source": [
    "### Training"
   ]
  },
  {
   "cell_type": "code",
   "execution_count": 412,
   "metadata": {
    "scrolled": true
   },
   "outputs": [
    {
     "name": "stderr",
     "output_type": "stream",
     "text": [
      "/Applications/anaconda3/lib/python3.7/site-packages/statsmodels/tsa/base/tsa_model.py:162: ValueWarning: No frequency information was provided, so inferred frequency Q-DEC will be used.\n",
      "  % freq, ValueWarning)\n",
      "/Applications/anaconda3/lib/python3.7/site-packages/statsmodels/tsa/statespace/varmax.py:374: UserWarning: Non-stationary starting autoregressive parameters found. Using zeros as starting parameters.\n",
      "  warn('Non-stationary starting autoregressive parameters'\n",
      "/Applications/anaconda3/lib/python3.7/site-packages/statsmodels/base/model.py:568: ConvergenceWarning: Maximum Likelihood optimization failed to converge. Check mle_retvals\n",
      "  \"Check mle_retvals\", ConvergenceWarning)\n"
     ]
    },
    {
     "name": "stdout",
     "output_type": "stream",
     "text": [
      "                                                                     Statespace Model Results                                                                     \n",
      "==================================================================================================================================================================\n",
      "Dep. Variable:     ['bed_2_house', 'bed_3_house', 'bed_4_house', 'bed_5_house', 'bed_1_unit', 'bed_2_unit', 'bed_3_unit']   No. Observations:                   45\n",
      "Model:                                                                                                             VAR(4)   Log Likelihood              -32396.016\n",
      "                                                                                                              + intercept   AIC                          65254.032\n",
      "Date:                                                                                                    Mon, 18 Apr 2022   BIC                          65671.372\n",
      "Time:                                                                                                            12:30:10   HQIC                         65409.612\n",
      "Sample:                                                                                                        06-30-2007                                         \n",
      "                                                                                                             - 06-30-2018                                         \n",
      "Covariance Type:                                                                                                      opg                                         \n",
      "===============================================================================================================================================\n",
      "Ljung-Box (Q):          395.91, 149.52, 232.64, 138.81, 255.72, 345.59, 236.02   Jarque-Bera (JB):    2.55, 22.18, 3.28, 8.98, 3.04, 2.98, 4.30\n",
      "Prob(Q):                              0.00, 0.00, 0.00, 0.00, 0.00, 0.00, 0.00   Prob(JB):             0.28, 0.00, 0.19, 0.01, 0.22, 0.23, 0.12\n",
      "Heteroskedasticity (H):              0.75, 0.49, 0.74, 0.08, 7.50, 1.43, 10.82   Skew:               0.51, -1.17, -0.25, 1.06, 0.01, 0.01, 0.67\n",
      "Prob(H) (two-sided):                  0.59, 0.18, 0.57, 0.00, 0.00, 0.50, 0.00   Kurtosis:             2.43, 5.53, 1.77, 3.52, 1.73, 1.74, 2.29\n",
      "                         Results for equation bed_2_house                         \n",
      "==================================================================================\n",
      "                     coef    std err          z      P>|z|      [0.025      0.975]\n",
      "----------------------------------------------------------------------------------\n",
      "intercept       4.672e+05   1.29e-09   3.62e+14      0.000    4.67e+05    4.67e+05\n",
      "L1.bed_2_house     0.0574      0.000    127.760      0.000       0.056       0.058\n",
      "L1.bed_3_house    -0.1870      0.000   -465.774      0.000      -0.188      -0.186\n",
      "L1.bed_4_house    -0.0733      0.000   -157.565      0.000      -0.074      -0.072\n",
      "L1.bed_5_house     0.0293      0.001     53.874      0.000       0.028       0.030\n",
      "L1.bed_1_unit      0.0602      0.000    157.612      0.000       0.059       0.061\n",
      "L1.bed_2_unit      0.0574      0.000    122.468      0.000       0.057       0.058\n",
      "L1.bed_3_unit      0.0278      0.001     45.939      0.000       0.027       0.029\n",
      "L2.bed_2_house     0.0281      0.000     75.279      0.000       0.027       0.029\n",
      "L2.bed_3_house     0.0131      0.000     36.275      0.000       0.012       0.014\n",
      "L2.bed_4_house    -0.0412      0.000   -101.524      0.000      -0.042      -0.040\n",
      "L2.bed_5_house     0.0040      0.001      5.429      0.000       0.003       0.005\n",
      "L2.bed_1_unit     -0.0653      0.000   -196.509      0.000      -0.066      -0.065\n",
      "L2.bed_2_unit      0.0669      0.000    147.556      0.000       0.066       0.068\n",
      "L2.bed_3_unit      0.0216      0.001     24.991      0.000       0.020       0.023\n",
      "L3.bed_2_house    -0.0059      0.001     -9.827      0.000      -0.007      -0.005\n",
      "L3.bed_3_house     0.1893      0.000    455.572      0.000       0.188       0.190\n",
      "L3.bed_4_house    -0.0015      0.000     -4.688      0.000      -0.002      -0.001\n",
      "L3.bed_5_house    -0.0171      0.001    -32.213      0.000      -0.018      -0.016\n",
      "L3.bed_1_unit     -0.1629      0.000   -430.795      0.000      -0.164      -0.162\n",
      "L3.bed_2_unit      0.0127      0.000     31.756      0.000       0.012       0.013\n",
      "L3.bed_3_unit      0.0116      0.001     16.846      0.000       0.010       0.013\n",
      "L4.bed_2_house    -0.0204      0.000    -41.500      0.000      -0.021      -0.019\n",
      "L4.bed_3_house     0.1735      0.001    301.544      0.000       0.172       0.175\n",
      "L4.bed_4_house     0.0142      0.000     36.079      0.000       0.013       0.015\n",
      "L4.bed_5_house    -0.0164      0.001    -24.379      0.000      -0.018      -0.015\n",
      "L4.bed_1_unit     -0.1903      0.000   -476.850      0.000      -0.191      -0.190\n",
      "L4.bed_2_unit     -0.0603      0.000   -134.917      0.000      -0.061      -0.059\n",
      "L4.bed_3_unit      0.0064      0.001     11.812      0.000       0.005       0.007\n",
      "                         Results for equation bed_3_house                         \n",
      "==================================================================================\n",
      "                     coef    std err          z      P>|z|      [0.025      0.975]\n",
      "----------------------------------------------------------------------------------\n",
      "intercept       5.083e+05   5.01e-09   1.01e+14      0.000    5.08e+05    5.08e+05\n",
      "L1.bed_2_house     0.1066      0.001     91.668      0.000       0.104       0.109\n",
      "L1.bed_3_house    -0.4250      0.001   -418.635      0.000      -0.427      -0.423\n",
      "L1.bed_4_house    -0.1635      0.001   -128.250      0.000      -0.166      -0.161\n",
      "L1.bed_5_house     0.0509      0.001     49.230      0.000       0.049       0.053\n",
      "L1.bed_1_unit     -0.1697      0.001   -155.524      0.000      -0.172      -0.168\n",
      "L1.bed_2_unit      0.1645      0.001    176.974      0.000       0.163       0.166\n",
      "L1.bed_3_unit      0.0645      0.002     37.839      0.000       0.061       0.068\n",
      "L2.bed_2_house     0.0083      0.001      5.789      0.000       0.006       0.011\n",
      "L2.bed_3_house     0.3505      0.001    244.114      0.000       0.348       0.353\n",
      "L2.bed_4_house    -0.0378      0.001    -53.440      0.000      -0.039      -0.036\n",
      "L2.bed_5_house    -0.0376      0.001    -38.759      0.000      -0.039      -0.036\n",
      "L2.bed_1_unit     -0.4671      0.001   -773.091      0.000      -0.468      -0.466\n",
      "L2.bed_2_unit      0.1645      0.001    188.489      0.000       0.163       0.166\n",
      "L2.bed_3_unit      0.0366      0.001     25.894      0.000       0.034       0.039\n",
      "L3.bed_2_house    -0.0720      0.002    -47.951      0.000      -0.075      -0.069\n",
      "L3.bed_3_house     0.7669      0.001    961.144      0.000       0.765       0.768\n",
      "L3.bed_4_house     0.0514      0.001     43.484      0.000       0.049       0.054\n",
      "L3.bed_5_house    -0.0853      0.001    -76.456      0.000      -0.088      -0.083\n",
      "L3.bed_1_unit     -0.5712      0.001   -558.987      0.000      -0.573      -0.569\n",
      "L3.bed_2_unit      0.0111      0.001     13.060      0.000       0.009       0.013\n",
      "L3.bed_3_unit      0.0074      0.002      4.354      0.000       0.004       0.011\n",
      "L4.bed_2_house    -0.0827      0.001    -62.439      0.000      -0.085      -0.080\n",
      "L4.bed_3_house     0.5747      0.001    589.590      0.000       0.573       0.577\n",
      "L4.bed_4_house     0.0474      0.001     44.959      0.000       0.045       0.050\n",
      "L4.bed_5_house    -0.0659      0.001    -54.652      0.000      -0.068      -0.064\n",
      "L4.bed_1_unit     -0.4848      0.001   -411.728      0.000      -0.487      -0.483\n",
      "L4.bed_2_unit     -0.1581      0.001   -170.951      0.000      -0.160      -0.156\n",
      "L4.bed_3_unit     -0.0016      0.002     -0.960      0.337      -0.005       0.002\n",
      "                         Results for equation bed_4_house                         \n",
      "==================================================================================\n",
      "                     coef    std err          z      P>|z|      [0.025      0.975]\n",
      "----------------------------------------------------------------------------------\n",
      "intercept       6.567e+05   2.21e-09   2.97e+14      0.000    6.57e+05    6.57e+05\n",
      "L1.bed_2_house     0.1316      0.002     86.077      0.000       0.129       0.135\n",
      "L1.bed_3_house    -0.5782      0.001   -761.855      0.000      -0.580      -0.577\n",
      "L1.bed_4_house    -0.1364      0.001   -148.614      0.000      -0.138      -0.135\n",
      "L1.bed_5_house     0.0698      0.001     50.615      0.000       0.067       0.073\n",
      "L1.bed_1_unit     -0.3575      0.001   -472.848      0.000      -0.359      -0.356\n",
      "L1.bed_2_unit      0.2528      0.001    401.767      0.000       0.252       0.254\n",
      "L1.bed_3_unit      0.0861      0.002     43.424      0.000       0.082       0.090\n",
      "L2.bed_2_house     0.0003      0.001      0.190      0.849      -0.003       0.003\n",
      "L2.bed_3_house     0.4022      0.001    506.678      0.000       0.401       0.404\n",
      "L2.bed_4_house     0.0648      0.001     66.848      0.000       0.063       0.067\n",
      "L2.bed_5_house    -0.0357      0.002    -18.423      0.000      -0.039      -0.032\n",
      "L2.bed_1_unit     -0.7477      0.001   -833.066      0.000      -0.750      -0.746\n",
      "L2.bed_2_unit      0.1936      0.001    356.747      0.000       0.193       0.195\n",
      "L2.bed_3_unit      0.0457      0.002     23.639      0.000       0.042       0.050\n",
      "L3.bed_2_house    -0.0930      0.001    -74.662      0.000      -0.095      -0.091\n",
      "L3.bed_3_house     0.8487      0.001   1271.115      0.000       0.847       0.850\n",
      "L3.bed_4_house     0.1839      0.001    201.177      0.000       0.182       0.186\n",
      "L3.bed_5_house    -0.0834      0.002    -50.979      0.000      -0.087      -0.080\n",
      "L3.bed_1_unit     -0.8285      0.001   -951.045      0.000      -0.830      -0.827\n",
      "L3.bed_2_unit     -0.0106      0.001    -20.050      0.000      -0.012      -0.010\n",
      "L3.bed_3_unit      0.0095      0.002      6.261      0.000       0.007       0.012\n",
      "L4.bed_2_house    -0.0939      0.001    -71.992      0.000      -0.096      -0.091\n",
      "L4.bed_3_house     0.5552      0.001    643.382      0.000       0.554       0.557\n",
      "L4.bed_4_house     0.1671      0.001    217.167      0.000       0.166       0.169\n",
      "L4.bed_5_house    -0.0519      0.002    -25.256      0.000      -0.056      -0.048\n",
      "L4.bed_1_unit     -0.6388      0.001  -1255.464      0.000      -0.640      -0.638\n",
      "L4.bed_2_unit     -0.1811      0.001   -268.418      0.000      -0.182      -0.180\n",
      "L4.bed_3_unit      0.0005      0.002      0.296      0.767      -0.003       0.004\n",
      "                         Results for equation bed_5_house                         \n",
      "==================================================================================\n",
      "                     coef    std err          z      P>|z|      [0.025      0.975]\n",
      "----------------------------------------------------------------------------------\n",
      "intercept       8.361e+05   9.52e-10   8.78e+14      0.000    8.36e+05    8.36e+05\n",
      "L1.bed_2_house     0.3212      0.000   1308.654      0.000       0.321       0.322\n",
      "L1.bed_3_house    -1.5593      0.000  -7233.865      0.000      -1.560      -1.559\n",
      "L1.bed_4_house    -0.3226      0.000  -1207.923      0.000      -0.323      -0.322\n",
      "L1.bed_5_house     0.2100      0.000    582.449      0.000       0.209       0.211\n",
      "L1.bed_1_unit      0.0561      0.000    224.686      0.000       0.056       0.057\n",
      "L1.bed_2_unit      0.3454      0.000   1776.311      0.000       0.345       0.346\n",
      "L1.bed_3_unit      0.1621      0.000    530.023      0.000       0.161       0.163\n",
      "L2.bed_2_house     0.1225      0.000    375.470      0.000       0.122       0.123\n",
      "L2.bed_3_house    -0.0874      0.000   -289.617      0.000      -0.088      -0.087\n",
      "L2.bed_4_house     0.0242      0.000     90.095      0.000       0.024       0.025\n",
      "L2.bed_5_house     0.0453      0.000    121.244      0.000       0.045       0.046\n",
      "L2.bed_1_unit     -0.7475      0.000  -3682.534      0.000      -0.748      -0.747\n",
      "L2.bed_2_unit      0.4411      0.000   2840.635      0.000       0.441       0.441\n",
      "L2.bed_3_unit      0.1110      0.000    371.044      0.000       0.110       0.112\n",
      "L3.bed_2_house    -0.0881      0.000   -230.004      0.000      -0.089      -0.087\n",
      "L3.bed_3_house     1.0543      0.000   6794.080      0.000       1.054       1.055\n",
      "L3.bed_4_house     0.3028      0.000   1165.212      0.000       0.302       0.303\n",
      "L3.bed_5_house    -0.0844      0.000   -219.297      0.000      -0.085      -0.084\n",
      "L3.bed_1_unit     -1.1762      0.000  -5567.834      0.000      -1.177      -1.176\n",
      "L3.bed_2_unit      0.1231      0.000    937.775      0.000       0.123       0.123\n",
      "L3.bed_3_unit      0.0374      0.000    139.301      0.000       0.037       0.038\n",
      "L4.bed_2_house    -0.1423      0.000   -554.392      0.000      -0.143      -0.142\n",
      "L4.bed_3_house     0.8892      0.000   4149.874      0.000       0.889       0.890\n",
      "L4.bed_4_house     0.3158      0.000   1127.788      0.000       0.315       0.316\n",
      "L4.bed_5_house    -0.0739      0.000   -262.583      0.000      -0.074      -0.073\n",
      "L4.bed_1_unit     -1.0442      0.000  -4684.612      0.000      -1.045      -1.044\n",
      "L4.bed_2_unit     -0.2411      0.000  -1182.797      0.000      -0.242      -0.241\n",
      "L4.bed_3_unit      0.0073      0.000     21.091      0.000       0.007       0.008\n",
      "                         Results for equation bed_1_unit                          \n",
      "==================================================================================\n",
      "                     coef    std err          z      P>|z|      [0.025      0.975]\n",
      "----------------------------------------------------------------------------------\n",
      "intercept       3.319e+05   2.68e-09   1.24e+14      0.000    3.32e+05    3.32e+05\n",
      "L1.bed_2_house     0.0302      0.002     14.646      0.000       0.026       0.034\n",
      "L1.bed_3_house    -0.1454      0.001   -161.139      0.000      -0.147      -0.144\n",
      "L1.bed_4_house    -0.0856      0.001    -99.579      0.000      -0.087      -0.084\n",
      "L1.bed_5_house     0.0116      0.002      6.646      0.000       0.008       0.015\n",
      "L1.bed_1_unit      0.0865      0.001     99.967      0.000       0.085       0.088\n",
      "L1.bed_2_unit     -0.0117      0.001    -17.861      0.000      -0.013      -0.010\n",
      "L1.bed_3_unit      0.0098      0.002      4.268      0.000       0.005       0.014\n",
      "L2.bed_2_house     0.0065      0.001      4.737      0.000       0.004       0.009\n",
      "L2.bed_3_house     0.1071      0.001    203.266      0.000       0.106       0.108\n",
      "L2.bed_4_house    -0.0748      0.001    -77.254      0.000      -0.077      -0.073\n",
      "L2.bed_5_house    -0.0191      0.002     -8.104      0.000      -0.024      -0.015\n",
      "L2.bed_1_unit     -0.0063      0.001     -7.174      0.000      -0.008      -0.005\n",
      "L2.bed_2_unit      0.0241      0.001     38.392      0.000       0.023       0.025\n",
      "L2.bed_3_unit      0.0050      0.002      2.785      0.005       0.001       0.009\n",
      "L3.bed_2_house    -0.0285      0.001    -21.634      0.000      -0.031      -0.026\n",
      "L3.bed_3_house     0.3364      0.001    520.879      0.000       0.335       0.338\n",
      "L3.bed_4_house    -0.0422      0.001    -44.299      0.000      -0.044      -0.040\n",
      "L3.bed_5_house    -0.0466      0.002    -23.383      0.000      -0.051      -0.043\n",
      "L3.bed_1_unit     -0.0773      0.001    -92.216      0.000      -0.079      -0.076\n",
      "L3.bed_2_unit     -0.0156      0.001    -27.501      0.000      -0.017      -0.015\n",
      "L3.bed_3_unit     -0.0074      0.002     -4.547      0.000      -0.011      -0.004\n",
      "L4.bed_2_house    -0.0424      0.001    -39.990      0.000      -0.044      -0.040\n",
      "L4.bed_3_house     0.3415      0.001    439.588      0.000       0.340       0.343\n",
      "L4.bed_4_house    -0.0303      0.001    -32.538      0.000      -0.032      -0.028\n",
      "L4.bed_5_house    -0.0485      0.001    -32.938      0.000      -0.051      -0.046\n",
      "L4.bed_1_unit     -0.0699      0.001    -86.176      0.000      -0.071      -0.068\n",
      "L4.bed_2_unit     -0.0810      0.001   -120.928      0.000      -0.082      -0.080\n",
      "L4.bed_3_unit     -0.0152      0.001    -10.368      0.000      -0.018      -0.012\n",
      "                         Results for equation bed_2_unit                          \n",
      "==================================================================================\n",
      "                     coef    std err          z      P>|z|      [0.025      0.975]\n",
      "----------------------------------------------------------------------------------\n",
      "intercept       4.141e+05   2.63e-09   1.58e+14      0.000    4.14e+05    4.14e+05\n",
      "L1.bed_2_house     0.0091      0.001      7.197      0.000       0.007       0.012\n",
      "L1.bed_3_house     0.0277      0.001     53.751      0.000       0.027       0.029\n",
      "L1.bed_4_house    -0.0785      0.001    -78.662      0.000      -0.080      -0.077\n",
      "L1.bed_5_house    -0.0113      0.001     -8.275      0.000      -0.014      -0.009\n",
      "L1.bed_1_unit     -0.0583      0.001    -57.851      0.000      -0.060      -0.056\n",
      "L1.bed_2_unit      0.0671      0.001     93.786      0.000       0.066       0.069\n",
      "L1.bed_3_unit      0.0106      0.002      5.186      0.000       0.007       0.015\n",
      "L2.bed_2_house    -0.0177      0.002    -10.158      0.000      -0.021      -0.014\n",
      "L2.bed_3_house     0.2865      0.001    433.049      0.000       0.285       0.288\n",
      "L2.bed_4_house    -0.0822      0.001   -147.575      0.000      -0.083      -0.081\n",
      "L2.bed_5_house    -0.0433      0.002    -27.610      0.000      -0.046      -0.040\n",
      "L2.bed_1_unit     -0.1112      0.001   -113.496      0.000      -0.113      -0.109\n",
      "L2.bed_2_unit      0.0421      0.001     56.965      0.000       0.041       0.044\n",
      "L2.bed_3_unit      0.0039      0.001      2.669      0.008       0.001       0.007\n",
      "L3.bed_2_house    -0.0383      0.002    -18.137      0.000      -0.042      -0.034\n",
      "L3.bed_3_house     0.3909      0.001    375.635      0.000       0.389       0.393\n",
      "L3.bed_4_house    -0.0768      0.001    -91.560      0.000      -0.078      -0.075\n",
      "L3.bed_5_house    -0.0572      0.001    -51.621      0.000      -0.059      -0.055\n",
      "L3.bed_1_unit     -0.1277      0.001   -149.782      0.000      -0.129      -0.126\n",
      "L3.bed_2_unit     -0.0214      0.001    -17.744      0.000      -0.024      -0.019\n",
      "L3.bed_3_unit     -0.0040      0.001     -3.306      0.001      -0.006      -0.002\n",
      "L4.bed_2_house    -0.0431      0.002    -28.566      0.000      -0.046      -0.040\n",
      "L4.bed_3_house     0.3226      0.001    360.898      0.000       0.321       0.324\n",
      "L4.bed_4_house    -0.0741      0.001   -117.490      0.000      -0.075      -0.073\n",
      "L4.bed_5_house    -0.0507      0.001    -52.857      0.000      -0.053      -0.049\n",
      "L4.bed_1_unit     -0.1187      0.001   -107.395      0.000      -0.121      -0.117\n",
      "L4.bed_2_unit     -0.0953      0.001    -87.551      0.000      -0.097      -0.093\n",
      "L4.bed_3_unit     -0.0082      0.001     -8.104      0.000      -0.010      -0.006\n",
      "                         Results for equation bed_3_unit                          \n",
      "==================================================================================\n",
      "                     coef    std err          z      P>|z|      [0.025      0.975]\n",
      "----------------------------------------------------------------------------------\n",
      "intercept       5.648e+05    8.4e-10   6.72e+14      0.000    5.65e+05    5.65e+05\n",
      "L1.bed_2_house     0.2040      0.000    725.255      0.000       0.203       0.205\n",
      "L1.bed_3_house    -1.0774      0.000  -4700.954      0.000      -1.078      -1.077\n",
      "L1.bed_4_house    -0.2022      0.000   -647.476      0.000      -0.203      -0.202\n",
      "L1.bed_5_house     0.1445      0.000    318.880      0.000       0.144       0.145\n",
      "L1.bed_1_unit      0.1260      0.000    412.349      0.000       0.125       0.127\n",
      "L1.bed_2_unit      0.2095      0.000    779.091      0.000       0.209       0.210\n",
      "L1.bed_3_unit      0.1010      0.000    248.781      0.000       0.100       0.102\n",
      "L2.bed_2_house     0.0775      0.000    334.895      0.000       0.077       0.078\n",
      "L2.bed_3_house     0.0041      0.000     16.278      0.000       0.004       0.005\n",
      "L2.bed_4_house    -0.1049      0.000   -352.359      0.000      -0.105      -0.104\n",
      "L2.bed_5_house     0.0096      0.001     17.647      0.000       0.009       0.011\n",
      "L2.bed_1_unit     -0.3194      0.000  -1180.357      0.000      -0.320      -0.319\n",
      "L2.bed_2_unit      0.2938      0.000   1218.185      0.000       0.293       0.294\n",
      "L2.bed_3_unit      0.0700      0.000    153.618      0.000       0.069       0.071\n",
      "L3.bed_2_house    -0.0713      0.000   -169.657      0.000      -0.072      -0.070\n",
      "L3.bed_3_house     0.9394      0.000   4553.493      0.000       0.939       0.940\n",
      "L3.bed_4_house    -0.0059      0.000    -23.573      0.000      -0.006      -0.005\n",
      "L3.bed_5_house    -0.1082      0.000   -343.690      0.000      -0.109      -0.108\n",
      "L3.bed_1_unit     -0.5833      0.000  -2763.734      0.000      -0.584      -0.583\n",
      "L3.bed_2_unit      0.0883      0.000    373.576      0.000       0.088       0.089\n",
      "L3.bed_3_unit      0.0174      0.000     47.404      0.000       0.017       0.018\n",
      "L4.bed_2_house    -0.1295      0.000   -455.475      0.000      -0.130      -0.129\n",
      "L4.bed_3_house     1.0113      0.000   4407.067      0.000       1.011       1.012\n",
      "L4.bed_4_house    -0.0313      0.000   -169.178      0.000      -0.032      -0.031\n",
      "L4.bed_5_house    -0.1298      0.000   -266.696      0.000      -0.131      -0.129\n",
      "L4.bed_1_unit     -0.5353      0.000  -2178.680      0.000      -0.536      -0.535\n",
      "L4.bed_2_unit     -0.2080      0.000   -873.592      0.000      -0.208      -0.208\n",
      "L4.bed_3_unit     -0.0126      0.000    -33.752      0.000      -0.013      -0.012\n",
      "                                      Error covariance matrix                                       \n",
      "====================================================================================================\n",
      "                                       coef    std err          z      P>|z|      [0.025      0.975]\n",
      "----------------------------------------------------------------------------------------------------\n",
      "sqrt.var.bed_2_house              2601.6942   2.22e-07   1.17e+10      0.000    2601.694    2601.694\n",
      "sqrt.cov.bed_2_house.bed_3_house     2.8727   1.23e-06   2.34e+06      0.000       2.873       2.873\n",
      "sqrt.var.bed_3_house               760.6967   4.31e-06   1.76e+08      0.000     760.697     760.697\n",
      "sqrt.cov.bed_2_house.bed_4_house   260.7265    8.2e-07   3.18e+08      0.000     260.727     260.727\n",
      "sqrt.cov.bed_3_house.bed_4_house   448.9334   2.11e-06   2.13e+08      0.000     448.933     448.933\n",
      "sqrt.var.bed_4_house               933.8286   2.36e-06   3.95e+08      0.000     933.829     933.829\n",
      "sqrt.cov.bed_2_house.bed_5_house -1365.4640   1.96e-07  -6.95e+09      0.000   -1365.464   -1365.464\n",
      "sqrt.cov.bed_3_house.bed_5_house  3232.7122   7.09e-07   4.56e+09      0.000    3232.712    3232.712\n",
      "sqrt.cov.bed_4_house.bed_5_house -1329.9111   5.66e-07  -2.35e+09      0.000   -1329.911   -1329.911\n",
      "sqrt.var.bed_5_house              2112.9829   7.44e-07   2.84e+09      0.000    2112.983    2112.983\n",
      "sqrt.cov.bed_2_house.bed_1_unit   -205.0781   9.54e-07  -2.15e+08      0.000    -205.078    -205.078\n",
      "sqrt.cov.bed_3_house.bed_1_unit    211.1800   1.95e-06   1.08e+08      0.000     211.180     211.180\n",
      "sqrt.cov.bed_4_house.bed_1_unit    178.3039      2e-06    8.9e+07      0.000     178.304     178.304\n",
      "sqrt.cov.bed_5_house.bed_1_unit    175.8938   1.79e-06    9.8e+07      0.000     175.894     175.894\n",
      "sqrt.var.bed_1_unit                547.8410   1.74e-06   3.14e+08      0.000     547.841     547.841\n",
      "sqrt.cov.bed_2_house.bed_2_unit     39.9494   1.56e-06   2.55e+07      0.000      39.949      39.949\n",
      "sqrt.cov.bed_3_house.bed_2_unit   -124.5651   2.45e-06  -5.08e+07      0.000    -124.565    -124.565\n",
      "sqrt.cov.bed_4_house.bed_2_unit    -58.9141   2.84e-06  -2.07e+07      0.000     -58.914     -58.914\n",
      "sqrt.cov.bed_5_house.bed_2_unit   -172.6466   1.94e-06  -8.88e+07      0.000    -172.647    -172.647\n",
      "sqrt.cov.bed_1_unit.bed_2_unit    -146.1542   1.85e-06  -7.88e+07      0.000    -146.154    -146.154\n",
      "sqrt.var.bed_2_unit                564.9090    2.6e-06   2.17e+08      0.000     564.909     564.909\n",
      "sqrt.cov.bed_2_house.bed_3_unit  -2283.1390    2.2e-07  -1.04e+10      0.000   -2283.139   -2283.139\n",
      "sqrt.cov.bed_3_house.bed_3_unit   1483.4655   4.48e-07   3.31e+09      0.000    1483.465    1483.465\n",
      "sqrt.cov.bed_4_house.bed_3_unit   1022.2986   5.54e-07   1.85e+09      0.000    1022.299    1022.299\n",
      "sqrt.cov.bed_5_house.bed_3_unit   -263.0289   3.05e-07  -8.62e+08      0.000    -263.029    -263.029\n",
      "sqrt.cov.bed_1_unit.bed_3_unit    1284.2388   3.35e-07   3.83e+09      0.000    1284.239    1284.239\n",
      "sqrt.cov.bed_2_unit.bed_3_unit   -1329.0927   4.81e-07  -2.76e+09      0.000   -1329.093   -1329.093\n",
      "sqrt.var.bed_3_unit               2615.7901   6.18e-07   4.23e+09      0.000    2615.790    2615.790\n",
      "====================================================================================================\n",
      "\n",
      "Warnings:\n",
      "[1] Covariance matrix calculated using the outer product of gradients (complex-step).\n",
      "[2] Covariance matrix is singular or near-singular, with condition number 2.7e+26. Standard errors may be unstable.\n"
     ]
    }
   ],
   "source": [
    "# Split the data\n",
    "train_df_piv=df_piv[:-5]\n",
    "test_df_piv=df_piv[-5:]\n",
    "\n",
    "# We implement the VAR model with the lag equal to 4\n",
    "var_model_piv2 = VARMAX(train_df_piv, order=(4,0),enforce_stationarity= True)\n",
    "\n",
    "# Then we fit the model\n",
    "fitted_model_piv2 = var_model_piv2.fit(disp=False)\n",
    "print(fitted_model_piv2.summary())\n",
    "\n",
    "# We specify the number of quarters we want to forecast\n",
    "n_forecast = 8\n",
    "\n",
    "# We specify that when do we want to start the forecast \n",
    "predict_piv2 = fitted_model_piv2.get_prediction(start=len(df_piv),end=len(df_piv) + n_forecast-1)\n",
    "\n",
    "predictions_piv2=predict_piv2.predicted_mean\n",
    "\n",
    "# We rename the columns as the name of the columns in the real dataset\n",
    "predictions_piv2.columns=df_piv.columns\n",
    "predictions_piv2\n",
    "\n",
    "# Concatenate the real dataset with the forecast\n",
    "test_vs_pred_piv2=pd.concat([df_piv,predictions_piv2],axis=0)\n"
   ]
  },
  {
   "cell_type": "markdown",
   "metadata": {},
   "source": [
    "### Evaluate the model"
   ]
  },
  {
   "cell_type": "markdown",
   "metadata": {},
   "source": [
    "Let's see the performance of this new model on the test set by using the metric MAPE."
   ]
  },
  {
   "cell_type": "code",
   "execution_count": 420,
   "metadata": {},
   "outputs": [
    {
     "data": {
      "text/html": [
       "<div>\n",
       "<style scoped>\n",
       "    .dataframe tbody tr th:only-of-type {\n",
       "        vertical-align: middle;\n",
       "    }\n",
       "\n",
       "    .dataframe tbody tr th {\n",
       "        vertical-align: top;\n",
       "    }\n",
       "\n",
       "    .dataframe thead th {\n",
       "        text-align: right;\n",
       "    }\n",
       "</style>\n",
       "<table border=\"1\" class=\"dataframe\">\n",
       "  <thead>\n",
       "    <tr style=\"text-align: right;\">\n",
       "      <th></th>\n",
       "      <th>pred_2_house</th>\n",
       "      <th>pred_3_house</th>\n",
       "      <th>pred_4_house</th>\n",
       "      <th>pred_5_house</th>\n",
       "      <th>pred_1_unit</th>\n",
       "      <th>pred_2_unit</th>\n",
       "      <th>pred_3_unit</th>\n",
       "    </tr>\n",
       "  </thead>\n",
       "  <tbody>\n",
       "    <tr>\n",
       "      <th>2018-09-30</th>\n",
       "      <td>479972.041923</td>\n",
       "      <td>612065.825302</td>\n",
       "      <td>837099.240520</td>\n",
       "      <td>971765.039424</td>\n",
       "      <td>345500.031248</td>\n",
       "      <td>437058.626326</td>\n",
       "      <td>594053.201777</td>\n",
       "    </tr>\n",
       "    <tr>\n",
       "      <th>2018-12-31</th>\n",
       "      <td>480742.256662</td>\n",
       "      <td>615893.781961</td>\n",
       "      <td>842678.339971</td>\n",
       "      <td>982448.909992</td>\n",
       "      <td>348035.559015</td>\n",
       "      <td>438144.769866</td>\n",
       "      <td>600069.611510</td>\n",
       "    </tr>\n",
       "    <tr>\n",
       "      <th>2019-03-31</th>\n",
       "      <td>479898.003328</td>\n",
       "      <td>612492.979239</td>\n",
       "      <td>837213.546564</td>\n",
       "      <td>977151.989413</td>\n",
       "      <td>348643.440532</td>\n",
       "      <td>437710.843281</td>\n",
       "      <td>598688.070141</td>\n",
       "    </tr>\n",
       "    <tr>\n",
       "      <th>2019-06-30</th>\n",
       "      <td>478626.121995</td>\n",
       "      <td>608750.179123</td>\n",
       "      <td>831070.159754</td>\n",
       "      <td>970820.030316</td>\n",
       "      <td>348943.301600</td>\n",
       "      <td>437051.230716</td>\n",
       "      <td>597268.823190</td>\n",
       "    </tr>\n",
       "    <tr>\n",
       "      <th>2019-09-30</th>\n",
       "      <td>477136.945520</td>\n",
       "      <td>604447.203809</td>\n",
       "      <td>824788.501837</td>\n",
       "      <td>965356.565806</td>\n",
       "      <td>348971.524843</td>\n",
       "      <td>435514.772294</td>\n",
       "      <td>595263.291746</td>\n",
       "    </tr>\n",
       "  </tbody>\n",
       "</table>\n",
       "</div>"
      ],
      "text/plain": [
       "             pred_2_house   pred_3_house   pred_4_house   pred_5_house  \\\n",
       "2018-09-30  479972.041923  612065.825302  837099.240520  971765.039424   \n",
       "2018-12-31  480742.256662  615893.781961  842678.339971  982448.909992   \n",
       "2019-03-31  479898.003328  612492.979239  837213.546564  977151.989413   \n",
       "2019-06-30  478626.121995  608750.179123  831070.159754  970820.030316   \n",
       "2019-09-30  477136.945520  604447.203809  824788.501837  965356.565806   \n",
       "\n",
       "              pred_1_unit    pred_2_unit    pred_3_unit  \n",
       "2018-09-30  345500.031248  437058.626326  594053.201777  \n",
       "2018-12-31  348035.559015  438144.769866  600069.611510  \n",
       "2019-03-31  348643.440532  437710.843281  598688.070141  \n",
       "2019-06-30  348943.301600  437051.230716  597268.823190  \n",
       "2019-09-30  348971.524843  435514.772294  595263.291746  "
      ]
     },
     "execution_count": 420,
     "metadata": {},
     "output_type": "execute_result"
    }
   ],
   "source": [
    "# We specify the number of forecast\n",
    "n_forecast = 5\n",
    "\n",
    "# We specify the start date and ending date of the forecast\n",
    "predict_piv1_ext = fitted_model_piv2.get_prediction(start=len(train_df_piv),end=len(train_df_piv) + n_forecast-1)\n",
    "\n",
    "# We predict the mean price for each feature and rename it\n",
    "predictions_piv1_ext=predict_piv1_ext.predicted_mean\n",
    "\n",
    "predictions_piv1_ext.columns=['pred_2_house','pred_3_house',\n",
    "                          'pred_4_house','pred_5_house',\n",
    "                          'pred_1_unit','pred_2_unit','pred_3_unit']\n",
    "predictions_piv1_ext"
   ]
  },
  {
   "cell_type": "code",
   "execution_count": 421,
   "metadata": {},
   "outputs": [
    {
     "data": {
      "text/html": [
       "<style  type=\"text/css\" >\n",
       "    #T_2a709_ th {\n",
       "          font-size: 10pt;\n",
       "    }#T_2a709_row0_col0,#T_2a709_row0_col1,#T_2a709_row0_col2,#T_2a709_row0_col3,#T_2a709_row0_col4,#T_2a709_row0_col5,#T_2a709_row0_col6{\n",
       "            font-size:  10pt;\n",
       "        }</style><table id=\"T_2a709_\" ><thead>    <tr>        <th class=\"blank level0\" ></th>        <th class=\"col_heading level0 col0\" >House with 2 bedrooms</th>        <th class=\"col_heading level0 col1\" >House with 3 bedrooms</th>        <th class=\"col_heading level0 col2\" >House with 4 bedrooms</th>        <th class=\"col_heading level0 col3\" >House with 5 bedrooms</th>        <th class=\"col_heading level0 col4\" >Unit with 1 bedroom</th>        <th class=\"col_heading level0 col5\" >Unit with 2 bedrooms</th>        <th class=\"col_heading level0 col6\" >Unit with 3 bedrooms</th>    </tr></thead><tbody>\n",
       "                <tr>\n",
       "                        <th id=\"T_2a709_level0_row0\" class=\"row_heading level0 row0\" >VAR</th>\n",
       "                        <td id=\"T_2a709_row0_col0\" class=\"data row0 col0\" >4.800%</td>\n",
       "                        <td id=\"T_2a709_row0_col1\" class=\"data row0 col1\" >2.800%</td>\n",
       "                        <td id=\"T_2a709_row0_col2\" class=\"data row0 col2\" >2.800%</td>\n",
       "                        <td id=\"T_2a709_row0_col3\" class=\"data row0 col3\" >2.100%</td>\n",
       "                        <td id=\"T_2a709_row0_col4\" class=\"data row0 col4\" >3.100%</td>\n",
       "                        <td id=\"T_2a709_row0_col5\" class=\"data row0 col5\" >2.600%</td>\n",
       "                        <td id=\"T_2a709_row0_col6\" class=\"data row0 col6\" >0.700%</td>\n",
       "            </tr>\n",
       "    </tbody></table>"
      ],
      "text/plain": [
       "<pandas.io.formats.style.Styler at 0x167ce2990>"
      ]
     },
     "execution_count": 421,
     "metadata": {},
     "output_type": "execute_result"
    }
   ],
   "source": [
    "comparison_data_first_ext = {'House with 2 bedrooms': ['{:.3f}'.format(round(MAPE(test_df_piv.iloc[:,0],predictions_piv1_ext.iloc[:,0]),1))+'%'\n",
    "                                         ],\n",
    "                    'House with 3 bedrooms': ['{:.3f}'.format(round(MAPE(test_df_piv.iloc[:,1],predictions_piv1_ext.iloc[:,1]),1))+'%'\n",
    "                                         ],\n",
    "                   'House with 4 bedrooms': ['{:.3f}'.format(round(MAPE(test_df_piv.iloc[:,2],predictions_piv1_ext.iloc[:,2]),1))+'%'],\n",
    "                   'House with 5 bedrooms': ['{:.3f}'.format(round(MAPE(test_df_piv.iloc[:,3],predictions_piv1_ext.iloc[:,3]),1))+'%'],\n",
    "                   'Unit with 1 bedroom': ['{:.3f}'.format(round(MAPE(test_df_piv.iloc[:,4],predictions_piv1_ext.iloc[:,4]),1))+'%'\n",
    "                                         ],\n",
    "                   'Unit with 2 bedrooms':['{:.3f}'.format(round(MAPE(test_df_piv.iloc[:,5],predictions_piv1_ext.iloc[:,5]),1))+'%'],\n",
    "                  'Unit with 3 bedrooms':['{:.3f}'.format(round(MAPE(test_df_piv.iloc[:,6],predictions_piv1_ext.iloc[:,6]),1))+'%']}\n",
    "\n",
    "comparison_table_first_Ext = pd.DataFrame(data=comparison_data_first_ext, index=['VAR'])\n",
    "comparison_table_first_Ext.style.set_properties(**{'font-size': '10pt',}).set_table_styles([{'selector': 'th', 'props': [('font-size', '10pt')]}])"
   ]
  },
  {
   "cell_type": "markdown",
   "metadata": {},
   "source": [
    "### Forecast"
   ]
  },
  {
   "cell_type": "markdown",
   "metadata": {},
   "source": [
    "Finally, let's plot the forecast on the 8 following quarters."
   ]
  },
  {
   "cell_type": "code",
   "execution_count": 422,
   "metadata": {},
   "outputs": [
    {
     "data": {
      "text/plain": [
       "Text(0, 0.5, 'Price')"
      ]
     },
     "execution_count": 422,
     "metadata": {},
     "output_type": "execute_result"
    },
    {
     "data": {
      "image/png": "[encoded data removed]",
      "text/plain": [
       "<Figure size 864x360 with 1 Axes>"
      ]
     },
     "metadata": {
      "needs_background": "light"
     },
     "output_type": "display_data"
    }
   ],
   "source": [
    "# Plot the forecast along with the previous values \n",
    "test_vs_pred_piv2.plot(figsize=(12,5))\n",
    "plt.axvline(x='2019-09-30', color = 'black')\n",
    "plt.title('Evolution of the price and forecast on the 8 following quarters with a time lag of 4')\n",
    "plt.xlabel('Years')\n",
    "plt.ylabel('Price')"
   ]
  },
  {
   "cell_type": "markdown",
   "metadata": {},
   "source": [
    "We can observe that compared to the previous model with the lag of 2, having a lag of 4 changes the forecast. It seems that the sale price of the forecaste is still decreasing but less than with the lag of 2. Finally, they are more properties that have a sudden variation during the first forecast quarter. Overall, the forecast seems reliable."
   ]
  },
  {
   "cell_type": "markdown",
   "metadata": {},
   "source": [
    "## For the LSTM"
   ]
  },
  {
   "cell_type": "markdown",
   "metadata": {},
   "source": [
    "We also want to see the impact of the time lag in the LSTM model. To do so, we will change the input in the generator from 2 to 4. Now, the model would consider 4 quarters to predict the sale price for the next quarter. "
   ]
  },
  {
   "cell_type": "markdown",
   "metadata": {},
   "source": [
    "### Process and train the model"
   ]
  },
  {
   "cell_type": "code",
   "execution_count": 416,
   "metadata": {
    "scrolled": true
   },
   "outputs": [
    {
     "name": "stdout",
     "output_type": "stream",
     "text": [
      "Model: \"sequential_19\"\n",
      "_________________________________________________________________\n",
      " Layer (type)                Output Shape              Param #   \n",
      "=================================================================\n",
      " lstm_34 (LSTM)              (None, 4, 100)            43200     \n",
      "                                                                 \n",
      " lstm_35 (LSTM)              (None, 100)               80400     \n",
      "                                                                 \n",
      " dense_16 (Dense)            (None, 7)                 707       \n",
      "                                                                 \n",
      "=================================================================\n",
      "Total params: 124,307\n",
      "Trainable params: 124,307\n",
      "Non-trainable params: 0\n",
      "_________________________________________________________________\n",
      "Epoch 1/50\n",
      "41/41 [==============================] - 4s 7ms/step - loss: 0.2913\n",
      "Epoch 2/50\n",
      "41/41 [==============================] - 0s 7ms/step - loss: 0.1397\n",
      "Epoch 3/50\n",
      "41/41 [==============================] - 0s 7ms/step - loss: 0.1157\n",
      "Epoch 4/50\n",
      "41/41 [==============================] - 0s 6ms/step - loss: 0.1177\n",
      "Epoch 5/50\n",
      "41/41 [==============================] - 0s 7ms/step - loss: 0.0938\n",
      "Epoch 6/50\n",
      "41/41 [==============================] - 0s 11ms/step - loss: 0.0836\n",
      "Epoch 7/50\n",
      "41/41 [==============================] - 0s 8ms/step - loss: 0.0754\n",
      "Epoch 8/50\n",
      "41/41 [==============================] - 0s 8ms/step - loss: 0.0767\n",
      "Epoch 9/50\n",
      "41/41 [==============================] - 0s 9ms/step - loss: 0.0713\n",
      "Epoch 10/50\n",
      "41/41 [==============================] - 0s 10ms/step - loss: 0.0674\n",
      "Epoch 11/50\n",
      "41/41 [==============================] - 0s 9ms/step - loss: 0.0709\n",
      "Epoch 12/50\n",
      "41/41 [==============================] - 0s 9ms/step - loss: 0.0618\n",
      "Epoch 13/50\n",
      "41/41 [==============================] - 0s 8ms/step - loss: 0.0589\n",
      "Epoch 14/50\n",
      "41/41 [==============================] - 0s 7ms/step - loss: 0.0592\n",
      "Epoch 15/50\n",
      "41/41 [==============================] - 0s 7ms/step - loss: 0.0584\n",
      "Epoch 16/50\n",
      "41/41 [==============================] - 0s 8ms/step - loss: 0.0603\n",
      "Epoch 17/50\n",
      "41/41 [==============================] - 0s 7ms/step - loss: 0.0545\n",
      "Epoch 18/50\n",
      "41/41 [==============================] - 0s 8ms/step - loss: 0.0508\n",
      "Epoch 19/50\n",
      "41/41 [==============================] - 0s 7ms/step - loss: 0.0485\n",
      "Epoch 20/50\n",
      "41/41 [==============================] - 0s 8ms/step - loss: 0.0518\n",
      "Epoch 21/50\n",
      "41/41 [==============================] - 0s 7ms/step - loss: 0.0533\n",
      "Epoch 22/50\n",
      "41/41 [==============================] - 0s 7ms/step - loss: 0.0484\n",
      "Epoch 23/50\n",
      "41/41 [==============================] - 0s 9ms/step - loss: 0.0497\n",
      "Epoch 24/50\n",
      "41/41 [==============================] - 0s 9ms/step - loss: 0.0532\n",
      "Epoch 25/50\n",
      "41/41 [==============================] - 0s 11ms/step - loss: 0.0452\n",
      "Epoch 26/50\n",
      "41/41 [==============================] - 0s 11ms/step - loss: 0.0487\n",
      "Epoch 27/50\n",
      "41/41 [==============================] - 0s 7ms/step - loss: 0.0498\n",
      "Epoch 28/50\n",
      "41/41 [==============================] - 0s 10ms/step - loss: 0.0585\n",
      "Epoch 29/50\n",
      "41/41 [==============================] - 0s 9ms/step - loss: 0.0473\n",
      "Epoch 30/50\n",
      "41/41 [==============================] - 0s 8ms/step - loss: 0.0509\n",
      "Epoch 31/50\n",
      "41/41 [==============================] - 0s 8ms/step - loss: 0.0422\n",
      "Epoch 32/50\n",
      "41/41 [==============================] - 0s 8ms/step - loss: 0.0398\n",
      "Epoch 33/50\n",
      "41/41 [==============================] - 0s 9ms/step - loss: 0.0383\n",
      "Epoch 34/50\n",
      "41/41 [==============================] - 0s 8ms/step - loss: 0.0392\n",
      "Epoch 35/50\n",
      "41/41 [==============================] - 0s 9ms/step - loss: 0.0440\n",
      "Epoch 36/50\n",
      "41/41 [==============================] - 0s 7ms/step - loss: 0.0395\n",
      "Epoch 37/50\n",
      "41/41 [==============================] - 0s 9ms/step - loss: 0.0423\n",
      "Epoch 38/50\n",
      "41/41 [==============================] - 0s 8ms/step - loss: 0.0540\n",
      "Epoch 39/50\n",
      "41/41 [==============================] - 0s 7ms/step - loss: 0.0503\n",
      "Epoch 40/50\n",
      "41/41 [==============================] - 0s 8ms/step - loss: 0.0407\n",
      "Epoch 41/50\n",
      "41/41 [==============================] - 0s 8ms/step - loss: 0.0398\n",
      "Epoch 42/50\n",
      "41/41 [==============================] - 0s 7ms/step - loss: 0.0445\n",
      "Epoch 43/50\n",
      "41/41 [==============================] - 0s 7ms/step - loss: 0.0373\n",
      "Epoch 44/50\n",
      "41/41 [==============================] - 0s 8ms/step - loss: 0.0347\n",
      "Epoch 45/50\n",
      "41/41 [==============================] - 0s 10ms/step - loss: 0.0330\n",
      "Epoch 46/50\n",
      "41/41 [==============================] - 0s 8ms/step - loss: 0.0448\n",
      "Epoch 47/50\n",
      "41/41 [==============================] - 0s 8ms/step - loss: 0.0330\n",
      "Epoch 48/50\n",
      "41/41 [==============================] - 0s 8ms/step - loss: 0.0352\n",
      "Epoch 49/50\n",
      "41/41 [==============================] - 0s 7ms/step - loss: 0.0358\n",
      "Epoch 50/50\n",
      "41/41 [==============================] - 0s 7ms/step - loss: 0.0340\n"
     ]
    },
    {
     "data": {
      "text/plain": [
       "<keras.callbacks.History at 0x160a43590>"
      ]
     },
     "execution_count": 416,
     "metadata": {},
     "output_type": "execute_result"
    }
   ],
   "source": [
    "# Split the training and testing set to the last 5 quarters \n",
    "train_df_piv2=df_piv[:-5]\n",
    "test_df_piv2=df_piv[-5:]\n",
    "\n",
    "# Standardize the train and test set\n",
    "from sklearn.preprocessing import MinMaxScaler\n",
    "\n",
    "scaler_piv2 = MinMaxScaler()\n",
    "scaler_piv2.fit(train_df_piv2)\n",
    "scaled_train_piv2 = scaler_piv2.transform(train_df_piv2)\n",
    "scaled_test_piv2 = scaler_piv2.transform(test_df_piv2)\n",
    "\n",
    "# The input in the generator will be 4 quarters. We also specify the number of inputs.\n",
    "n_input = 4\n",
    "n_features = 7\n",
    "generator_piv2 = TimeseriesGenerator(scaled_train_piv2, scaled_train_piv2, length=n_input, batch_size=1)\n",
    "\n",
    "\n",
    "# Build LSTM model\n",
    "model_lstm_piv2 = Sequential()\n",
    "model_lstm_piv2.add(LSTM(100, activation='relu',return_sequences=True, input_shape=(n_input, n_features)))\n",
    "model_lstm_piv2.add(LSTM(100, activation='relu'))\n",
    "model_lstm_piv2.add(Dense(7))\n",
    "model_lstm_piv2.compile(optimizer='adam', loss='mae')\n",
    "\n",
    "# Let's look to the model\n",
    "model_lstm_piv2.summary()\n",
    "\n",
    "\n",
    "# Fit model with 50 epochs\n",
    "model_lstm_piv2.fit(generator_piv2,epochs=50)"
   ]
  },
  {
   "cell_type": "markdown",
   "metadata": {},
   "source": [
    "### Evaluate the model"
   ]
  },
  {
   "cell_type": "markdown",
   "metadata": {},
   "source": [
    "We can evaluate this new model on the test set by using the MAPE metric."
   ]
  },
  {
   "cell_type": "code",
   "execution_count": 424,
   "metadata": {},
   "outputs": [
    {
     "data": {
      "text/html": [
       "<div>\n",
       "<style scoped>\n",
       "    .dataframe tbody tr th:only-of-type {\n",
       "        vertical-align: middle;\n",
       "    }\n",
       "\n",
       "    .dataframe tbody tr th {\n",
       "        vertical-align: top;\n",
       "    }\n",
       "\n",
       "    .dataframe thead th {\n",
       "        text-align: right;\n",
       "    }\n",
       "</style>\n",
       "<table border=\"1\" class=\"dataframe\">\n",
       "  <thead>\n",
       "    <tr style=\"text-align: right;\">\n",
       "      <th>bedrooms</th>\n",
       "      <th>bed_2_house</th>\n",
       "      <th>bed_3_house</th>\n",
       "      <th>bed_4_house</th>\n",
       "      <th>bed_5_house</th>\n",
       "      <th>bed_1_unit</th>\n",
       "      <th>bed_2_unit</th>\n",
       "      <th>bed_3_unit</th>\n",
       "      <th>pred_2_house</th>\n",
       "      <th>pred_3_house</th>\n",
       "      <th>pred_4_house</th>\n",
       "      <th>pred_5_house</th>\n",
       "      <th>pred_1_unit</th>\n",
       "      <th>pred_2_unit</th>\n",
       "      <th>pred_3_unit</th>\n",
       "    </tr>\n",
       "    <tr>\n",
       "      <th>saledate</th>\n",
       "      <th></th>\n",
       "      <th></th>\n",
       "      <th></th>\n",
       "      <th></th>\n",
       "      <th></th>\n",
       "      <th></th>\n",
       "      <th></th>\n",
       "      <th></th>\n",
       "      <th></th>\n",
       "      <th></th>\n",
       "      <th></th>\n",
       "      <th></th>\n",
       "      <th></th>\n",
       "      <th></th>\n",
       "    </tr>\n",
       "  </thead>\n",
       "  <tbody>\n",
       "    <tr>\n",
       "      <th>2018-09-30</th>\n",
       "      <td>504318.0</td>\n",
       "      <td>624602.0</td>\n",
       "      <td>830727.0</td>\n",
       "      <td>1007114.0</td>\n",
       "      <td>339220.0</td>\n",
       "      <td>426970.0</td>\n",
       "      <td>603281.0</td>\n",
       "      <td>515179.906730</td>\n",
       "      <td>628249.181704</td>\n",
       "      <td>851752.737844</td>\n",
       "      <td>1.018596e+06</td>\n",
       "      <td>339588.866004</td>\n",
       "      <td>431975.866064</td>\n",
       "      <td>601647.604881</td>\n",
       "    </tr>\n",
       "    <tr>\n",
       "      <th>2018-12-31</th>\n",
       "      <td>506001.0</td>\n",
       "      <td>626608.0</td>\n",
       "      <td>820924.0</td>\n",
       "      <td>1002323.0</td>\n",
       "      <td>339350.0</td>\n",
       "      <td>426936.0</td>\n",
       "      <td>601167.0</td>\n",
       "      <td>516979.995448</td>\n",
       "      <td>632275.553670</td>\n",
       "      <td>859719.864430</td>\n",
       "      <td>1.023605e+06</td>\n",
       "      <td>340969.604552</td>\n",
       "      <td>432390.236933</td>\n",
       "      <td>602024.149478</td>\n",
       "    </tr>\n",
       "    <tr>\n",
       "      <th>2019-03-31</th>\n",
       "      <td>496133.0</td>\n",
       "      <td>628423.0</td>\n",
       "      <td>811121.0</td>\n",
       "      <td>998136.0</td>\n",
       "      <td>337838.0</td>\n",
       "      <td>426669.0</td>\n",
       "      <td>605637.0</td>\n",
       "      <td>518615.972717</td>\n",
       "      <td>636510.142129</td>\n",
       "      <td>867134.131268</td>\n",
       "      <td>1.028301e+06</td>\n",
       "      <td>342408.101677</td>\n",
       "      <td>432810.984381</td>\n",
       "      <td>602374.826382</td>\n",
       "    </tr>\n",
       "    <tr>\n",
       "      <th>2019-06-30</th>\n",
       "      <td>500158.0</td>\n",
       "      <td>630814.0</td>\n",
       "      <td>803925.0</td>\n",
       "      <td>995363.0</td>\n",
       "      <td>336551.0</td>\n",
       "      <td>425659.0</td>\n",
       "      <td>599339.0</td>\n",
       "      <td>520554.302667</td>\n",
       "      <td>641590.516268</td>\n",
       "      <td>875831.369560</td>\n",
       "      <td>1.033649e+06</td>\n",
       "      <td>344166.120534</td>\n",
       "      <td>433439.649502</td>\n",
       "      <td>602829.152328</td>\n",
       "    </tr>\n",
       "    <tr>\n",
       "      <th>2019-09-30</th>\n",
       "      <td>510712.0</td>\n",
       "      <td>631875.0</td>\n",
       "      <td>791446.0</td>\n",
       "      <td>970268.0</td>\n",
       "      <td>335449.0</td>\n",
       "      <td>424412.0</td>\n",
       "      <td>597884.0</td>\n",
       "      <td>523343.557168</td>\n",
       "      <td>648876.050962</td>\n",
       "      <td>888350.265902</td>\n",
       "      <td>1.041672e+06</td>\n",
       "      <td>346487.034672</td>\n",
       "      <td>434238.430470</td>\n",
       "      <td>603461.951832</td>\n",
       "    </tr>\n",
       "  </tbody>\n",
       "</table>\n",
       "</div>"
      ],
      "text/plain": [
       "bedrooms    bed_2_house  bed_3_house  bed_4_house  bed_5_house  bed_1_unit  \\\n",
       "saledate                                                                     \n",
       "2018-09-30     504318.0     624602.0     830727.0    1007114.0    339220.0   \n",
       "2018-12-31     506001.0     626608.0     820924.0    1002323.0    339350.0   \n",
       "2019-03-31     496133.0     628423.0     811121.0     998136.0    337838.0   \n",
       "2019-06-30     500158.0     630814.0     803925.0     995363.0    336551.0   \n",
       "2019-09-30     510712.0     631875.0     791446.0     970268.0    335449.0   \n",
       "\n",
       "bedrooms    bed_2_unit  bed_3_unit   pred_2_house   pred_3_house  \\\n",
       "saledate                                                           \n",
       "2018-09-30    426970.0    603281.0  515179.906730  628249.181704   \n",
       "2018-12-31    426936.0    601167.0  516979.995448  632275.553670   \n",
       "2019-03-31    426669.0    605637.0  518615.972717  636510.142129   \n",
       "2019-06-30    425659.0    599339.0  520554.302667  641590.516268   \n",
       "2019-09-30    424412.0    597884.0  523343.557168  648876.050962   \n",
       "\n",
       "bedrooms     pred_4_house  pred_5_house    pred_1_unit    pred_2_unit  \\\n",
       "saledate                                                                \n",
       "2018-09-30  851752.737844  1.018596e+06  339588.866004  431975.866064   \n",
       "2018-12-31  859719.864430  1.023605e+06  340969.604552  432390.236933   \n",
       "2019-03-31  867134.131268  1.028301e+06  342408.101677  432810.984381   \n",
       "2019-06-30  875831.369560  1.033649e+06  344166.120534  433439.649502   \n",
       "2019-09-30  888350.265902  1.041672e+06  346487.034672  434238.430470   \n",
       "\n",
       "bedrooms      pred_3_unit  \n",
       "saledate                   \n",
       "2018-09-30  601647.604881  \n",
       "2018-12-31  602024.149478  \n",
       "2019-03-31  602374.826382  \n",
       "2019-06-30  602829.152328  \n",
       "2019-09-30  603461.951832  "
      ]
     },
     "execution_count": 424,
     "metadata": {},
     "output_type": "execute_result"
    }
   ],
   "source": [
    "# The list that would take the values of the predictions\n",
    "test_predictions_piv_ext = []\n",
    "\n",
    "# Each batch is needed to predict the following quarter\n",
    "first_eval_batch_piv_ext = scaled_train_piv[-n_input:]\n",
    "current_batch_piv_ext = first_eval_batch_piv_ext.reshape((1, n_input, n_features))\n",
    "\n",
    "for i in range(len(test_df_piv)):\n",
    "    \n",
    "    # Get the prediction value from each batch\n",
    "    current_pred_piv_ext = model_lstm_piv2.predict(current_batch_piv_ext)[0]\n",
    "    \n",
    "    # Append the prediction into the list\n",
    "    test_predictions_piv_ext.append(current_pred_piv_ext) \n",
    "    \n",
    "    # Use the prediction to update the batch and remove the first value\n",
    "    current_batch_piv_ext = np.append(current_batch_piv_ext[:,1:,:],[[current_pred_piv_ext]],axis=1)\n",
    "    \n",
    "test_predictions_piv_ext\n",
    "\n",
    "# Inverse the transformation of the scaler to get the real value of the price \n",
    "true_predictions_piv_ext = scaler_piv.inverse_transform(test_predictions_piv_ext)\n",
    "\n",
    "# Rename the dataframe \n",
    "pred_piv_ext = pd.DataFrame(true_predictions_piv_ext, columns = ['pred_2_house','pred_3_house',\n",
    "                                                         'pred_4_house','pred_5_house',\n",
    "                                                         'pred_1_unit','pred_2_unit','pred_3_unit'])\n",
    "test_df_piv_ext = test_df_piv.copy()\n",
    "# Update the test set to compare with the prediction\n",
    "test_df_piv_ext['pred_2_house'] = pred_piv_ext['pred_2_house'].values\n",
    "test_df_piv_ext['pred_3_house'] = pred_piv_ext['pred_3_house'].values\n",
    "test_df_piv_ext['pred_4_house'] = pred_piv_ext['pred_4_house'].values\n",
    "test_df_piv_ext['pred_5_house'] = pred_piv_ext['pred_5_house'].values\n",
    "test_df_piv_ext['pred_1_unit'] = pred_piv_ext['pred_1_unit'].values\n",
    "test_df_piv_ext['pred_2_unit'] = pred_piv_ext['pred_2_unit'].values\n",
    "test_df_piv_ext['pred_3_unit'] = pred_piv_ext['pred_3_unit'].values\n",
    "\n",
    "test_df_piv_ext"
   ]
  },
  {
   "cell_type": "code",
   "execution_count": 425,
   "metadata": {
    "scrolled": true
   },
   "outputs": [
    {
     "data": {
      "text/html": [
       "<style  type=\"text/css\" >\n",
       "    #T_98ec8_ th {\n",
       "          font-size: 10pt;\n",
       "    }#T_98ec8_row0_col0,#T_98ec8_row0_col1,#T_98ec8_row0_col2,#T_98ec8_row0_col3,#T_98ec8_row0_col4,#T_98ec8_row0_col5,#T_98ec8_row0_col6{\n",
       "            font-size:  10pt;\n",
       "        }</style><table id=\"T_98ec8_\" ><thead>    <tr>        <th class=\"blank level0\" ></th>        <th class=\"col_heading level0 col0\" >House with 2 bedrooms</th>        <th class=\"col_heading level0 col1\" >House with 3 bedrooms</th>        <th class=\"col_heading level0 col2\" >House with 4 bedrooms</th>        <th class=\"col_heading level0 col3\" >House with 5 bedrooms</th>        <th class=\"col_heading level0 col4\" >Unit with 1 bedroom</th>        <th class=\"col_heading level0 col5\" >Unit with 2 bedrooms</th>        <th class=\"col_heading level0 col6\" >Unit with 3 bedrooms</th>    </tr></thead><tbody>\n",
       "                <tr>\n",
       "                        <th id=\"T_98ec8_level0_row0\" class=\"row_heading level0 row0\" >LSTM</th>\n",
       "                        <td id=\"T_98ec8_row0_col0\" class=\"data row0 col0\" >3.1000%</td>\n",
       "                        <td id=\"T_98ec8_row0_col1\" class=\"data row0 col1\" >1.4000%</td>\n",
       "                        <td id=\"T_98ec8_row0_col2\" class=\"data row0 col2\" >7.1000%</td>\n",
       "                        <td id=\"T_98ec8_row0_col3\" class=\"data row0 col3\" >3.5000%</td>\n",
       "                        <td id=\"T_98ec8_row0_col4\" class=\"data row0 col4\" >1.5000%</td>\n",
       "                        <td id=\"T_98ec8_row0_col5\" class=\"data row0 col5\" >1.6000%</td>\n",
       "                        <td id=\"T_98ec8_row0_col6\" class=\"data row0 col6\" >0.5000%</td>\n",
       "            </tr>\n",
       "    </tbody></table>"
      ],
      "text/plain": [
       "<pandas.io.formats.style.Styler at 0x16814e490>"
      ]
     },
     "execution_count": 425,
     "metadata": {},
     "output_type": "execute_result"
    }
   ],
   "source": [
    "comparison_data_sec_ext = {'House with 2 bedrooms': [\n",
    "                                         '{:.4f}'.format(round(MAPE(test_df_piv.iloc[:,0],test_df_piv_ext['pred_2_house']),1))+'%'],\n",
    "                    'House with 3 bedrooms': [\n",
    "                                         '{:.4f}'.format(round(MAPE(test_df_piv.iloc[:,1],test_df_piv_ext['pred_3_house']),1))+'%'],\n",
    "                   'House with 4 bedrooms': [\n",
    "                                         '{:.4f}'.format(round(MAPE(test_df_piv.iloc[:,2],test_df_piv_ext['pred_4_house']),1))+'%'],\n",
    "                   'House with 5 bedrooms': [\n",
    "                                         '{:.4f}'.format(round(MAPE(test_df_piv.iloc[:,3],test_df_piv_ext['pred_5_house']),1))+'%'],\n",
    "                   'Unit with 1 bedroom': [\n",
    "                                         '{:.4f}'.format(round(MAPE(test_df_piv.iloc[:,4],test_df_piv_ext['pred_1_unit']),1))+'%'],\n",
    "                   'Unit with 2 bedrooms':[\n",
    "                                         '{:.4f}'.format(round(MAPE(test_df_piv.iloc[:,5],test_df_piv_ext['pred_2_unit']),1))+'%'],\n",
    "                  'Unit with 3 bedrooms':[\n",
    "                                         '{:.4f}'.format(round(MAPE(test_df_piv.iloc[:,6],test_df_piv_ext['pred_3_unit']),1))+'%']}\n",
    "\n",
    "comparison_table_sec_ext = pd.DataFrame(data=comparison_data_sec_ext, index=['LSTM'])\n",
    "comparison_table_sec_ext.style.set_properties(**{'font-size': '10pt',}).set_table_styles([{'selector': 'th', 'props': [('font-size', '10pt')]}])"
   ]
  },
  {
   "cell_type": "markdown",
   "metadata": {},
   "source": [
    "### Forecast"
   ]
  },
  {
   "cell_type": "markdown",
   "metadata": {},
   "source": [
    "Now, we want to visualize the evolution and the forecast of the price when we use this time lag of 4 quarters."
   ]
  },
  {
   "cell_type": "code",
   "execution_count": 429,
   "metadata": {},
   "outputs": [],
   "source": [
    "# Standardize the all dataset\n",
    "scaler_forecast_piv2 = MinMaxScaler()\n",
    "scaler_forecast_piv2.fit(df_piv)\n",
    "scaled_df_piv2 = scaler_forecast_piv2.transform(df_piv)\n",
    "\n",
    "# List that would take the values of the forecast\n",
    "test_predictions_lstm_forecast_piv2 = []\n",
    "\n",
    "first_eval_batch_lstm_forecast_piv2 = scaled_df_piv2[-n_input:]\n",
    "current_batch_lstm_forecast_piv2 = first_eval_batch_lstm_forecast_piv2.reshape((1, n_input, n_features))\n",
    "\n",
    "# For the 8 next quarters, we are predicting the price\n",
    "for i in range(8):\n",
    "    \n",
    "    # Get the prediction value from the batch\n",
    "    current_pred_lstm_forecast_piv2 = model_lstm_piv2.predict(current_batch_lstm_forecast_piv2)[0]\n",
    "    \n",
    "    # Append the prediction into the list\n",
    "    test_predictions_lstm_forecast_piv2.append(current_pred_lstm_forecast_piv2) \n",
    "    \n",
    "    # Use the prediction to update the batch and remove the first value\n",
    "    current_batch_lstm_forecast_piv2 = np.append(current_batch_lstm_forecast_piv2[:,1:,:],[[current_pred_lstm_forecast_piv2]],axis=1)"
   ]
  },
  {
   "cell_type": "code",
   "execution_count": 430,
   "metadata": {},
   "outputs": [],
   "source": [
    "# Inverse the transformation\n",
    "true_predictions_lstm_forecast_piv2 = scaler_forecast_piv2.inverse_transform(test_predictions_lstm_forecast_piv2)\n",
    "\n",
    "\n",
    "# The dataframe of the prediction\n",
    "pred_lstm_forecast_piv2 = pd.DataFrame(true_predictions_lstm_forecast_piv2, columns = df_piv.columns)\n",
    "\n",
    "# We specify the 8 next quarters date\n",
    "pred_lstm_forecast_piv2['date'] = date_piv\n",
    "\n",
    "# We set the index to the date as the df_house dataframe\n",
    "pred_lstm_forecast_piv2 = pred_lstm_forecast_piv2.set_index('date')\n",
    "\n",
    "# Finally, we concatenate the dataframes \n",
    "df_cop_piv2 = df_piv.copy()\n",
    "test_vs_pred_lstm_forecast_piv2=pd.concat([df_cop_piv2,pred_lstm_forecast_piv2],axis=0)\n"
   ]
  },
  {
   "cell_type": "code",
   "execution_count": 431,
   "metadata": {},
   "outputs": [
    {
     "data": {
      "text/plain": [
       "Text(0, 0.5, 'Sale Price')"
      ]
     },
     "execution_count": 431,
     "metadata": {},
     "output_type": "execute_result"
    },
    {
     "data": {
      "image/png": "[encoded data removed]",
      "text/plain": [
       "<Figure size 864x360 with 1 Axes>"
      ]
     },
     "metadata": {
      "needs_background": "light"
     },
     "output_type": "display_data"
    }
   ],
   "source": [
    "# Plot the forecast\n",
    "test_vs_pred_lstm_forecast_piv2.plot(figsize=(12,5))\n",
    "plt.axvline(x='2019-09-30', color = 'black')\n",
    "plt.title('Evolution of the unit price and forecast on the 8 following quarters with 4 quarters input generator')\n",
    "plt.xlabel('Years')\n",
    "plt.ylabel('Sale Price')"
   ]
  },
  {
   "cell_type": "markdown",
   "metadata": {},
   "source": [
    "We can observe that now, the sale price of the forecast tends to increase and not decrease. Indeed, by taking 4 previous quarters as an input, the model is not more reliable in the short term when the general trend changes. Therefore, the VARMX model would outperform the LSTM in this case."
   ]
  },
  {
   "cell_type": "markdown",
   "metadata": {},
   "source": [
    "## Comparison"
   ]
  },
  {
   "cell_type": "markdown",
   "metadata": {},
   "source": [
    "Let's compare the MAPE of the two models"
   ]
  },
  {
   "cell_type": "code",
   "execution_count": 428,
   "metadata": {},
   "outputs": [
    {
     "data": {
      "text/html": [
       "<style  type=\"text/css\" >\n",
       "    #T_1898a_ th {\n",
       "          font-size: 10pt;\n",
       "    }#T_1898a_row0_col0,#T_1898a_row0_col1,#T_1898a_row0_col2,#T_1898a_row0_col3,#T_1898a_row0_col4,#T_1898a_row0_col5,#T_1898a_row0_col6,#T_1898a_row1_col0,#T_1898a_row1_col1,#T_1898a_row1_col2,#T_1898a_row1_col3,#T_1898a_row1_col4,#T_1898a_row1_col5,#T_1898a_row1_col6{\n",
       "            font-size:  10pt;\n",
       "        }</style><table id=\"T_1898a_\" ><thead>    <tr>        <th class=\"blank level0\" ></th>        <th class=\"col_heading level0 col0\" >House with 2 bedrooms</th>        <th class=\"col_heading level0 col1\" >House with 3 bedrooms</th>        <th class=\"col_heading level0 col2\" >House with 4 bedrooms</th>        <th class=\"col_heading level0 col3\" >House with 5 bedrooms</th>        <th class=\"col_heading level0 col4\" >Unit with 1 bedroom</th>        <th class=\"col_heading level0 col5\" >Unit with 2 bedrooms</th>        <th class=\"col_heading level0 col6\" >Unit with 3 bedrooms</th>    </tr></thead><tbody>\n",
       "                <tr>\n",
       "                        <th id=\"T_1898a_level0_row0\" class=\"row_heading level0 row0\" >VAR</th>\n",
       "                        <td id=\"T_1898a_row0_col0\" class=\"data row0 col0\" >4.800%</td>\n",
       "                        <td id=\"T_1898a_row0_col1\" class=\"data row0 col1\" >2.800%</td>\n",
       "                        <td id=\"T_1898a_row0_col2\" class=\"data row0 col2\" >2.800%</td>\n",
       "                        <td id=\"T_1898a_row0_col3\" class=\"data row0 col3\" >2.100%</td>\n",
       "                        <td id=\"T_1898a_row0_col4\" class=\"data row0 col4\" >3.100%</td>\n",
       "                        <td id=\"T_1898a_row0_col5\" class=\"data row0 col5\" >2.600%</td>\n",
       "                        <td id=\"T_1898a_row0_col6\" class=\"data row0 col6\" >0.700%</td>\n",
       "            </tr>\n",
       "            <tr>\n",
       "                        <th id=\"T_1898a_level0_row1\" class=\"row_heading level0 row1\" >LSTM</th>\n",
       "                        <td id=\"T_1898a_row1_col0\" class=\"data row1 col0\" >3.1000%</td>\n",
       "                        <td id=\"T_1898a_row1_col1\" class=\"data row1 col1\" >1.4000%</td>\n",
       "                        <td id=\"T_1898a_row1_col2\" class=\"data row1 col2\" >7.1000%</td>\n",
       "                        <td id=\"T_1898a_row1_col3\" class=\"data row1 col3\" >3.5000%</td>\n",
       "                        <td id=\"T_1898a_row1_col4\" class=\"data row1 col4\" >1.5000%</td>\n",
       "                        <td id=\"T_1898a_row1_col5\" class=\"data row1 col5\" >1.6000%</td>\n",
       "                        <td id=\"T_1898a_row1_col6\" class=\"data row1 col6\" >0.5000%</td>\n",
       "            </tr>\n",
       "    </tbody></table>"
      ],
      "text/plain": [
       "<pandas.io.formats.style.Styler at 0x168125210>"
      ]
     },
     "execution_count": 428,
     "metadata": {},
     "output_type": "execute_result"
    }
   ],
   "source": [
    "# Comparaison\n",
    "\n",
    "\n",
    "comparison_data_ext = {'House with 2 bedrooms': ['{:.3f}'.format(round(MAPE(test_df_piv.iloc[:,0],predictions_piv1_ext.iloc[:,0]),1))+'%',\n",
    "                                         '{:.4f}'.format(round(MAPE(test_df_piv.iloc[:,0],test_df_piv_ext['pred_2_house']),1))+'%'],\n",
    "                    'House with 3 bedrooms': ['{:.3f}'.format(round(MAPE(test_df_piv.iloc[:,1],predictions_piv1_ext.iloc[:,1]),1))+'%',\n",
    "                                         '{:.4f}'.format(round(MAPE(test_df_piv.iloc[:,1],test_df_piv_ext['pred_3_house']),1))+'%'],\n",
    "                   'House with 4 bedrooms': ['{:.3f}'.format(round(MAPE(test_df_piv.iloc[:,2],predictions_piv1_ext.iloc[:,2]),1))+'%',\n",
    "                                         '{:.4f}'.format(round(MAPE(test_df_piv.iloc[:,2],test_df_piv_ext['pred_4_house']),1))+'%'],\n",
    "                   'House with 5 bedrooms': ['{:.3f}'.format(round(MAPE(test_df_piv.iloc[:,3],predictions_piv1_ext.iloc[:,3]),1))+'%',\n",
    "                                         '{:.4f}'.format(round(MAPE(test_df_piv.iloc[:,3],test_df_piv_ext['pred_5_house']),1))+'%'],\n",
    "                   'Unit with 1 bedroom': ['{:.3f}'.format(round(MAPE(test_df_piv.iloc[:,4],predictions_piv1_ext.iloc[:,4]),1))+'%',\n",
    "                                         '{:.4f}'.format(round(MAPE(test_df_piv.iloc[:,4],test_df_piv_ext['pred_1_unit']),1))+'%'],\n",
    "                   'Unit with 2 bedrooms':['{:.3f}'.format(round(MAPE(test_df_piv.iloc[:,5],predictions_piv1_ext.iloc[:,5]),1))+'%',\n",
    "                                         '{:.4f}'.format(round(MAPE(test_df_piv.iloc[:,5],test_df_piv_ext['pred_2_unit']),1))+'%'],\n",
    "                  'Unit with 3 bedrooms':['{:.3f}'.format(round(MAPE(test_df_piv.iloc[:,6],predictions_piv1_ext.iloc[:,6]),1))+'%',\n",
    "                                         '{:.4f}'.format(round(MAPE(test_df_piv.iloc[:,6],test_df_piv_ext['pred_3_unit']),1))+'%']}\n",
    "\n",
    "comparison_table_ext = pd.DataFrame(data=comparison_data_ext, index=['VAR' , 'LSTM'])\n",
    "comparison_table_ext.style.set_properties(**{'font-size': '10pt',}).set_table_styles([{'selector': 'th', 'props': [('font-size', '10pt')]}])"
   ]
  },
  {
   "cell_type": "code",
   "execution_count": null,
   "metadata": {},
   "outputs": [],
   "source": []
  }
 ],
 "metadata": {
  "kernelspec": {
   "display_name": "Python 3",
   "language": "python",
   "name": "python3"
  },
  "language_info": {
   "codemirror_mode": {
    "name": "ipython",
    "version": 3
   },
   "file_extension": ".py",
   "mimetype": "text/x-python",
   "name": "python",
   "nbconvert_exporter": "python",
   "pygments_lexer": "ipython3",
   "version": "3.7.6"
  }
 },
 "nbformat": 4,
 "nbformat_minor": 4
}
